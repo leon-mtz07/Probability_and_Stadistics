{
 "cells": [
  {
   "metadata": {},
   "cell_type": "markdown",
   "source": [
    "# Estadística\n",
    "\n",
    "Es un conjunto de procedimientos que sirven para organizar y resumir datos originados en la observación y dar respuesta a ciertas preguntas.\n",
    "\n",
    "Para su estudio la estadística se divide en dos ramas: Estadística Inductiva o Inferencial que trata las condiciones bajo las cuales las conclusiones o inferencias son válidas y Estadística Descriptiva o Deductiva que trata de describir y analizar a un grupo dado sin sacar conclusiones o inferencias"
   ],
   "id": "35e6ea6f8f560f05"
  },
  {
   "metadata": {},
   "cell_type": "markdown",
   "source": [
    "## Estadística Descriptiva\n",
    "\n",
    "Se dedica a los métodos de recolección, descripción, visualización y resumen de datos originados a partir de los fenómenos en estudio. Los Datos pueden ser resumidos númerica o gráficamente. Ejemplos básicos de descriptores numéricos son la media y la desviación estándar. Resúmenes gráficos incluyen varios tipos de figuras y gráficos."
   ],
   "id": "2e812e6f4a10cab"
  },
  {
   "metadata": {},
   "cell_type": "markdown",
   "source": [
    "## Estadística Inferencial o Inferencia Estadística\n",
    "\n",
    "Estudia cómo sacar conclusiones generales para toda la población a partir del estudio de una muestra, y el grado de fiabilidad o significación de los resultados obtenidos. Su objetivo es obtener conclusiones útiles para hacer deducciones sobre una totalidad, basándose en la información númerica de la muestra"
   ],
   "id": "51f6119d874f2ba8"
  },
  {
   "metadata": {},
   "cell_type": "markdown",
   "source": "Análisis de mercado. Las empresas a menudo contratan otras empresas especializadas en marketing para que analicen sus nichos de mercado a través de diversas herramientas estadísticas y diferenciales, como encuestas y focus groups, a partir de las cuales deducir qué productos prefiere la gente y en qué contexto, etc.",
   "id": "29b045dcc4468a74"
  },
  {
   "metadata": {},
   "cell_type": "markdown",
   "source": "La **diferencia** entre ambas, es que, la estadística descriptiva no se preocupa por conclusiones, interpretaciones ni hipótesis a partir de lo reflejado por la muestra, sino por los métodos idóneos para la organización y presentación de la información que contiene, y evidenciar sus características esenciales.",
   "id": "216aaca03f80a10b"
  },
  {
   "metadata": {},
   "cell_type": "markdown",
   "source": [
    "### Tablas estadísticas\n",
    "\n",
    "Efectuada la toma de datos (recolección) hay que contar y clasificarlos (ordenación) de manera clara y significativa para su fácil majeno, para ello se recurre a la tabla estadística y su gráfico, de estos dos la tabla es más importante pues es la base de la construcción y del gráfico y de su análisis"
   ],
   "id": "312887d067f583c4"
  },
  {
   "metadata": {
    "ExecuteTime": {
     "end_time": "2025-02-09T00:01:17.768774Z",
     "start_time": "2025-02-09T00:01:17.765216Z"
    }
   },
   "cell_type": "code",
   "source": [
    "from itertools import count\n",
    "\n",
    "# We import libraries\n",
    "import pandas as pd\n",
    "import numpy as np"
   ],
   "id": "2c0d5de2ff4d5a2e",
   "outputs": [],
   "execution_count": 53
  },
  {
   "metadata": {},
   "cell_type": "markdown",
   "source": "Ejemplo",
   "id": "3f5f7c885f993868"
  },
  {
   "metadata": {
    "ExecuteTime": {
     "end_time": "2025-02-09T00:01:17.789513Z",
     "start_time": "2025-02-09T00:01:17.780177Z"
    }
   },
   "cell_type": "code",
   "source": [
    "pd.DataFrame({\n",
    "    'Año' : [1900, 1910, 1921, 1930],\n",
    "    'Total (millones)' : [13.6, 15.2, 14.4, 16.5],\n",
    "    'Urbana' : [2.6, 3.7, 4.5, 5.5],\n",
    "    'Rural' : [11.0, 11.5, 9.9, 11.0]\n",
    "})"
   ],
   "id": "5fcddbcfd4b1bd0d",
   "outputs": [
    {
     "data": {
      "text/plain": [
       "    Año  Total (millones)  Urbana  Rural\n",
       "0  1900              13.6     2.6   11.0\n",
       "1  1910              15.2     3.7   11.5\n",
       "2  1921              14.4     4.5    9.9\n",
       "3  1930              16.5     5.5   11.0"
      ],
      "text/html": [
       "<div>\n",
       "<style scoped>\n",
       "    .dataframe tbody tr th:only-of-type {\n",
       "        vertical-align: middle;\n",
       "    }\n",
       "\n",
       "    .dataframe tbody tr th {\n",
       "        vertical-align: top;\n",
       "    }\n",
       "\n",
       "    .dataframe thead th {\n",
       "        text-align: right;\n",
       "    }\n",
       "</style>\n",
       "<table border=\"1\" class=\"dataframe\">\n",
       "  <thead>\n",
       "    <tr style=\"text-align: right;\">\n",
       "      <th></th>\n",
       "      <th>Año</th>\n",
       "      <th>Total (millones)</th>\n",
       "      <th>Urbana</th>\n",
       "      <th>Rural</th>\n",
       "    </tr>\n",
       "  </thead>\n",
       "  <tbody>\n",
       "    <tr>\n",
       "      <th>0</th>\n",
       "      <td>1900</td>\n",
       "      <td>13.6</td>\n",
       "      <td>2.6</td>\n",
       "      <td>11.0</td>\n",
       "    </tr>\n",
       "    <tr>\n",
       "      <th>1</th>\n",
       "      <td>1910</td>\n",
       "      <td>15.2</td>\n",
       "      <td>3.7</td>\n",
       "      <td>11.5</td>\n",
       "    </tr>\n",
       "    <tr>\n",
       "      <th>2</th>\n",
       "      <td>1921</td>\n",
       "      <td>14.4</td>\n",
       "      <td>4.5</td>\n",
       "      <td>9.9</td>\n",
       "    </tr>\n",
       "    <tr>\n",
       "      <th>3</th>\n",
       "      <td>1930</td>\n",
       "      <td>16.5</td>\n",
       "      <td>5.5</td>\n",
       "      <td>11.0</td>\n",
       "    </tr>\n",
       "  </tbody>\n",
       "</table>\n",
       "</div>"
      ]
     },
     "execution_count": 54,
     "metadata": {},
     "output_type": "execute_result"
    }
   ],
   "execution_count": 54
  },
  {
   "metadata": {},
   "cell_type": "markdown",
   "source": "Ejemplo",
   "id": "3f6462c18b92816"
  },
  {
   "metadata": {
    "ExecuteTime": {
     "end_time": "2025-02-09T00:01:17.827168Z",
     "start_time": "2025-02-09T00:01:17.821285Z"
    }
   },
   "cell_type": "code",
   "source": [
    "pd.DataFrame({\n",
    "    'Entidad' : ['Campeche', 'Jalisco', 'Michoacán', 'Veracruz'],\n",
    "    'Producción' : [30013100, 365217400, 131218800, 1018439850]\n",
    "})"
   ],
   "id": "d5bb71644a1dc06d",
   "outputs": [
    {
     "data": {
      "text/plain": [
       "     Entidad  Producción\n",
       "0   Campeche    30013100\n",
       "1    Jalisco   365217400\n",
       "2  Michoacán   131218800\n",
       "3   Veracruz  1018439850"
      ],
      "text/html": [
       "<div>\n",
       "<style scoped>\n",
       "    .dataframe tbody tr th:only-of-type {\n",
       "        vertical-align: middle;\n",
       "    }\n",
       "\n",
       "    .dataframe tbody tr th {\n",
       "        vertical-align: top;\n",
       "    }\n",
       "\n",
       "    .dataframe thead th {\n",
       "        text-align: right;\n",
       "    }\n",
       "</style>\n",
       "<table border=\"1\" class=\"dataframe\">\n",
       "  <thead>\n",
       "    <tr style=\"text-align: right;\">\n",
       "      <th></th>\n",
       "      <th>Entidad</th>\n",
       "      <th>Producción</th>\n",
       "    </tr>\n",
       "  </thead>\n",
       "  <tbody>\n",
       "    <tr>\n",
       "      <th>0</th>\n",
       "      <td>Campeche</td>\n",
       "      <td>30013100</td>\n",
       "    </tr>\n",
       "    <tr>\n",
       "      <th>1</th>\n",
       "      <td>Jalisco</td>\n",
       "      <td>365217400</td>\n",
       "    </tr>\n",
       "    <tr>\n",
       "      <th>2</th>\n",
       "      <td>Michoacán</td>\n",
       "      <td>131218800</td>\n",
       "    </tr>\n",
       "    <tr>\n",
       "      <th>3</th>\n",
       "      <td>Veracruz</td>\n",
       "      <td>1018439850</td>\n",
       "    </tr>\n",
       "  </tbody>\n",
       "</table>\n",
       "</div>"
      ]
     },
     "execution_count": 55,
     "metadata": {},
     "output_type": "execute_result"
    }
   ],
   "execution_count": 55
  },
  {
   "metadata": {},
   "cell_type": "markdown",
   "source": [
    "Actividad 2 : Elabora tablas estadísticas con los siguientes enunciados\n",
    "\n",
    "\n",
    "a) El anuario estadístico de 1984 del Tecnológico de Jiquilpan nos dice que\n",
    "hasta 1983 había 137 egresados de los cuales 80 eran hombres y 57 mujeres\n",
    "repartidos como sigue: 1° generación feb’81 17 hombres y 11 mujeres,\n",
    "2° generación ago’81 23 hombres y 15 mujeres,\n",
    "3° feb’82 11 hombres y 10 mujeres,\n",
    "4° ago’82 5 hombres y 1 mujer\n",
    "5° feb’83 por 24 hombres y 13 mujeres,"
   ],
   "id": "aea2d99f5d01a0ec"
  },
  {
   "metadata": {
    "ExecuteTime": {
     "end_time": "2025-02-09T00:01:17.886764Z",
     "start_time": "2025-02-09T00:01:17.880826Z"
    }
   },
   "cell_type": "code",
   "source": [
    "pd.DataFrame({\n",
    "    'Generación' : [1, 2, 3, 4, 5],\n",
    "    'Fecha' : [\"feb'81\", \"ago'81\", \"feb'82\", \"ago'82\", \"feb'83\"],\n",
    "    'Hombres' : [17, 23, 10, 5, 24],\n",
    "    'Mujeres' : [11, 15, 10, 1, 13]\n",
    "})"
   ],
   "id": "545ecfef3d9e630a",
   "outputs": [
    {
     "data": {
      "text/plain": [
       "   Generación   Fecha  Hombres  Mujeres\n",
       "0           1  feb'81       17       11\n",
       "1           2  ago'81       23       15\n",
       "2           3  feb'82       10       10\n",
       "3           4  ago'82        5        1\n",
       "4           5  feb'83       24       13"
      ],
      "text/html": [
       "<div>\n",
       "<style scoped>\n",
       "    .dataframe tbody tr th:only-of-type {\n",
       "        vertical-align: middle;\n",
       "    }\n",
       "\n",
       "    .dataframe tbody tr th {\n",
       "        vertical-align: top;\n",
       "    }\n",
       "\n",
       "    .dataframe thead th {\n",
       "        text-align: right;\n",
       "    }\n",
       "</style>\n",
       "<table border=\"1\" class=\"dataframe\">\n",
       "  <thead>\n",
       "    <tr style=\"text-align: right;\">\n",
       "      <th></th>\n",
       "      <th>Generación</th>\n",
       "      <th>Fecha</th>\n",
       "      <th>Hombres</th>\n",
       "      <th>Mujeres</th>\n",
       "    </tr>\n",
       "  </thead>\n",
       "  <tbody>\n",
       "    <tr>\n",
       "      <th>0</th>\n",
       "      <td>1</td>\n",
       "      <td>feb'81</td>\n",
       "      <td>17</td>\n",
       "      <td>11</td>\n",
       "    </tr>\n",
       "    <tr>\n",
       "      <th>1</th>\n",
       "      <td>2</td>\n",
       "      <td>ago'81</td>\n",
       "      <td>23</td>\n",
       "      <td>15</td>\n",
       "    </tr>\n",
       "    <tr>\n",
       "      <th>2</th>\n",
       "      <td>3</td>\n",
       "      <td>feb'82</td>\n",
       "      <td>10</td>\n",
       "      <td>10</td>\n",
       "    </tr>\n",
       "    <tr>\n",
       "      <th>3</th>\n",
       "      <td>4</td>\n",
       "      <td>ago'82</td>\n",
       "      <td>5</td>\n",
       "      <td>1</td>\n",
       "    </tr>\n",
       "    <tr>\n",
       "      <th>4</th>\n",
       "      <td>5</td>\n",
       "      <td>feb'83</td>\n",
       "      <td>24</td>\n",
       "      <td>13</td>\n",
       "    </tr>\n",
       "  </tbody>\n",
       "</table>\n",
       "</div>"
      ]
     },
     "execution_count": 56,
     "metadata": {},
     "output_type": "execute_result"
    }
   ],
   "execution_count": 56
  },
  {
   "metadata": {},
   "cell_type": "markdown",
   "source": [
    "b) En la enciclopedia de México 3° Ed 1978 p 991, leemos que el número total de\n",
    "viviendas del país es de 8,826369, de las cuales 2,494,950 tiene muros de adobe,\n",
    "3,658,146 de ladrillo y 2,133,273 de madera u otros materiales, esta información\n",
    "proviene del IX Censo General de Población de 1970, presenta esta información en\n",
    "una tabla de mayor a menor y con sus porcentajes."
   ],
   "id": "6f4d558220897465"
  },
  {
   "metadata": {
    "ExecuteTime": {
     "end_time": "2025-02-09T00:01:17.940708Z",
     "start_time": "2025-02-09T00:01:17.936029Z"
    }
   },
   "cell_type": "code",
   "source": [
    "pd.DataFrame({\n",
    "    'Casas' : ['Total de viviendas del país', 'Muros de abobe', 'Ladrillo', 'Madera u otros materiales'],\n",
    "    'Cantidad': [8826369, 2494950, 3658146, 2133273]\n",
    "})"
   ],
   "id": "2102e4da276610de",
   "outputs": [
    {
     "data": {
      "text/plain": [
       "                         Casas  Cantidad\n",
       "0  Total de viviendas del país   8826369\n",
       "1               Muros de abobe   2494950\n",
       "2                     Ladrillo   3658146\n",
       "3    Madera u otros materiales   2133273"
      ],
      "text/html": [
       "<div>\n",
       "<style scoped>\n",
       "    .dataframe tbody tr th:only-of-type {\n",
       "        vertical-align: middle;\n",
       "    }\n",
       "\n",
       "    .dataframe tbody tr th {\n",
       "        vertical-align: top;\n",
       "    }\n",
       "\n",
       "    .dataframe thead th {\n",
       "        text-align: right;\n",
       "    }\n",
       "</style>\n",
       "<table border=\"1\" class=\"dataframe\">\n",
       "  <thead>\n",
       "    <tr style=\"text-align: right;\">\n",
       "      <th></th>\n",
       "      <th>Casas</th>\n",
       "      <th>Cantidad</th>\n",
       "    </tr>\n",
       "  </thead>\n",
       "  <tbody>\n",
       "    <tr>\n",
       "      <th>0</th>\n",
       "      <td>Total de viviendas del país</td>\n",
       "      <td>8826369</td>\n",
       "    </tr>\n",
       "    <tr>\n",
       "      <th>1</th>\n",
       "      <td>Muros de abobe</td>\n",
       "      <td>2494950</td>\n",
       "    </tr>\n",
       "    <tr>\n",
       "      <th>2</th>\n",
       "      <td>Ladrillo</td>\n",
       "      <td>3658146</td>\n",
       "    </tr>\n",
       "    <tr>\n",
       "      <th>3</th>\n",
       "      <td>Madera u otros materiales</td>\n",
       "      <td>2133273</td>\n",
       "    </tr>\n",
       "  </tbody>\n",
       "</table>\n",
       "</div>"
      ]
     },
     "execution_count": 57,
     "metadata": {},
     "output_type": "execute_result"
    }
   ],
   "execution_count": 57
  },
  {
   "metadata": {},
   "cell_type": "markdown",
   "source": [
    "### Distribución de frecuencias\n",
    "\n",
    "Cuando se dispone de un gran número de datos es útil el distribuirlos en clases o categorías y determinar el número de individuos pertenecientes a cada categoría que será la frecuencia de clase."
   ],
   "id": "fb618a878dda807c"
  },
  {
   "metadata": {
    "ExecuteTime": {
     "end_time": "2025-02-09T00:01:18.011787Z",
     "start_time": "2025-02-09T00:01:18.004493Z"
    }
   },
   "cell_type": "code",
   "source": [
    "frecuencia = pd.DataFrame({\n",
    "    'País': ['México', 'Argentina', 'Portugal', 'Brasil'],\n",
    "    'Goles': [10, 8, 7, 3]\n",
    "})\n",
    "\n",
    "frecuencia"
   ],
   "id": "515ec25283dff429",
   "outputs": [
    {
     "data": {
      "text/plain": [
       "        País  Goles\n",
       "0     México     10\n",
       "1  Argentina      8\n",
       "2   Portugal      7\n",
       "3     Brasil      3"
      ],
      "text/html": [
       "<div>\n",
       "<style scoped>\n",
       "    .dataframe tbody tr th:only-of-type {\n",
       "        vertical-align: middle;\n",
       "    }\n",
       "\n",
       "    .dataframe tbody tr th {\n",
       "        vertical-align: top;\n",
       "    }\n",
       "\n",
       "    .dataframe thead th {\n",
       "        text-align: right;\n",
       "    }\n",
       "</style>\n",
       "<table border=\"1\" class=\"dataframe\">\n",
       "  <thead>\n",
       "    <tr style=\"text-align: right;\">\n",
       "      <th></th>\n",
       "      <th>País</th>\n",
       "      <th>Goles</th>\n",
       "    </tr>\n",
       "  </thead>\n",
       "  <tbody>\n",
       "    <tr>\n",
       "      <th>0</th>\n",
       "      <td>México</td>\n",
       "      <td>10</td>\n",
       "    </tr>\n",
       "    <tr>\n",
       "      <th>1</th>\n",
       "      <td>Argentina</td>\n",
       "      <td>8</td>\n",
       "    </tr>\n",
       "    <tr>\n",
       "      <th>2</th>\n",
       "      <td>Portugal</td>\n",
       "      <td>7</td>\n",
       "    </tr>\n",
       "    <tr>\n",
       "      <th>3</th>\n",
       "      <td>Brasil</td>\n",
       "      <td>3</td>\n",
       "    </tr>\n",
       "  </tbody>\n",
       "</table>\n",
       "</div>"
      ]
     },
     "execution_count": 58,
     "metadata": {},
     "output_type": "execute_result"
    }
   ],
   "execution_count": 58
  },
  {
   "metadata": {},
   "cell_type": "markdown",
   "source": [
    "A esta misma tabla le podemos anexar más datos frecuenciales tales como:\n",
    "\n",
    "- **Frecuencia Acumulada (fa)**: Es la sumatoria de las frecuencias.\n",
    "- **Frecuencia Relativa (fr)**: Esta es el porcentaje de las frecuencias.\n",
    "- **Frecuencia Relativa Acumulada (fra)**: Es la sumatoria de las frecuencias relativas.\n",
    "\n",
    "Para obtener la frecuencia relativa (**fr**) utilizamos la siguiente formula:\n",
    "\n",
    "<center> fr(%) = $\\frac{f}{\\sum f}$ x 100 </center>"
   ],
   "id": "a0681f0af197dc71"
  },
  {
   "metadata": {
    "ExecuteTime": {
     "end_time": "2025-02-09T00:01:18.080115Z",
     "start_time": "2025-02-09T00:01:18.073707Z"
    }
   },
   "cell_type": "code",
   "source": [
    "# Calcular la frecuencia acumulada\n",
    "frecuencia['Frecuencia Acumulada'] = frecuencia['Goles'].cumsum()\n",
    "\n",
    "# Calcular la frecuencia relativa\n",
    "frecuencia['Frecuencia Relativa'] = ((frecuencia['Goles'] / frecuencia['Goles'].sum()) * 100).__round__(2)\n",
    "\n",
    "# Calcular la frecuencia relativa acumulada\n",
    "frecuencia['Frecuencia Relativa Acumulada'] = frecuencia['Frecuencia Relativa'].cumsum().round(2)\n",
    "\n",
    "frecuencia"
   ],
   "id": "340e6c4c0508a1e4",
   "outputs": [
    {
     "data": {
      "text/plain": [
       "        País  Goles  Frecuencia Acumulada  Frecuencia Relativa  \\\n",
       "0     México     10                    10                35.71   \n",
       "1  Argentina      8                    18                28.57   \n",
       "2   Portugal      7                    25                25.00   \n",
       "3     Brasil      3                    28                10.71   \n",
       "\n",
       "   Frecuencia Relativa Acumulada  \n",
       "0                          35.71  \n",
       "1                          64.28  \n",
       "2                          89.28  \n",
       "3                          99.99  "
      ],
      "text/html": [
       "<div>\n",
       "<style scoped>\n",
       "    .dataframe tbody tr th:only-of-type {\n",
       "        vertical-align: middle;\n",
       "    }\n",
       "\n",
       "    .dataframe tbody tr th {\n",
       "        vertical-align: top;\n",
       "    }\n",
       "\n",
       "    .dataframe thead th {\n",
       "        text-align: right;\n",
       "    }\n",
       "</style>\n",
       "<table border=\"1\" class=\"dataframe\">\n",
       "  <thead>\n",
       "    <tr style=\"text-align: right;\">\n",
       "      <th></th>\n",
       "      <th>País</th>\n",
       "      <th>Goles</th>\n",
       "      <th>Frecuencia Acumulada</th>\n",
       "      <th>Frecuencia Relativa</th>\n",
       "      <th>Frecuencia Relativa Acumulada</th>\n",
       "    </tr>\n",
       "  </thead>\n",
       "  <tbody>\n",
       "    <tr>\n",
       "      <th>0</th>\n",
       "      <td>México</td>\n",
       "      <td>10</td>\n",
       "      <td>10</td>\n",
       "      <td>35.71</td>\n",
       "      <td>35.71</td>\n",
       "    </tr>\n",
       "    <tr>\n",
       "      <th>1</th>\n",
       "      <td>Argentina</td>\n",
       "      <td>8</td>\n",
       "      <td>18</td>\n",
       "      <td>28.57</td>\n",
       "      <td>64.28</td>\n",
       "    </tr>\n",
       "    <tr>\n",
       "      <th>2</th>\n",
       "      <td>Portugal</td>\n",
       "      <td>7</td>\n",
       "      <td>25</td>\n",
       "      <td>25.00</td>\n",
       "      <td>89.28</td>\n",
       "    </tr>\n",
       "    <tr>\n",
       "      <th>3</th>\n",
       "      <td>Brasil</td>\n",
       "      <td>3</td>\n",
       "      <td>28</td>\n",
       "      <td>10.71</td>\n",
       "      <td>99.99</td>\n",
       "    </tr>\n",
       "  </tbody>\n",
       "</table>\n",
       "</div>"
      ]
     },
     "execution_count": 59,
     "metadata": {},
     "output_type": "execute_result"
    }
   ],
   "execution_count": 59
  },
  {
   "metadata": {},
   "cell_type": "markdown",
   "source": [
    "**Actividad 3:**\n",
    "\n",
    "a) Un agente de tránsito registro durante un mes el número de accidentes en motocicletas ocurridos en la avenida principal de Sahuayo. Los datos registrados son los siguientes.\n",
    "\n",
    "1, 2, 4, 1, 2, 0, 0, 2, 6, 6, 4, 5, 1, 5, 1, 1, 1, 5, 6, 5, 1, 4, 3, 4, 4, 4, 2, 3, 2, 2.\n",
    "\n",
    "Con la información anterior elabora una tabla estadística en la que incluyas la variable ordenada de mayor a menor, sin repetir los valores, determina la frecuencia, la frecuencia acumulada, la frecuencia relativa y la frecuencia relativa acumulada."
   ],
   "id": "1cee6aec2abfa760"
  },
  {
   "metadata": {
    "ExecuteTime": {
     "end_time": "2025-02-09T00:01:18.147438Z",
     "start_time": "2025-02-09T00:01:18.144556Z"
    }
   },
   "cell_type": "code",
   "source": "lista = sorted([1, 2, 4, 1, 2, 0, 0, 2, 6, 6, 4, 5, 1, 5, 1, 1, 1, 5, 6, 5, 1, 4, 3, 4, 4, 4, 2, 3, 2, 2], reverse=True)",
   "id": "7179bdab03b66ade",
   "outputs": [],
   "execution_count": 60
  },
  {
   "metadata": {
    "ExecuteTime": {
     "end_time": "2025-02-09T00:01:18.191873Z",
     "start_time": "2025-02-09T00:01:18.189335Z"
    }
   },
   "cell_type": "code",
   "source": [
    "accidentes_df = pd.DataFrame({\n",
    "    'Accidentes' : lista,\n",
    "})"
   ],
   "id": "52e685dc7557d61a",
   "outputs": [],
   "execution_count": 61
  },
  {
   "metadata": {
    "ExecuteTime": {
     "end_time": "2025-02-09T00:01:18.229308Z",
     "start_time": "2025-02-09T00:01:18.226353Z"
    }
   },
   "cell_type": "code",
   "source": [
    "# Realizamos la frecuencia\n",
    "accidentes_df['Frecuencia'] = accidentes_df['Accidentes'].cumsum()\n",
    "\n",
    "# Realizamos la frecuencia relativa\n",
    "accidentes_df['Frecuencia Relativa'] = ((accidentes_df['Accidentes'] / accidentes_df['Accidentes'].sum()) * 100).round(2)\n",
    "\n",
    "# Realizamos la frecuencia relativa acumulada\n",
    "accidentes_df['Frecuencia Relativa Acumulada'] = accidentes_df['Frecuencia Relativa'].cumsum().round(2)"
   ],
   "id": "f5da6f2b9d1dc929",
   "outputs": [],
   "execution_count": 62
  },
  {
   "metadata": {
    "ExecuteTime": {
     "end_time": "2025-02-09T00:01:18.258131Z",
     "start_time": "2025-02-09T00:01:18.251605Z"
    }
   },
   "cell_type": "code",
   "source": "accidentes_df",
   "id": "f990a867e2c33865",
   "outputs": [
    {
     "data": {
      "text/plain": [
       "    Accidentes  Frecuencia  Frecuencia Relativa  Frecuencia Relativa Acumulada\n",
       "0            6           6                 6.90                           6.90\n",
       "1            6          12                 6.90                          13.80\n",
       "2            6          18                 6.90                          20.70\n",
       "3            5          23                 5.75                          26.45\n",
       "4            5          28                 5.75                          32.20\n",
       "5            5          33                 5.75                          37.95\n",
       "6            5          38                 5.75                          43.70\n",
       "7            4          42                 4.60                          48.30\n",
       "8            4          46                 4.60                          52.90\n",
       "9            4          50                 4.60                          57.50\n",
       "10           4          54                 4.60                          62.10\n",
       "11           4          58                 4.60                          66.70\n",
       "12           4          62                 4.60                          71.30\n",
       "13           3          65                 3.45                          74.75\n",
       "14           3          68                 3.45                          78.20\n",
       "15           2          70                 2.30                          80.50\n",
       "16           2          72                 2.30                          82.80\n",
       "17           2          74                 2.30                          85.10\n",
       "18           2          76                 2.30                          87.40\n",
       "19           2          78                 2.30                          89.70\n",
       "20           2          80                 2.30                          92.00\n",
       "21           1          81                 1.15                          93.15\n",
       "22           1          82                 1.15                          94.30\n",
       "23           1          83                 1.15                          95.45\n",
       "24           1          84                 1.15                          96.60\n",
       "25           1          85                 1.15                          97.75\n",
       "26           1          86                 1.15                          98.90\n",
       "27           1          87                 1.15                         100.05\n",
       "28           0          87                 0.00                         100.05\n",
       "29           0          87                 0.00                         100.05"
      ],
      "text/html": [
       "<div>\n",
       "<style scoped>\n",
       "    .dataframe tbody tr th:only-of-type {\n",
       "        vertical-align: middle;\n",
       "    }\n",
       "\n",
       "    .dataframe tbody tr th {\n",
       "        vertical-align: top;\n",
       "    }\n",
       "\n",
       "    .dataframe thead th {\n",
       "        text-align: right;\n",
       "    }\n",
       "</style>\n",
       "<table border=\"1\" class=\"dataframe\">\n",
       "  <thead>\n",
       "    <tr style=\"text-align: right;\">\n",
       "      <th></th>\n",
       "      <th>Accidentes</th>\n",
       "      <th>Frecuencia</th>\n",
       "      <th>Frecuencia Relativa</th>\n",
       "      <th>Frecuencia Relativa Acumulada</th>\n",
       "    </tr>\n",
       "  </thead>\n",
       "  <tbody>\n",
       "    <tr>\n",
       "      <th>0</th>\n",
       "      <td>6</td>\n",
       "      <td>6</td>\n",
       "      <td>6.90</td>\n",
       "      <td>6.90</td>\n",
       "    </tr>\n",
       "    <tr>\n",
       "      <th>1</th>\n",
       "      <td>6</td>\n",
       "      <td>12</td>\n",
       "      <td>6.90</td>\n",
       "      <td>13.80</td>\n",
       "    </tr>\n",
       "    <tr>\n",
       "      <th>2</th>\n",
       "      <td>6</td>\n",
       "      <td>18</td>\n",
       "      <td>6.90</td>\n",
       "      <td>20.70</td>\n",
       "    </tr>\n",
       "    <tr>\n",
       "      <th>3</th>\n",
       "      <td>5</td>\n",
       "      <td>23</td>\n",
       "      <td>5.75</td>\n",
       "      <td>26.45</td>\n",
       "    </tr>\n",
       "    <tr>\n",
       "      <th>4</th>\n",
       "      <td>5</td>\n",
       "      <td>28</td>\n",
       "      <td>5.75</td>\n",
       "      <td>32.20</td>\n",
       "    </tr>\n",
       "    <tr>\n",
       "      <th>5</th>\n",
       "      <td>5</td>\n",
       "      <td>33</td>\n",
       "      <td>5.75</td>\n",
       "      <td>37.95</td>\n",
       "    </tr>\n",
       "    <tr>\n",
       "      <th>6</th>\n",
       "      <td>5</td>\n",
       "      <td>38</td>\n",
       "      <td>5.75</td>\n",
       "      <td>43.70</td>\n",
       "    </tr>\n",
       "    <tr>\n",
       "      <th>7</th>\n",
       "      <td>4</td>\n",
       "      <td>42</td>\n",
       "      <td>4.60</td>\n",
       "      <td>48.30</td>\n",
       "    </tr>\n",
       "    <tr>\n",
       "      <th>8</th>\n",
       "      <td>4</td>\n",
       "      <td>46</td>\n",
       "      <td>4.60</td>\n",
       "      <td>52.90</td>\n",
       "    </tr>\n",
       "    <tr>\n",
       "      <th>9</th>\n",
       "      <td>4</td>\n",
       "      <td>50</td>\n",
       "      <td>4.60</td>\n",
       "      <td>57.50</td>\n",
       "    </tr>\n",
       "    <tr>\n",
       "      <th>10</th>\n",
       "      <td>4</td>\n",
       "      <td>54</td>\n",
       "      <td>4.60</td>\n",
       "      <td>62.10</td>\n",
       "    </tr>\n",
       "    <tr>\n",
       "      <th>11</th>\n",
       "      <td>4</td>\n",
       "      <td>58</td>\n",
       "      <td>4.60</td>\n",
       "      <td>66.70</td>\n",
       "    </tr>\n",
       "    <tr>\n",
       "      <th>12</th>\n",
       "      <td>4</td>\n",
       "      <td>62</td>\n",
       "      <td>4.60</td>\n",
       "      <td>71.30</td>\n",
       "    </tr>\n",
       "    <tr>\n",
       "      <th>13</th>\n",
       "      <td>3</td>\n",
       "      <td>65</td>\n",
       "      <td>3.45</td>\n",
       "      <td>74.75</td>\n",
       "    </tr>\n",
       "    <tr>\n",
       "      <th>14</th>\n",
       "      <td>3</td>\n",
       "      <td>68</td>\n",
       "      <td>3.45</td>\n",
       "      <td>78.20</td>\n",
       "    </tr>\n",
       "    <tr>\n",
       "      <th>15</th>\n",
       "      <td>2</td>\n",
       "      <td>70</td>\n",
       "      <td>2.30</td>\n",
       "      <td>80.50</td>\n",
       "    </tr>\n",
       "    <tr>\n",
       "      <th>16</th>\n",
       "      <td>2</td>\n",
       "      <td>72</td>\n",
       "      <td>2.30</td>\n",
       "      <td>82.80</td>\n",
       "    </tr>\n",
       "    <tr>\n",
       "      <th>17</th>\n",
       "      <td>2</td>\n",
       "      <td>74</td>\n",
       "      <td>2.30</td>\n",
       "      <td>85.10</td>\n",
       "    </tr>\n",
       "    <tr>\n",
       "      <th>18</th>\n",
       "      <td>2</td>\n",
       "      <td>76</td>\n",
       "      <td>2.30</td>\n",
       "      <td>87.40</td>\n",
       "    </tr>\n",
       "    <tr>\n",
       "      <th>19</th>\n",
       "      <td>2</td>\n",
       "      <td>78</td>\n",
       "      <td>2.30</td>\n",
       "      <td>89.70</td>\n",
       "    </tr>\n",
       "    <tr>\n",
       "      <th>20</th>\n",
       "      <td>2</td>\n",
       "      <td>80</td>\n",
       "      <td>2.30</td>\n",
       "      <td>92.00</td>\n",
       "    </tr>\n",
       "    <tr>\n",
       "      <th>21</th>\n",
       "      <td>1</td>\n",
       "      <td>81</td>\n",
       "      <td>1.15</td>\n",
       "      <td>93.15</td>\n",
       "    </tr>\n",
       "    <tr>\n",
       "      <th>22</th>\n",
       "      <td>1</td>\n",
       "      <td>82</td>\n",
       "      <td>1.15</td>\n",
       "      <td>94.30</td>\n",
       "    </tr>\n",
       "    <tr>\n",
       "      <th>23</th>\n",
       "      <td>1</td>\n",
       "      <td>83</td>\n",
       "      <td>1.15</td>\n",
       "      <td>95.45</td>\n",
       "    </tr>\n",
       "    <tr>\n",
       "      <th>24</th>\n",
       "      <td>1</td>\n",
       "      <td>84</td>\n",
       "      <td>1.15</td>\n",
       "      <td>96.60</td>\n",
       "    </tr>\n",
       "    <tr>\n",
       "      <th>25</th>\n",
       "      <td>1</td>\n",
       "      <td>85</td>\n",
       "      <td>1.15</td>\n",
       "      <td>97.75</td>\n",
       "    </tr>\n",
       "    <tr>\n",
       "      <th>26</th>\n",
       "      <td>1</td>\n",
       "      <td>86</td>\n",
       "      <td>1.15</td>\n",
       "      <td>98.90</td>\n",
       "    </tr>\n",
       "    <tr>\n",
       "      <th>27</th>\n",
       "      <td>1</td>\n",
       "      <td>87</td>\n",
       "      <td>1.15</td>\n",
       "      <td>100.05</td>\n",
       "    </tr>\n",
       "    <tr>\n",
       "      <th>28</th>\n",
       "      <td>0</td>\n",
       "      <td>87</td>\n",
       "      <td>0.00</td>\n",
       "      <td>100.05</td>\n",
       "    </tr>\n",
       "    <tr>\n",
       "      <th>29</th>\n",
       "      <td>0</td>\n",
       "      <td>87</td>\n",
       "      <td>0.00</td>\n",
       "      <td>100.05</td>\n",
       "    </tr>\n",
       "  </tbody>\n",
       "</table>\n",
       "</div>"
      ]
     },
     "execution_count": 63,
     "metadata": {},
     "output_type": "execute_result"
    }
   ],
   "execution_count": 63
  },
  {
   "metadata": {},
   "cell_type": "markdown",
   "source": [
    "b) b) Un centro de salud en la sierra de Oaxaca realizó un estudio sobre el número de hijos que tienen 48 familias que habitan en una comunidad indígena. Presentó los siguientes datos:\n",
    "\n",
    "6, 3, 2, 3, 4, 3, 4, 4, 2, 1, 4, 5, 4, 2, 3, 3, 4, 4, 5, 4, 0, 3, 2, 4, 3, 4, 2, 3, 1, 2, 4, 4, 3, 4, 2, 4, 0, 3, 2, 3, 1, 2, 4, 1, 2, 3, 5, 3\n",
    "\n",
    "Sin repetir los valores, determina la frecuencia, la frecuencia acumulada, la frecuencia relativa y la frecuencia relativa acumulada, para ello, elabora una tabla estadística en la que incluyas la variable ordenada de menor a mayor."
   ],
   "id": "f0ba099c134909e0"
  },
  {
   "metadata": {
    "ExecuteTime": {
     "end_time": "2025-02-09T00:01:18.482461Z",
     "start_time": "2025-02-09T00:01:18.474200Z"
    }
   },
   "cell_type": "code",
   "source": [
    "lista = [6, 3, 2, 3, 4, 3, 4, 4, 2, 1, 4, 5, 4, 2, 3, 3, 4, 4, 5, 4, 0, 3, 2, 4, 3, 4, 2, 3, 1, 2, 4, 4, 3, 4, 2, 4, 0, 3, 2, 3, 1, 2, 4, 1, 2, 3, 5, 3]\n",
    "\n",
    "nacimientos_df = pd.DataFrame({\n",
    "    'Número de hijos' : lista,\n",
    "})\n",
    "\n",
    "# Primero eliminamos valores repetidos\n",
    "nacimientos_df.drop_duplicates(inplace=True)\n",
    "\n",
    "# Luego ordenamos el dataframe\n",
    "nacimientos_df.sort_values(by=['Número de hijos'], inplace=True)\n",
    "\n",
    "# Luego determinamos la frecuencia\n",
    "nacimientos_df['Frecuencia'] = nacimientos_df['Número de hijos'].cumsum()\n",
    "\n",
    "# Luego determinamos la frecuencia relativa\n",
    "nacimientos_df['Frecuencia Relativa'] = (nacimientos_df['Número de hijos'] / nacimientos_df['Número de hijos'].sum() * 100).round(2)\n",
    "\n",
    "# Luego determinamos la frecuencia relativa acumulada\n",
    "nacimientos_df['Frecuencia Relativa Acumulada'] = nacimientos_df['Frecuencia Relativa'].cumsum().round(2)"
   ],
   "id": "8da95cef48c53a7e",
   "outputs": [],
   "execution_count": 64
  },
  {
   "metadata": {
    "ExecuteTime": {
     "end_time": "2025-02-09T00:01:18.515721Z",
     "start_time": "2025-02-09T00:01:18.509528Z"
    }
   },
   "cell_type": "code",
   "source": "nacimientos_df",
   "id": "c4d9834186163efe",
   "outputs": [
    {
     "data": {
      "text/plain": [
       "    Número de hijos  Frecuencia  Frecuencia Relativa  \\\n",
       "20                0           0                 0.00   \n",
       "9                 1           1                 4.76   \n",
       "2                 2           3                 9.52   \n",
       "1                 3           6                14.29   \n",
       "4                 4          10                19.05   \n",
       "11                5          15                23.81   \n",
       "0                 6          21                28.57   \n",
       "\n",
       "    Frecuencia Relativa Acumulada  \n",
       "20                           0.00  \n",
       "9                            4.76  \n",
       "2                           14.28  \n",
       "1                           28.57  \n",
       "4                           47.62  \n",
       "11                          71.43  \n",
       "0                          100.00  "
      ],
      "text/html": [
       "<div>\n",
       "<style scoped>\n",
       "    .dataframe tbody tr th:only-of-type {\n",
       "        vertical-align: middle;\n",
       "    }\n",
       "\n",
       "    .dataframe tbody tr th {\n",
       "        vertical-align: top;\n",
       "    }\n",
       "\n",
       "    .dataframe thead th {\n",
       "        text-align: right;\n",
       "    }\n",
       "</style>\n",
       "<table border=\"1\" class=\"dataframe\">\n",
       "  <thead>\n",
       "    <tr style=\"text-align: right;\">\n",
       "      <th></th>\n",
       "      <th>Número de hijos</th>\n",
       "      <th>Frecuencia</th>\n",
       "      <th>Frecuencia Relativa</th>\n",
       "      <th>Frecuencia Relativa Acumulada</th>\n",
       "    </tr>\n",
       "  </thead>\n",
       "  <tbody>\n",
       "    <tr>\n",
       "      <th>20</th>\n",
       "      <td>0</td>\n",
       "      <td>0</td>\n",
       "      <td>0.00</td>\n",
       "      <td>0.00</td>\n",
       "    </tr>\n",
       "    <tr>\n",
       "      <th>9</th>\n",
       "      <td>1</td>\n",
       "      <td>1</td>\n",
       "      <td>4.76</td>\n",
       "      <td>4.76</td>\n",
       "    </tr>\n",
       "    <tr>\n",
       "      <th>2</th>\n",
       "      <td>2</td>\n",
       "      <td>3</td>\n",
       "      <td>9.52</td>\n",
       "      <td>14.28</td>\n",
       "    </tr>\n",
       "    <tr>\n",
       "      <th>1</th>\n",
       "      <td>3</td>\n",
       "      <td>6</td>\n",
       "      <td>14.29</td>\n",
       "      <td>28.57</td>\n",
       "    </tr>\n",
       "    <tr>\n",
       "      <th>4</th>\n",
       "      <td>4</td>\n",
       "      <td>10</td>\n",
       "      <td>19.05</td>\n",
       "      <td>47.62</td>\n",
       "    </tr>\n",
       "    <tr>\n",
       "      <th>11</th>\n",
       "      <td>5</td>\n",
       "      <td>15</td>\n",
       "      <td>23.81</td>\n",
       "      <td>71.43</td>\n",
       "    </tr>\n",
       "    <tr>\n",
       "      <th>0</th>\n",
       "      <td>6</td>\n",
       "      <td>21</td>\n",
       "      <td>28.57</td>\n",
       "      <td>100.00</td>\n",
       "    </tr>\n",
       "  </tbody>\n",
       "</table>\n",
       "</div>"
      ]
     },
     "execution_count": 65,
     "metadata": {},
     "output_type": "execute_result"
    }
   ],
   "execution_count": 65
  },
  {
   "metadata": {},
   "cell_type": "markdown",
   "source": [
    "Presenta las calificaciones de los alumnos del 5º semestre del CBTIS 12 en una tabla estadística en orden descendente que contenga la fa, fr y fra.\n",
    "\n",
    "5 5 9, 8, 7, 7, 7, 6, 6, 6, 6, 8, 9, 10, 9, 5, 6, 5, 6, 7, 6, 7, 8, 10, 10, 7, 8, 7, 8, 7, 10, 9, 8"
   ],
   "id": "53809e56a63a9e41"
  },
  {
   "metadata": {},
   "cell_type": "markdown",
   "source": "Ajustamos el Dataframe",
   "id": "3bf9d3d4f7edc975"
  },
  {
   "metadata": {
    "ExecuteTime": {
     "end_time": "2025-02-09T00:01:18.565294Z",
     "start_time": "2025-02-09T00:01:18.559802Z"
    }
   },
   "cell_type": "code",
   "source": [
    "lista = [5, 5, 9, 8, 7, 7, 7, 6, 6, 6, 6, 8, 9, 10, 9, 5, 6, 5, 6, 7, 6, 7, 8, 10, 10, 7, 8, 7, 8, 7, 10, 9, 8]\n",
    "\n",
    "calificaciones = pd.DataFrame({\n",
    "    'Calificación': lista,\n",
    "})\n",
    "\n",
    "# Contamos la frecuencia de cada calificación\n",
    "frecuencia = calificaciones['Calificación'].value_counts()\n",
    "\n",
    "# Agregamos la columna 'Frecuencia' al Dataframe\n",
    "calificaciones['Número'] = calificaciones['Calificación'].map(frecuencia)\n",
    "\n",
    "calificaciones.drop_duplicates(inplace=True)\n",
    "\n",
    "calificaciones.sort_values(by=['Calificación'], inplace=True)"
   ],
   "id": "897899e0bba3b6af",
   "outputs": [],
   "execution_count": 66
  },
  {
   "metadata": {},
   "cell_type": "markdown",
   "source": "Ahora le agregamos frecuencia, frecuencia relativa, y frecuencia relativa acumulada",
   "id": "39b6e3917bc10e7"
  },
  {
   "metadata": {
    "ExecuteTime": {
     "end_time": "2025-02-09T00:01:18.604065Z",
     "start_time": "2025-02-09T00:01:18.597527Z"
    }
   },
   "cell_type": "code",
   "source": [
    "# Agregamos frecuencia\n",
    "calificaciones['Fa'] = calificaciones['Número'].cumsum()\n",
    "\n",
    "# Agregamos frecuencia relativa\n",
    "calificaciones['Fr'] = (calificaciones['Número'] / calificaciones['Número'].sum() * 100).round(2)\n",
    "\n",
    "# Agregamos la frecuecia relativa acumulativa\n",
    "calificaciones['Fra'] = calificaciones['Fr'].cumsum().round(2)\n",
    "\n",
    "calificaciones"
   ],
   "id": "aef667b03d687e3",
   "outputs": [
    {
     "data": {
      "text/plain": [
       "    Calificación  Número  Fa     Fr    Fra\n",
       "0              5       4   4  12.12  12.12\n",
       "7              6       7  11  21.21  33.33\n",
       "4              7       8  19  24.24  57.57\n",
       "3              8       6  25  18.18  75.75\n",
       "2              9       4  29  12.12  87.87\n",
       "13            10       4  33  12.12  99.99"
      ],
      "text/html": [
       "<div>\n",
       "<style scoped>\n",
       "    .dataframe tbody tr th:only-of-type {\n",
       "        vertical-align: middle;\n",
       "    }\n",
       "\n",
       "    .dataframe tbody tr th {\n",
       "        vertical-align: top;\n",
       "    }\n",
       "\n",
       "    .dataframe thead th {\n",
       "        text-align: right;\n",
       "    }\n",
       "</style>\n",
       "<table border=\"1\" class=\"dataframe\">\n",
       "  <thead>\n",
       "    <tr style=\"text-align: right;\">\n",
       "      <th></th>\n",
       "      <th>Calificación</th>\n",
       "      <th>Número</th>\n",
       "      <th>Fa</th>\n",
       "      <th>Fr</th>\n",
       "      <th>Fra</th>\n",
       "    </tr>\n",
       "  </thead>\n",
       "  <tbody>\n",
       "    <tr>\n",
       "      <th>0</th>\n",
       "      <td>5</td>\n",
       "      <td>4</td>\n",
       "      <td>4</td>\n",
       "      <td>12.12</td>\n",
       "      <td>12.12</td>\n",
       "    </tr>\n",
       "    <tr>\n",
       "      <th>7</th>\n",
       "      <td>6</td>\n",
       "      <td>7</td>\n",
       "      <td>11</td>\n",
       "      <td>21.21</td>\n",
       "      <td>33.33</td>\n",
       "    </tr>\n",
       "    <tr>\n",
       "      <th>4</th>\n",
       "      <td>7</td>\n",
       "      <td>8</td>\n",
       "      <td>19</td>\n",
       "      <td>24.24</td>\n",
       "      <td>57.57</td>\n",
       "    </tr>\n",
       "    <tr>\n",
       "      <th>3</th>\n",
       "      <td>8</td>\n",
       "      <td>6</td>\n",
       "      <td>25</td>\n",
       "      <td>18.18</td>\n",
       "      <td>75.75</td>\n",
       "    </tr>\n",
       "    <tr>\n",
       "      <th>2</th>\n",
       "      <td>9</td>\n",
       "      <td>4</td>\n",
       "      <td>29</td>\n",
       "      <td>12.12</td>\n",
       "      <td>87.87</td>\n",
       "    </tr>\n",
       "    <tr>\n",
       "      <th>13</th>\n",
       "      <td>10</td>\n",
       "      <td>4</td>\n",
       "      <td>33</td>\n",
       "      <td>12.12</td>\n",
       "      <td>99.99</td>\n",
       "    </tr>\n",
       "  </tbody>\n",
       "</table>\n",
       "</div>"
      ]
     },
     "execution_count": 67,
     "metadata": {},
     "output_type": "execute_result"
    }
   ],
   "execution_count": 67
  },
  {
   "metadata": {},
   "cell_type": "markdown",
   "source": [
    "**Actividad en el aula:**\n",
    "\n",
    "a) La jornada diaria de trabajo en una mesa es como se menciona a continuación, con estos datos preséntalos en una tabla estadística en orden ascendente y que contenga sus frecuencias:\n",
    "\n",
    "4, 3, 4, 4, 5, 6, 7, 7, 6, 5, 4, 4, 3, 3, 4, 5, 6, 8, 8, 6, 5, 4, 4, 3, 8, 8, 8, 8, 8, 6, 5, 4, 4, 3, 3, 3, 3, 4, 4, 5, 6, 8, 6, 5, 4, 4, 4, 4, 5, 6, 8, 5, 7, 4, 4, 3, 3, 4, 4, 5, 7, 7, 5, 4, 3, 4, 5, 5, 3, 7, 5, 4, 3, 8."
   ],
   "id": "d24255d28b5961dd"
  },
  {
   "metadata": {
    "ExecuteTime": {
     "end_time": "2025-02-09T00:01:18.663971Z",
     "start_time": "2025-02-09T00:01:18.654010Z"
    }
   },
   "cell_type": "code",
   "source": [
    "# Primero vamos a limpiar el Dataframe\n",
    "\n",
    "lista = [4, 3, 4, 4, 5, 6, 7, 7, 6, 5, 4, 4, 3, 3, 4, 5, 6, 8, 8, 6, 5, 4, 4, 3, 8, 8, 8, 8, 8, 6, 5, 4, 4, 3, 3, 3, 3, 4, 4, 5, 6, 8, 6, 5, 4, 4, 4, 4, 5, 6, 8, 5, 7, 4, 4, 3, 3, 4, 4, 5, 7, 7, 5, 4, 3, 4, 5, 5, 3, 7, 5, 4, 3, 8]\n",
    "\n",
    "jornada_df = pd.DataFrame({\n",
    "    'Jornada' : lista,\n",
    "})\n",
    "\n",
    "# Contamos la frecuencia\n",
    "frecuencia = jornada_df['Jornada'].value_counts()\n",
    "# Lo agregamos al Dataframe\n",
    "jornada_df['Trabajadores'] = jornada_df['Jornada'].map(frecuencia)\n",
    "# Eliminamos filas duplicadas\n",
    "jornada_df.drop_duplicates(inplace=True)\n",
    "# Ordenamos el Dataframe\n",
    "jornada_df.sort_values(by=['Jornada'], inplace=True)\n",
    "\n",
    "# Ahora se procede a añadir fa, fr y fra\n",
    "jornada_df['Fa'] = jornada_df['Trabajadores'].cumsum()\n",
    "jornada_df['Fr'] = (jornada_df['Trabajadores'] / jornada_df['Trabajadores'].sum() * 100).round(2)\n",
    "jornada_df['Fra'] = jornada_df['Fr'].cumsum().round(2)\n",
    "\n",
    "jornada_df"
   ],
   "id": "75d41be10cf4aef4",
   "outputs": [
    {
     "data": {
      "text/plain": [
       "    Jornada  Trabajadores  Fa     Fr     Fra\n",
       "1         3            13  13  17.57   17.57\n",
       "0         4            23  36  31.08   48.65\n",
       "4         5            14  50  18.92   67.57\n",
       "5         6             8  58  10.81   78.38\n",
       "6         7             6  64   8.11   86.49\n",
       "17        8            10  74  13.51  100.00"
      ],
      "text/html": [
       "<div>\n",
       "<style scoped>\n",
       "    .dataframe tbody tr th:only-of-type {\n",
       "        vertical-align: middle;\n",
       "    }\n",
       "\n",
       "    .dataframe tbody tr th {\n",
       "        vertical-align: top;\n",
       "    }\n",
       "\n",
       "    .dataframe thead th {\n",
       "        text-align: right;\n",
       "    }\n",
       "</style>\n",
       "<table border=\"1\" class=\"dataframe\">\n",
       "  <thead>\n",
       "    <tr style=\"text-align: right;\">\n",
       "      <th></th>\n",
       "      <th>Jornada</th>\n",
       "      <th>Trabajadores</th>\n",
       "      <th>Fa</th>\n",
       "      <th>Fr</th>\n",
       "      <th>Fra</th>\n",
       "    </tr>\n",
       "  </thead>\n",
       "  <tbody>\n",
       "    <tr>\n",
       "      <th>1</th>\n",
       "      <td>3</td>\n",
       "      <td>13</td>\n",
       "      <td>13</td>\n",
       "      <td>17.57</td>\n",
       "      <td>17.57</td>\n",
       "    </tr>\n",
       "    <tr>\n",
       "      <th>0</th>\n",
       "      <td>4</td>\n",
       "      <td>23</td>\n",
       "      <td>36</td>\n",
       "      <td>31.08</td>\n",
       "      <td>48.65</td>\n",
       "    </tr>\n",
       "    <tr>\n",
       "      <th>4</th>\n",
       "      <td>5</td>\n",
       "      <td>14</td>\n",
       "      <td>50</td>\n",
       "      <td>18.92</td>\n",
       "      <td>67.57</td>\n",
       "    </tr>\n",
       "    <tr>\n",
       "      <th>5</th>\n",
       "      <td>6</td>\n",
       "      <td>8</td>\n",
       "      <td>58</td>\n",
       "      <td>10.81</td>\n",
       "      <td>78.38</td>\n",
       "    </tr>\n",
       "    <tr>\n",
       "      <th>6</th>\n",
       "      <td>7</td>\n",
       "      <td>6</td>\n",
       "      <td>64</td>\n",
       "      <td>8.11</td>\n",
       "      <td>86.49</td>\n",
       "    </tr>\n",
       "    <tr>\n",
       "      <th>17</th>\n",
       "      <td>8</td>\n",
       "      <td>10</td>\n",
       "      <td>74</td>\n",
       "      <td>13.51</td>\n",
       "      <td>100.00</td>\n",
       "    </tr>\n",
       "  </tbody>\n",
       "</table>\n",
       "</div>"
      ]
     },
     "execution_count": 68,
     "metadata": {},
     "output_type": "execute_result"
    }
   ],
   "execution_count": 68
  },
  {
   "metadata": {},
   "cell_type": "markdown",
   "source": [
    "## Gráficos Estadísticos\n",
    "\n",
    "Uno de los objetivos de la estadística es comunicar los resultados de una investigación de manera clara y concisa, las representaciones gráficas de esos resultados obedecen a una intención.\n",
    "\n",
    "El gráfico es útil para dar una rápida idea de la situación general que se está analizando, permite determinar con simple vistazo máximos y mínimos, variaciones del fenómeno y determinar soluciones."
   ],
   "id": "85bdf597be1eb7bd"
  },
  {
   "metadata": {
    "ExecuteTime": {
     "end_time": "2025-02-09T00:01:18.724917Z",
     "start_time": "2025-02-09T00:01:18.721521Z"
    }
   },
   "cell_type": "code",
   "source": "import matplotlib.pyplot as plt",
   "id": "9f90df0e59227635",
   "outputs": [],
   "execution_count": 69
  },
  {
   "metadata": {},
   "cell_type": "markdown",
   "source": [
    "### **Gráfico de Barras**\n",
    "\n",
    "La construcción de este gráfico se basas en la representación de un valor númerico por un rectángulo.\n"
   ],
   "id": "98e613e67e1f9ec5"
  },
  {
   "metadata": {
    "ExecuteTime": {
     "end_time": "2025-02-09T00:01:18.832858Z",
     "start_time": "2025-02-09T00:01:18.765843Z"
    }
   },
   "cell_type": "code",
   "source": [
    "grafico = pd.DataFrame({\n",
    "    'Semestre' : ['1°', '2°', '3°', '4°', '5°', '6°'],\n",
    "    'Promedio' : [72, 66, 84, 92, 80, 88]\n",
    "})\n",
    "\n",
    "# Crear gráfico de barras\n",
    "plt.bar(grafico['Semestre'], grafico['Promedio'], edgecolor='black')\n",
    "plt.title('Gráfico de Barras')\n",
    "plt.xlabel('Semestre')\n",
    "plt.ylabel('Promedio')\n",
    "plt.yticks(np.arange(0, 110, 20))\n",
    "plt.grid(True)\n",
    "plt.show()"
   ],
   "id": "775fdd0ddd35b26",
   "outputs": [
    {
     "data": {
      "text/plain": [
       "<Figure size 640x480 with 1 Axes>"
      ],
      "image/png": "[encoded data removed]"
     },
     "metadata": {},
     "output_type": "display_data"
    }
   ],
   "execution_count": 70
  },
  {
   "metadata": {},
   "cell_type": "markdown",
   "source": [
    "### **Gráfico Circular o Pastel**\n",
    "\n",
    "Es una forma alternativa del gráfico de barras, en su construcción se utiliza una circunferencia dividida sectores angulares proporcional al valor de la variable. De la tabla anterior construye un gráfico circular con los promedios.\n",
    "\n",
    "<center> $\\frac{360°}{X} = \\frac{482}{72} \\rightarrow 53.77° \\cong 54°$ </center>"
   ],
   "id": "89b037d48b209de4"
  },
  {
   "metadata": {
    "ExecuteTime": {
     "end_time": "2025-02-09T00:04:39.799822Z",
     "start_time": "2025-02-09T00:04:39.748207Z"
    }
   },
   "cell_type": "code",
   "source": [
    "plt.pie(grafico['Promedio'], labels=grafico['Semestre'], autopct='%1.0f%%', startangle=90)\n",
    "plt.title('Gráfico Circular')\n",
    "plt.legend(title='Semestre')\n",
    "plt.show()"
   ],
   "id": "1bccedef56aad903",
   "outputs": [
    {
     "data": {
      "text/plain": [
       "<Figure size 640x480 with 1 Axes>"
      ],
      "image/png": "[encoded data removed]"
     },
     "metadata": {},
     "output_type": "display_data"
    }
   ],
   "execution_count": 77
  },
  {
   "metadata": {},
   "cell_type": "markdown",
   "source": [
    "### **Pictograma**\n",
    "\n",
    "Es uno de los gráficos que atrae más la atención, consiste en representar por medio de figuras magnitudes determinadas, su desventaja principal es que no permite hacer comparaciones satisfactorias\n",
    "\n",
    "<center> <img src=\"img/maxresdefault.jpg\" width=500> </center>"
   ],
   "id": "34c4bb08d0196ce1"
  },
  {
   "metadata": {},
   "cell_type": "markdown",
   "source": [
    "### **Histograma**\n",
    "\n",
    "Este es muy similar a gráfico de barras nada más que con ciertas características, los centros de las barras sobre el eje 'X' son las marcas de clase, además de prolongar estas marcas a línea inferior y superior. El polígono de frecuencias es la unión por medio de una línea de todas las frecuencias"
   ],
   "id": "ef9a6dda2dac82e4"
  },
  {
   "metadata": {
    "ExecuteTime": {
     "end_time": "2025-02-09T00:43:22.729945Z",
     "start_time": "2025-02-09T00:43:22.652674Z"
    }
   },
   "cell_type": "code",
   "source": [
    "# Datos\n",
    "altura_df = pd.DataFrame({\n",
    "    'Altura (pg)': [61, 64, 67, 70, 73],\n",
    "    'Cantidad': [5, 18, 42, 27, 8]\n",
    "})\n",
    "\n",
    "# Expandir los datos según la cantidad de alumnos\n",
    "alturas = np.repeat(altura_df['Altura (pg)'], altura_df['Cantidad'])\n",
    "\n",
    "# Crear el histograma\n",
    "plt.hist(alturas, bins=5, color='darkgreen', alpha=0.5, edgecolor='black')\n",
    "\n",
    "# Etiquetas y título\n",
    "plt.title('Histograma de Alturas de 100 Estudiantes')\n",
    "plt.xlabel('Altura')\n",
    "plt.ylabel('N° de alumnos')\n",
    "plt.grid(True)\n",
    "\n",
    "# Mostrar\n",
    "plt.show()"
   ],
   "id": "9d4fccb77c1505cf",
   "outputs": [
    {
     "data": {
      "text/plain": [
       "<Figure size 640x480 with 1 Axes>"
      ],
      "image/png": "[encoded data removed]"
     },
     "metadata": {},
     "output_type": "display_data"
    }
   ],
   "execution_count": 104
  },
  {
   "metadata": {},
   "cell_type": "markdown",
   "source": [
    "### **Gráfico de Líneas**\n",
    "\n",
    "Es muy útil para comparar los datos o más distribuciones, esta consiste en unir por medio de segmentos de líneas las puntas que indican la frecuencia. Presenta la siguiente tabla por medio de un gráfico de líneas."
   ],
   "id": "b99478f9401f4d82"
  },
  {
   "metadata": {
    "ExecuteTime": {
     "end_time": "2025-02-09T00:54:35.492264Z",
     "start_time": "2025-02-09T00:54:35.389743Z"
    }
   },
   "cell_type": "code",
   "source": [
    "poblacion = pd.DataFrame({\n",
    "    'Año': [1900, 1910, 1921, 1930, 1940, 1950, 1960, 1970, 1980],\n",
    "    'Urbana': [2.6, 3.7, 4.5, 5.5, 6.9, 11.0, 17.7, 29.8, 44.6],\n",
    "    'Rural': [11.0, 11.5, 9.9, 11.0, 12.8, 14.8, 17.2, 20.9, 23.3]\n",
    "})\n",
    "\n",
    "plt.figure(figsize = (15, 5))\n",
    "plt.plot(poblacion['Año'], poblacion['Rural'], color='b')\n",
    "plt.plot(poblacion['Año'], poblacion['Urbana'], color='r')\n",
    "plt.title('Población rural y urbana en México')\n",
    "plt.xlabel('Año')\n",
    "plt.ylabel('Millones de habitantes')\n",
    "plt.legend(['Rural', 'Urbana'], loc='upper left')\n",
    "plt.yticks(np.arange(0, 60, 10))\n",
    "plt.grid(True)\n",
    "plt.show()"
   ],
   "id": "de0d20fe8d8832b2",
   "outputs": [
    {
     "data": {
      "text/plain": [
       "<Figure size 1500x500 with 1 Axes>"
      ],
      "image/png": "[encoded data removed]"
     },
     "metadata": {},
     "output_type": "display_data"
    }
   ],
   "execution_count": 125
  }
 ],
 "metadata": {
  "kernelspec": {
   "display_name": "Python 3",
   "language": "python",
   "name": "python3"
  },
  "language_info": {
   "codemirror_mode": {
    "name": "ipython",
    "version": 2
   },
   "file_extension": ".py",
   "mimetype": "text/x-python",
   "name": "python",
   "nbconvert_exporter": "python",
   "pygments_lexer": "ipython2",
   "version": "2.7.6"
  }
 },
 "nbformat": 4,
 "nbformat_minor": 5
}
