{
 "cells": [
  {
   "metadata": {},
   "cell_type": "markdown",
   "source": [
    "# Estadística\n",
    "\n",
    "Es un conjunto de procedimientos que sirven para organizar y resumir datos originados en la observación y dar respuesta a ciertas preguntas.\n",
    "\n",
    "Para su estudio la estadística se divide en dos ramas: Estadística Inductiva o Inferencial que trata las condiciones bajo las cuales las conclusiones o inferencias son válidas y Estadística Descriptiva o Deductiva que trata de describir y analizar a un grupo dado sin sacar conclusiones o inferencias"
   ],
   "id": "35e6ea6f8f560f05"
  },
  {
   "metadata": {},
   "cell_type": "markdown",
   "source": [
    "## Estadística Descriptiva\n",
    "\n",
    "Se dedica a los métodos de recolección, descripción, visualización y resumen de datos originados a partir de los fenómenos en estudio. Los Datos pueden ser resumidos númerica o gráficamente. Ejemplos básicos de descriptores numéricos son la media y la desviación estándar. Resúmenes gráficos incluyen varios tipos de figuras y gráficos."
   ],
   "id": "2e812e6f4a10cab"
  },
  {
   "metadata": {},
   "cell_type": "markdown",
   "source": [
    "## Estadística Inferencial o Inferencia Estadística\n",
    "\n",
    "Estudia cómo sacar conclusiones generales para toda la población a partir del estudio de una muestra, y el grado de fiabilidad o significación de los resultados obtenidos. Su objetivo es obtener conclusiones útiles para hacer deducciones sobre una totalidad, basándose en la información númerica de la muestra"
   ],
   "id": "51f6119d874f2ba8"
  },
  {
   "metadata": {},
   "cell_type": "markdown",
   "source": "Análisis de mercado. Las empresas a menudo contratan otras empresas especializadas en marketing para que analicen sus nichos de mercado a través de diversas herramientas estadísticas y diferenciales, como encuestas y focus groups, a partir de las cuales deducir qué productos prefiere la gente y en qué contexto, etc.",
   "id": "29b045dcc4468a74"
  },
  {
   "metadata": {},
   "cell_type": "markdown",
   "source": "La **diferencia** entre ambas, es que, la estadística descriptiva no se preocupa por conclusiones, interpretaciones ni hipótesis a partir de lo reflejado por la muestra, sino por los métodos idóneos para la organización y presentación de la información que contiene, y evidenciar sus características esenciales.",
   "id": "216aaca03f80a10b"
  },
  {
   "metadata": {},
   "cell_type": "markdown",
   "source": [
    "### Tablas estadísticas\n",
    "\n",
    "Efectuada la toma de datos (recolección) hay que contar y clasificarlos (ordenación) de manera clara y significativa para su fácil majeno, para ello se recurre a la tabla estadística y su gráfico, de estos dos la tabla es más importante pues es la base de la construcción y del gráfico y de su análisis"
   ],
   "id": "312887d067f583c4"
  },
  {
   "metadata": {
    "ExecuteTime": {
     "end_time": "2025-02-09T21:57:46.706989Z",
     "start_time": "2025-02-09T21:57:46.701519Z"
    }
   },
   "cell_type": "code",
   "source": [
    "# We import libraries\n",
    "import pandas as pd\n",
    "import numpy as np"
   ],
   "id": "2c0d5de2ff4d5a2e",
   "outputs": [],
   "execution_count": 466
  },
  {
   "metadata": {},
   "cell_type": "markdown",
   "source": "Ejemplo",
   "id": "3f5f7c885f993868"
  },
  {
   "metadata": {
    "ExecuteTime": {
     "end_time": "2025-02-09T21:57:46.727100Z",
     "start_time": "2025-02-09T21:57:46.716683Z"
    }
   },
   "cell_type": "code",
   "source": [
    "pd.DataFrame({\n",
    "    'Año' : [1900, 1910, 1921, 1930],\n",
    "    'Total (millones)' : [13.6, 15.2, 14.4, 16.5],\n",
    "    'Urbana' : [2.6, 3.7, 4.5, 5.5],\n",
    "    'Rural' : [11.0, 11.5, 9.9, 11.0]\n",
    "})"
   ],
   "id": "5fcddbcfd4b1bd0d",
   "outputs": [
    {
     "data": {
      "text/plain": [
       "    Año  Total (millones)  Urbana  Rural\n",
       "0  1900              13.6     2.6   11.0\n",
       "1  1910              15.2     3.7   11.5\n",
       "2  1921              14.4     4.5    9.9\n",
       "3  1930              16.5     5.5   11.0"
      ],
      "text/html": [
       "<div>\n",
       "<style scoped>\n",
       "    .dataframe tbody tr th:only-of-type {\n",
       "        vertical-align: middle;\n",
       "    }\n",
       "\n",
       "    .dataframe tbody tr th {\n",
       "        vertical-align: top;\n",
       "    }\n",
       "\n",
       "    .dataframe thead th {\n",
       "        text-align: right;\n",
       "    }\n",
       "</style>\n",
       "<table border=\"1\" class=\"dataframe\">\n",
       "  <thead>\n",
       "    <tr style=\"text-align: right;\">\n",
       "      <th></th>\n",
       "      <th>Año</th>\n",
       "      <th>Total (millones)</th>\n",
       "      <th>Urbana</th>\n",
       "      <th>Rural</th>\n",
       "    </tr>\n",
       "  </thead>\n",
       "  <tbody>\n",
       "    <tr>\n",
       "      <th>0</th>\n",
       "      <td>1900</td>\n",
       "      <td>13.6</td>\n",
       "      <td>2.6</td>\n",
       "      <td>11.0</td>\n",
       "    </tr>\n",
       "    <tr>\n",
       "      <th>1</th>\n",
       "      <td>1910</td>\n",
       "      <td>15.2</td>\n",
       "      <td>3.7</td>\n",
       "      <td>11.5</td>\n",
       "    </tr>\n",
       "    <tr>\n",
       "      <th>2</th>\n",
       "      <td>1921</td>\n",
       "      <td>14.4</td>\n",
       "      <td>4.5</td>\n",
       "      <td>9.9</td>\n",
       "    </tr>\n",
       "    <tr>\n",
       "      <th>3</th>\n",
       "      <td>1930</td>\n",
       "      <td>16.5</td>\n",
       "      <td>5.5</td>\n",
       "      <td>11.0</td>\n",
       "    </tr>\n",
       "  </tbody>\n",
       "</table>\n",
       "</div>"
      ]
     },
     "execution_count": 467,
     "metadata": {},
     "output_type": "execute_result"
    }
   ],
   "execution_count": 467
  },
  {
   "metadata": {},
   "cell_type": "markdown",
   "source": "Ejemplo",
   "id": "3f6462c18b92816"
  },
  {
   "metadata": {
    "ExecuteTime": {
     "end_time": "2025-02-09T21:57:46.767717Z",
     "start_time": "2025-02-09T21:57:46.762668Z"
    }
   },
   "cell_type": "code",
   "source": [
    "pd.DataFrame({\n",
    "    'Entidad' : ['Campeche', 'Jalisco', 'Michoacán', 'Veracruz'],\n",
    "    'Producción' : [30013100, 365217400, 131218800, 1018439850]\n",
    "})"
   ],
   "id": "d5bb71644a1dc06d",
   "outputs": [
    {
     "data": {
      "text/plain": [
       "     Entidad  Producción\n",
       "0   Campeche    30013100\n",
       "1    Jalisco   365217400\n",
       "2  Michoacán   131218800\n",
       "3   Veracruz  1018439850"
      ],
      "text/html": [
       "<div>\n",
       "<style scoped>\n",
       "    .dataframe tbody tr th:only-of-type {\n",
       "        vertical-align: middle;\n",
       "    }\n",
       "\n",
       "    .dataframe tbody tr th {\n",
       "        vertical-align: top;\n",
       "    }\n",
       "\n",
       "    .dataframe thead th {\n",
       "        text-align: right;\n",
       "    }\n",
       "</style>\n",
       "<table border=\"1\" class=\"dataframe\">\n",
       "  <thead>\n",
       "    <tr style=\"text-align: right;\">\n",
       "      <th></th>\n",
       "      <th>Entidad</th>\n",
       "      <th>Producción</th>\n",
       "    </tr>\n",
       "  </thead>\n",
       "  <tbody>\n",
       "    <tr>\n",
       "      <th>0</th>\n",
       "      <td>Campeche</td>\n",
       "      <td>30013100</td>\n",
       "    </tr>\n",
       "    <tr>\n",
       "      <th>1</th>\n",
       "      <td>Jalisco</td>\n",
       "      <td>365217400</td>\n",
       "    </tr>\n",
       "    <tr>\n",
       "      <th>2</th>\n",
       "      <td>Michoacán</td>\n",
       "      <td>131218800</td>\n",
       "    </tr>\n",
       "    <tr>\n",
       "      <th>3</th>\n",
       "      <td>Veracruz</td>\n",
       "      <td>1018439850</td>\n",
       "    </tr>\n",
       "  </tbody>\n",
       "</table>\n",
       "</div>"
      ]
     },
     "execution_count": 468,
     "metadata": {},
     "output_type": "execute_result"
    }
   ],
   "execution_count": 468
  },
  {
   "metadata": {},
   "cell_type": "markdown",
   "source": [
    "Actividad 2 : Elabora tablas estadísticas con los siguientes enunciados\n",
    "\n",
    "\n",
    "a) El anuario estadístico de 1984 del Tecnológico de Jiquilpan nos dice que\n",
    "hasta 1983 había 137 egresados de los cuales 80 eran hombres y 57 mujeres\n",
    "repartidos como sigue: 1° generación feb’81 17 hombres y 11 mujeres,\n",
    "2° generación ago’81 23 hombres y 15 mujeres,\n",
    "3° feb’82 11 hombres y 10 mujeres,\n",
    "4° ago’82 5 hombres y 1 mujer\n",
    "5° feb’83 por 24 hombres y 13 mujeres,"
   ],
   "id": "aea2d99f5d01a0ec"
  },
  {
   "metadata": {
    "ExecuteTime": {
     "end_time": "2025-02-09T21:57:46.820832Z",
     "start_time": "2025-02-09T21:57:46.816590Z"
    }
   },
   "cell_type": "code",
   "source": [
    "pd.DataFrame({\n",
    "    'Generación' : [1, 2, 3, 4, 5],\n",
    "    'Fecha' : [\"feb'81\", \"ago'81\", \"feb'82\", \"ago'82\", \"feb'83\"],\n",
    "    'Hombres' : [17, 23, 10, 5, 24],\n",
    "    'Mujeres' : [11, 15, 10, 1, 13]\n",
    "})"
   ],
   "id": "545ecfef3d9e630a",
   "outputs": [
    {
     "data": {
      "text/plain": [
       "   Generación   Fecha  Hombres  Mujeres\n",
       "0           1  feb'81       17       11\n",
       "1           2  ago'81       23       15\n",
       "2           3  feb'82       10       10\n",
       "3           4  ago'82        5        1\n",
       "4           5  feb'83       24       13"
      ],
      "text/html": [
       "<div>\n",
       "<style scoped>\n",
       "    .dataframe tbody tr th:only-of-type {\n",
       "        vertical-align: middle;\n",
       "    }\n",
       "\n",
       "    .dataframe tbody tr th {\n",
       "        vertical-align: top;\n",
       "    }\n",
       "\n",
       "    .dataframe thead th {\n",
       "        text-align: right;\n",
       "    }\n",
       "</style>\n",
       "<table border=\"1\" class=\"dataframe\">\n",
       "  <thead>\n",
       "    <tr style=\"text-align: right;\">\n",
       "      <th></th>\n",
       "      <th>Generación</th>\n",
       "      <th>Fecha</th>\n",
       "      <th>Hombres</th>\n",
       "      <th>Mujeres</th>\n",
       "    </tr>\n",
       "  </thead>\n",
       "  <tbody>\n",
       "    <tr>\n",
       "      <th>0</th>\n",
       "      <td>1</td>\n",
       "      <td>feb'81</td>\n",
       "      <td>17</td>\n",
       "      <td>11</td>\n",
       "    </tr>\n",
       "    <tr>\n",
       "      <th>1</th>\n",
       "      <td>2</td>\n",
       "      <td>ago'81</td>\n",
       "      <td>23</td>\n",
       "      <td>15</td>\n",
       "    </tr>\n",
       "    <tr>\n",
       "      <th>2</th>\n",
       "      <td>3</td>\n",
       "      <td>feb'82</td>\n",
       "      <td>10</td>\n",
       "      <td>10</td>\n",
       "    </tr>\n",
       "    <tr>\n",
       "      <th>3</th>\n",
       "      <td>4</td>\n",
       "      <td>ago'82</td>\n",
       "      <td>5</td>\n",
       "      <td>1</td>\n",
       "    </tr>\n",
       "    <tr>\n",
       "      <th>4</th>\n",
       "      <td>5</td>\n",
       "      <td>feb'83</td>\n",
       "      <td>24</td>\n",
       "      <td>13</td>\n",
       "    </tr>\n",
       "  </tbody>\n",
       "</table>\n",
       "</div>"
      ]
     },
     "execution_count": 469,
     "metadata": {},
     "output_type": "execute_result"
    }
   ],
   "execution_count": 469
  },
  {
   "metadata": {},
   "cell_type": "markdown",
   "source": [
    "b) En la enciclopedia de México 3° Ed 1978 p 991, leemos que el número total de\n",
    "viviendas del país es de 8,826369, de las cuales 2,494,950 tiene muros de adobe,\n",
    "3,658,146 de ladrillo y 2,133,273 de madera u otros materiales, esta información\n",
    "proviene del IX Censo General de Población de 1970, presenta esta información en\n",
    "una tabla de mayor a menor y con sus porcentajes."
   ],
   "id": "6f4d558220897465"
  },
  {
   "metadata": {
    "ExecuteTime": {
     "end_time": "2025-02-09T21:57:46.904788Z",
     "start_time": "2025-02-09T21:57:46.901553Z"
    }
   },
   "cell_type": "code",
   "source": [
    "pd.DataFrame({\n",
    "    'Casas' : ['Total de viviendas del país', 'Muros de abobe', 'Ladrillo', 'Madera u otros materiales'],\n",
    "    'Cantidad': [8826369, 2494950, 3658146, 2133273]\n",
    "})"
   ],
   "id": "2102e4da276610de",
   "outputs": [
    {
     "data": {
      "text/plain": [
       "                         Casas  Cantidad\n",
       "0  Total de viviendas del país   8826369\n",
       "1               Muros de abobe   2494950\n",
       "2                     Ladrillo   3658146\n",
       "3    Madera u otros materiales   2133273"
      ],
      "text/html": [
       "<div>\n",
       "<style scoped>\n",
       "    .dataframe tbody tr th:only-of-type {\n",
       "        vertical-align: middle;\n",
       "    }\n",
       "\n",
       "    .dataframe tbody tr th {\n",
       "        vertical-align: top;\n",
       "    }\n",
       "\n",
       "    .dataframe thead th {\n",
       "        text-align: right;\n",
       "    }\n",
       "</style>\n",
       "<table border=\"1\" class=\"dataframe\">\n",
       "  <thead>\n",
       "    <tr style=\"text-align: right;\">\n",
       "      <th></th>\n",
       "      <th>Casas</th>\n",
       "      <th>Cantidad</th>\n",
       "    </tr>\n",
       "  </thead>\n",
       "  <tbody>\n",
       "    <tr>\n",
       "      <th>0</th>\n",
       "      <td>Total de viviendas del país</td>\n",
       "      <td>8826369</td>\n",
       "    </tr>\n",
       "    <tr>\n",
       "      <th>1</th>\n",
       "      <td>Muros de abobe</td>\n",
       "      <td>2494950</td>\n",
       "    </tr>\n",
       "    <tr>\n",
       "      <th>2</th>\n",
       "      <td>Ladrillo</td>\n",
       "      <td>3658146</td>\n",
       "    </tr>\n",
       "    <tr>\n",
       "      <th>3</th>\n",
       "      <td>Madera u otros materiales</td>\n",
       "      <td>2133273</td>\n",
       "    </tr>\n",
       "  </tbody>\n",
       "</table>\n",
       "</div>"
      ]
     },
     "execution_count": 470,
     "metadata": {},
     "output_type": "execute_result"
    }
   ],
   "execution_count": 470
  },
  {
   "metadata": {},
   "cell_type": "markdown",
   "source": [
    "### Distribución de frecuencias\n",
    "\n",
    "Cuando se dispone de un gran número de datos es útil el distribuirlos en clases o categorías y determinar el número de individuos pertenecientes a cada categoría que será la frecuencia de clase."
   ],
   "id": "fb618a878dda807c"
  },
  {
   "metadata": {
    "ExecuteTime": {
     "end_time": "2025-02-09T21:57:46.986753Z",
     "start_time": "2025-02-09T21:57:46.982077Z"
    }
   },
   "cell_type": "code",
   "source": [
    "frecuencia = pd.DataFrame({\n",
    "    'País': ['México', 'Argentina', 'Portugal', 'Brasil'],\n",
    "    'Goles': [10, 8, 7, 3]\n",
    "})\n",
    "\n",
    "frecuencia"
   ],
   "id": "515ec25283dff429",
   "outputs": [
    {
     "data": {
      "text/plain": [
       "        País  Goles\n",
       "0     México     10\n",
       "1  Argentina      8\n",
       "2   Portugal      7\n",
       "3     Brasil      3"
      ],
      "text/html": [
       "<div>\n",
       "<style scoped>\n",
       "    .dataframe tbody tr th:only-of-type {\n",
       "        vertical-align: middle;\n",
       "    }\n",
       "\n",
       "    .dataframe tbody tr th {\n",
       "        vertical-align: top;\n",
       "    }\n",
       "\n",
       "    .dataframe thead th {\n",
       "        text-align: right;\n",
       "    }\n",
       "</style>\n",
       "<table border=\"1\" class=\"dataframe\">\n",
       "  <thead>\n",
       "    <tr style=\"text-align: right;\">\n",
       "      <th></th>\n",
       "      <th>País</th>\n",
       "      <th>Goles</th>\n",
       "    </tr>\n",
       "  </thead>\n",
       "  <tbody>\n",
       "    <tr>\n",
       "      <th>0</th>\n",
       "      <td>México</td>\n",
       "      <td>10</td>\n",
       "    </tr>\n",
       "    <tr>\n",
       "      <th>1</th>\n",
       "      <td>Argentina</td>\n",
       "      <td>8</td>\n",
       "    </tr>\n",
       "    <tr>\n",
       "      <th>2</th>\n",
       "      <td>Portugal</td>\n",
       "      <td>7</td>\n",
       "    </tr>\n",
       "    <tr>\n",
       "      <th>3</th>\n",
       "      <td>Brasil</td>\n",
       "      <td>3</td>\n",
       "    </tr>\n",
       "  </tbody>\n",
       "</table>\n",
       "</div>"
      ]
     },
     "execution_count": 471,
     "metadata": {},
     "output_type": "execute_result"
    }
   ],
   "execution_count": 471
  },
  {
   "metadata": {},
   "cell_type": "markdown",
   "source": [
    "A esta misma tabla le podemos anexar más datos frecuenciales tales como:\n",
    "\n",
    "- **Frecuencia Acumulada (fa)**: Es la sumatoria de las frecuencias.\n",
    "- **Frecuencia Relativa (fr)**: Esta es el porcentaje de las frecuencias.\n",
    "- **Frecuencia Relativa Acumulada (fra)**: Es la sumatoria de las frecuencias relativas.\n",
    "\n",
    "Para obtener la frecuencia relativa (**fr**) utilizamos la siguiente formula:\n",
    "\n",
    "<center> fr(%) = $\\frac{f}{\\sum f}$ x 100 </center>"
   ],
   "id": "a0681f0af197dc71"
  },
  {
   "metadata": {
    "ExecuteTime": {
     "end_time": "2025-02-09T21:57:47.071004Z",
     "start_time": "2025-02-09T21:57:47.065707Z"
    }
   },
   "cell_type": "code",
   "source": [
    "# Calcular la frecuencia acumulada\n",
    "frecuencia['Frecuencia Acumulada'] = frecuencia['Goles'].cumsum()\n",
    "\n",
    "# Calcular la frecuencia relativa\n",
    "frecuencia['Frecuencia Relativa'] = ((frecuencia['Goles'] / frecuencia['Goles'].sum()) * 100).__round__(2)\n",
    "\n",
    "# Calcular la frecuencia relativa acumulada\n",
    "frecuencia['Frecuencia Relativa Acumulada'] = frecuencia['Frecuencia Relativa'].cumsum().round(2)\n",
    "\n",
    "frecuencia"
   ],
   "id": "340e6c4c0508a1e4",
   "outputs": [
    {
     "data": {
      "text/plain": [
       "        País  Goles  Frecuencia Acumulada  Frecuencia Relativa  \\\n",
       "0     México     10                    10                35.71   \n",
       "1  Argentina      8                    18                28.57   \n",
       "2   Portugal      7                    25                25.00   \n",
       "3     Brasil      3                    28                10.71   \n",
       "\n",
       "   Frecuencia Relativa Acumulada  \n",
       "0                          35.71  \n",
       "1                          64.28  \n",
       "2                          89.28  \n",
       "3                          99.99  "
      ],
      "text/html": [
       "<div>\n",
       "<style scoped>\n",
       "    .dataframe tbody tr th:only-of-type {\n",
       "        vertical-align: middle;\n",
       "    }\n",
       "\n",
       "    .dataframe tbody tr th {\n",
       "        vertical-align: top;\n",
       "    }\n",
       "\n",
       "    .dataframe thead th {\n",
       "        text-align: right;\n",
       "    }\n",
       "</style>\n",
       "<table border=\"1\" class=\"dataframe\">\n",
       "  <thead>\n",
       "    <tr style=\"text-align: right;\">\n",
       "      <th></th>\n",
       "      <th>País</th>\n",
       "      <th>Goles</th>\n",
       "      <th>Frecuencia Acumulada</th>\n",
       "      <th>Frecuencia Relativa</th>\n",
       "      <th>Frecuencia Relativa Acumulada</th>\n",
       "    </tr>\n",
       "  </thead>\n",
       "  <tbody>\n",
       "    <tr>\n",
       "      <th>0</th>\n",
       "      <td>México</td>\n",
       "      <td>10</td>\n",
       "      <td>10</td>\n",
       "      <td>35.71</td>\n",
       "      <td>35.71</td>\n",
       "    </tr>\n",
       "    <tr>\n",
       "      <th>1</th>\n",
       "      <td>Argentina</td>\n",
       "      <td>8</td>\n",
       "      <td>18</td>\n",
       "      <td>28.57</td>\n",
       "      <td>64.28</td>\n",
       "    </tr>\n",
       "    <tr>\n",
       "      <th>2</th>\n",
       "      <td>Portugal</td>\n",
       "      <td>7</td>\n",
       "      <td>25</td>\n",
       "      <td>25.00</td>\n",
       "      <td>89.28</td>\n",
       "    </tr>\n",
       "    <tr>\n",
       "      <th>3</th>\n",
       "      <td>Brasil</td>\n",
       "      <td>3</td>\n",
       "      <td>28</td>\n",
       "      <td>10.71</td>\n",
       "      <td>99.99</td>\n",
       "    </tr>\n",
       "  </tbody>\n",
       "</table>\n",
       "</div>"
      ]
     },
     "execution_count": 472,
     "metadata": {},
     "output_type": "execute_result"
    }
   ],
   "execution_count": 472
  },
  {
   "metadata": {},
   "cell_type": "markdown",
   "source": [
    "**Actividad 3:**\n",
    "\n",
    "a) Un agente de tránsito registro durante un mes el número de accidentes en motocicletas ocurridos en la avenida principal de Sahuayo. Los datos registrados son los siguientes.\n",
    "\n",
    "1, 2, 4, 1, 2, 0, 0, 2, 6, 6, 4, 5, 1, 5, 1, 1, 1, 5, 6, 5, 1, 4, 3, 4, 4, 4, 2, 3, 2, 2.\n",
    "\n",
    "Con la información anterior elabora una tabla estadística en la que incluyas la variable ordenada de mayor a menor, sin repetir los valores, determina la frecuencia, la frecuencia acumulada, la frecuencia relativa y la frecuencia relativa acumulada."
   ],
   "id": "1cee6aec2abfa760"
  },
  {
   "metadata": {
    "ExecuteTime": {
     "end_time": "2025-02-09T21:57:47.140043Z",
     "start_time": "2025-02-09T21:57:47.138216Z"
    }
   },
   "cell_type": "code",
   "source": "lista = sorted([1, 2, 4, 1, 2, 0, 0, 2, 6, 6, 4, 5, 1, 5, 1, 1, 1, 5, 6, 5, 1, 4, 3, 4, 4, 4, 2, 3, 2, 2], reverse=True)",
   "id": "7179bdab03b66ade",
   "outputs": [],
   "execution_count": 473
  },
  {
   "metadata": {
    "ExecuteTime": {
     "end_time": "2025-02-09T21:57:47.204806Z",
     "start_time": "2025-02-09T21:57:47.203042Z"
    }
   },
   "cell_type": "code",
   "source": [
    "accidentes_df = pd.DataFrame({\n",
    "    'Accidentes' : lista,\n",
    "})"
   ],
   "id": "52e685dc7557d61a",
   "outputs": [],
   "execution_count": 474
  },
  {
   "metadata": {
    "ExecuteTime": {
     "end_time": "2025-02-09T21:57:47.255429Z",
     "start_time": "2025-02-09T21:57:47.252604Z"
    }
   },
   "cell_type": "code",
   "source": [
    "# Realizamos la frecuencia\n",
    "accidentes_df['Frecuencia'] = accidentes_df['Accidentes'].cumsum()\n",
    "\n",
    "# Realizamos la frecuencia relativa\n",
    "accidentes_df['Frecuencia Relativa'] = ((accidentes_df['Accidentes'] / accidentes_df['Accidentes'].sum()) * 100).round(2)\n",
    "\n",
    "# Realizamos la frecuencia relativa acumulada\n",
    "accidentes_df['Frecuencia Relativa Acumulada'] = accidentes_df['Frecuencia Relativa'].cumsum().round(2)"
   ],
   "id": "f5da6f2b9d1dc929",
   "outputs": [],
   "execution_count": 475
  },
  {
   "metadata": {
    "ExecuteTime": {
     "end_time": "2025-02-09T21:57:47.288055Z",
     "start_time": "2025-02-09T21:57:47.282512Z"
    }
   },
   "cell_type": "code",
   "source": "accidentes_df",
   "id": "f990a867e2c33865",
   "outputs": [
    {
     "data": {
      "text/plain": [
       "    Accidentes  Frecuencia  Frecuencia Relativa  Frecuencia Relativa Acumulada\n",
       "0            6           6                 6.90                           6.90\n",
       "1            6          12                 6.90                          13.80\n",
       "2            6          18                 6.90                          20.70\n",
       "3            5          23                 5.75                          26.45\n",
       "4            5          28                 5.75                          32.20\n",
       "5            5          33                 5.75                          37.95\n",
       "6            5          38                 5.75                          43.70\n",
       "7            4          42                 4.60                          48.30\n",
       "8            4          46                 4.60                          52.90\n",
       "9            4          50                 4.60                          57.50\n",
       "10           4          54                 4.60                          62.10\n",
       "11           4          58                 4.60                          66.70\n",
       "12           4          62                 4.60                          71.30\n",
       "13           3          65                 3.45                          74.75\n",
       "14           3          68                 3.45                          78.20\n",
       "15           2          70                 2.30                          80.50\n",
       "16           2          72                 2.30                          82.80\n",
       "17           2          74                 2.30                          85.10\n",
       "18           2          76                 2.30                          87.40\n",
       "19           2          78                 2.30                          89.70\n",
       "20           2          80                 2.30                          92.00\n",
       "21           1          81                 1.15                          93.15\n",
       "22           1          82                 1.15                          94.30\n",
       "23           1          83                 1.15                          95.45\n",
       "24           1          84                 1.15                          96.60\n",
       "25           1          85                 1.15                          97.75\n",
       "26           1          86                 1.15                          98.90\n",
       "27           1          87                 1.15                         100.05\n",
       "28           0          87                 0.00                         100.05\n",
       "29           0          87                 0.00                         100.05"
      ],
      "text/html": [
       "<div>\n",
       "<style scoped>\n",
       "    .dataframe tbody tr th:only-of-type {\n",
       "        vertical-align: middle;\n",
       "    }\n",
       "\n",
       "    .dataframe tbody tr th {\n",
       "        vertical-align: top;\n",
       "    }\n",
       "\n",
       "    .dataframe thead th {\n",
       "        text-align: right;\n",
       "    }\n",
       "</style>\n",
       "<table border=\"1\" class=\"dataframe\">\n",
       "  <thead>\n",
       "    <tr style=\"text-align: right;\">\n",
       "      <th></th>\n",
       "      <th>Accidentes</th>\n",
       "      <th>Frecuencia</th>\n",
       "      <th>Frecuencia Relativa</th>\n",
       "      <th>Frecuencia Relativa Acumulada</th>\n",
       "    </tr>\n",
       "  </thead>\n",
       "  <tbody>\n",
       "    <tr>\n",
       "      <th>0</th>\n",
       "      <td>6</td>\n",
       "      <td>6</td>\n",
       "      <td>6.90</td>\n",
       "      <td>6.90</td>\n",
       "    </tr>\n",
       "    <tr>\n",
       "      <th>1</th>\n",
       "      <td>6</td>\n",
       "      <td>12</td>\n",
       "      <td>6.90</td>\n",
       "      <td>13.80</td>\n",
       "    </tr>\n",
       "    <tr>\n",
       "      <th>2</th>\n",
       "      <td>6</td>\n",
       "      <td>18</td>\n",
       "      <td>6.90</td>\n",
       "      <td>20.70</td>\n",
       "    </tr>\n",
       "    <tr>\n",
       "      <th>3</th>\n",
       "      <td>5</td>\n",
       "      <td>23</td>\n",
       "      <td>5.75</td>\n",
       "      <td>26.45</td>\n",
       "    </tr>\n",
       "    <tr>\n",
       "      <th>4</th>\n",
       "      <td>5</td>\n",
       "      <td>28</td>\n",
       "      <td>5.75</td>\n",
       "      <td>32.20</td>\n",
       "    </tr>\n",
       "    <tr>\n",
       "      <th>5</th>\n",
       "      <td>5</td>\n",
       "      <td>33</td>\n",
       "      <td>5.75</td>\n",
       "      <td>37.95</td>\n",
       "    </tr>\n",
       "    <tr>\n",
       "      <th>6</th>\n",
       "      <td>5</td>\n",
       "      <td>38</td>\n",
       "      <td>5.75</td>\n",
       "      <td>43.70</td>\n",
       "    </tr>\n",
       "    <tr>\n",
       "      <th>7</th>\n",
       "      <td>4</td>\n",
       "      <td>42</td>\n",
       "      <td>4.60</td>\n",
       "      <td>48.30</td>\n",
       "    </tr>\n",
       "    <tr>\n",
       "      <th>8</th>\n",
       "      <td>4</td>\n",
       "      <td>46</td>\n",
       "      <td>4.60</td>\n",
       "      <td>52.90</td>\n",
       "    </tr>\n",
       "    <tr>\n",
       "      <th>9</th>\n",
       "      <td>4</td>\n",
       "      <td>50</td>\n",
       "      <td>4.60</td>\n",
       "      <td>57.50</td>\n",
       "    </tr>\n",
       "    <tr>\n",
       "      <th>10</th>\n",
       "      <td>4</td>\n",
       "      <td>54</td>\n",
       "      <td>4.60</td>\n",
       "      <td>62.10</td>\n",
       "    </tr>\n",
       "    <tr>\n",
       "      <th>11</th>\n",
       "      <td>4</td>\n",
       "      <td>58</td>\n",
       "      <td>4.60</td>\n",
       "      <td>66.70</td>\n",
       "    </tr>\n",
       "    <tr>\n",
       "      <th>12</th>\n",
       "      <td>4</td>\n",
       "      <td>62</td>\n",
       "      <td>4.60</td>\n",
       "      <td>71.30</td>\n",
       "    </tr>\n",
       "    <tr>\n",
       "      <th>13</th>\n",
       "      <td>3</td>\n",
       "      <td>65</td>\n",
       "      <td>3.45</td>\n",
       "      <td>74.75</td>\n",
       "    </tr>\n",
       "    <tr>\n",
       "      <th>14</th>\n",
       "      <td>3</td>\n",
       "      <td>68</td>\n",
       "      <td>3.45</td>\n",
       "      <td>78.20</td>\n",
       "    </tr>\n",
       "    <tr>\n",
       "      <th>15</th>\n",
       "      <td>2</td>\n",
       "      <td>70</td>\n",
       "      <td>2.30</td>\n",
       "      <td>80.50</td>\n",
       "    </tr>\n",
       "    <tr>\n",
       "      <th>16</th>\n",
       "      <td>2</td>\n",
       "      <td>72</td>\n",
       "      <td>2.30</td>\n",
       "      <td>82.80</td>\n",
       "    </tr>\n",
       "    <tr>\n",
       "      <th>17</th>\n",
       "      <td>2</td>\n",
       "      <td>74</td>\n",
       "      <td>2.30</td>\n",
       "      <td>85.10</td>\n",
       "    </tr>\n",
       "    <tr>\n",
       "      <th>18</th>\n",
       "      <td>2</td>\n",
       "      <td>76</td>\n",
       "      <td>2.30</td>\n",
       "      <td>87.40</td>\n",
       "    </tr>\n",
       "    <tr>\n",
       "      <th>19</th>\n",
       "      <td>2</td>\n",
       "      <td>78</td>\n",
       "      <td>2.30</td>\n",
       "      <td>89.70</td>\n",
       "    </tr>\n",
       "    <tr>\n",
       "      <th>20</th>\n",
       "      <td>2</td>\n",
       "      <td>80</td>\n",
       "      <td>2.30</td>\n",
       "      <td>92.00</td>\n",
       "    </tr>\n",
       "    <tr>\n",
       "      <th>21</th>\n",
       "      <td>1</td>\n",
       "      <td>81</td>\n",
       "      <td>1.15</td>\n",
       "      <td>93.15</td>\n",
       "    </tr>\n",
       "    <tr>\n",
       "      <th>22</th>\n",
       "      <td>1</td>\n",
       "      <td>82</td>\n",
       "      <td>1.15</td>\n",
       "      <td>94.30</td>\n",
       "    </tr>\n",
       "    <tr>\n",
       "      <th>23</th>\n",
       "      <td>1</td>\n",
       "      <td>83</td>\n",
       "      <td>1.15</td>\n",
       "      <td>95.45</td>\n",
       "    </tr>\n",
       "    <tr>\n",
       "      <th>24</th>\n",
       "      <td>1</td>\n",
       "      <td>84</td>\n",
       "      <td>1.15</td>\n",
       "      <td>96.60</td>\n",
       "    </tr>\n",
       "    <tr>\n",
       "      <th>25</th>\n",
       "      <td>1</td>\n",
       "      <td>85</td>\n",
       "      <td>1.15</td>\n",
       "      <td>97.75</td>\n",
       "    </tr>\n",
       "    <tr>\n",
       "      <th>26</th>\n",
       "      <td>1</td>\n",
       "      <td>86</td>\n",
       "      <td>1.15</td>\n",
       "      <td>98.90</td>\n",
       "    </tr>\n",
       "    <tr>\n",
       "      <th>27</th>\n",
       "      <td>1</td>\n",
       "      <td>87</td>\n",
       "      <td>1.15</td>\n",
       "      <td>100.05</td>\n",
       "    </tr>\n",
       "    <tr>\n",
       "      <th>28</th>\n",
       "      <td>0</td>\n",
       "      <td>87</td>\n",
       "      <td>0.00</td>\n",
       "      <td>100.05</td>\n",
       "    </tr>\n",
       "    <tr>\n",
       "      <th>29</th>\n",
       "      <td>0</td>\n",
       "      <td>87</td>\n",
       "      <td>0.00</td>\n",
       "      <td>100.05</td>\n",
       "    </tr>\n",
       "  </tbody>\n",
       "</table>\n",
       "</div>"
      ]
     },
     "execution_count": 476,
     "metadata": {},
     "output_type": "execute_result"
    }
   ],
   "execution_count": 476
  },
  {
   "metadata": {},
   "cell_type": "markdown",
   "source": [
    "b) b) Un centro de salud en la sierra de Oaxaca realizó un estudio sobre el número de hijos que tienen 48 familias que habitan en una comunidad indígena. Presentó los siguientes datos:\n",
    "\n",
    "6, 3, 2, 3, 4, 3, 4, 4, 2, 1, 4, 5, 4, 2, 3, 3, 4, 4, 5, 4, 0, 3, 2, 4, 3, 4, 2, 3, 1, 2, 4, 4, 3, 4, 2, 4, 0, 3, 2, 3, 1, 2, 4, 1, 2, 3, 5, 3\n",
    "\n",
    "Sin repetir los valores, determina la frecuencia, la frecuencia acumulada, la frecuencia relativa y la frecuencia relativa acumulada, para ello, elabora una tabla estadística en la que incluyas la variable ordenada de menor a mayor."
   ],
   "id": "f0ba099c134909e0"
  },
  {
   "metadata": {
    "ExecuteTime": {
     "end_time": "2025-02-09T21:57:47.326150Z",
     "start_time": "2025-02-09T21:57:47.317933Z"
    }
   },
   "cell_type": "code",
   "source": [
    "lista = [6, 3, 2, 3, 4, 3, 4, 4, 2, 1, 4, 5, 4, 2, 3, 3, 4, 4, 5, 4, 0, 3, 2, 4, 3, 4, 2, 3, 1, 2, 4, 4, 3, 4, 2, 4, 0, 3, 2, 3, 1, 2, 4, 1, 2, 3, 5, 3]\n",
    "\n",
    "nacimientos_df = pd.DataFrame({\n",
    "    'Número de hijos' : lista,\n",
    "})\n",
    "\n",
    "# Primero eliminamos valores repetidos\n",
    "nacimientos_df.drop_duplicates(inplace=True)\n",
    "\n",
    "# Luego ordenamos el dataframe\n",
    "nacimientos_df.sort_values(by=['Número de hijos'], inplace=True)\n",
    "\n",
    "# Luego determinamos la frecuencia\n",
    "nacimientos_df['Frecuencia'] = nacimientos_df['Número de hijos'].cumsum()\n",
    "\n",
    "# Luego determinamos la frecuencia relativa\n",
    "nacimientos_df['Frecuencia Relativa'] = (nacimientos_df['Número de hijos'] / nacimientos_df['Número de hijos'].sum() * 100).round(2)\n",
    "\n",
    "# Luego determinamos la frecuencia relativa acumulada\n",
    "nacimientos_df['Frecuencia Relativa Acumulada'] = nacimientos_df['Frecuencia Relativa'].cumsum().round(2)"
   ],
   "id": "8da95cef48c53a7e",
   "outputs": [],
   "execution_count": 477
  },
  {
   "metadata": {
    "ExecuteTime": {
     "end_time": "2025-02-09T21:57:47.427877Z",
     "start_time": "2025-02-09T21:57:47.423286Z"
    }
   },
   "cell_type": "code",
   "source": "nacimientos_df",
   "id": "c4d9834186163efe",
   "outputs": [
    {
     "data": {
      "text/plain": [
       "    Número de hijos  Frecuencia  Frecuencia Relativa  \\\n",
       "20                0           0                 0.00   \n",
       "9                 1           1                 4.76   \n",
       "2                 2           3                 9.52   \n",
       "1                 3           6                14.29   \n",
       "4                 4          10                19.05   \n",
       "11                5          15                23.81   \n",
       "0                 6          21                28.57   \n",
       "\n",
       "    Frecuencia Relativa Acumulada  \n",
       "20                           0.00  \n",
       "9                            4.76  \n",
       "2                           14.28  \n",
       "1                           28.57  \n",
       "4                           47.62  \n",
       "11                          71.43  \n",
       "0                          100.00  "
      ],
      "text/html": [
       "<div>\n",
       "<style scoped>\n",
       "    .dataframe tbody tr th:only-of-type {\n",
       "        vertical-align: middle;\n",
       "    }\n",
       "\n",
       "    .dataframe tbody tr th {\n",
       "        vertical-align: top;\n",
       "    }\n",
       "\n",
       "    .dataframe thead th {\n",
       "        text-align: right;\n",
       "    }\n",
       "</style>\n",
       "<table border=\"1\" class=\"dataframe\">\n",
       "  <thead>\n",
       "    <tr style=\"text-align: right;\">\n",
       "      <th></th>\n",
       "      <th>Número de hijos</th>\n",
       "      <th>Frecuencia</th>\n",
       "      <th>Frecuencia Relativa</th>\n",
       "      <th>Frecuencia Relativa Acumulada</th>\n",
       "    </tr>\n",
       "  </thead>\n",
       "  <tbody>\n",
       "    <tr>\n",
       "      <th>20</th>\n",
       "      <td>0</td>\n",
       "      <td>0</td>\n",
       "      <td>0.00</td>\n",
       "      <td>0.00</td>\n",
       "    </tr>\n",
       "    <tr>\n",
       "      <th>9</th>\n",
       "      <td>1</td>\n",
       "      <td>1</td>\n",
       "      <td>4.76</td>\n",
       "      <td>4.76</td>\n",
       "    </tr>\n",
       "    <tr>\n",
       "      <th>2</th>\n",
       "      <td>2</td>\n",
       "      <td>3</td>\n",
       "      <td>9.52</td>\n",
       "      <td>14.28</td>\n",
       "    </tr>\n",
       "    <tr>\n",
       "      <th>1</th>\n",
       "      <td>3</td>\n",
       "      <td>6</td>\n",
       "      <td>14.29</td>\n",
       "      <td>28.57</td>\n",
       "    </tr>\n",
       "    <tr>\n",
       "      <th>4</th>\n",
       "      <td>4</td>\n",
       "      <td>10</td>\n",
       "      <td>19.05</td>\n",
       "      <td>47.62</td>\n",
       "    </tr>\n",
       "    <tr>\n",
       "      <th>11</th>\n",
       "      <td>5</td>\n",
       "      <td>15</td>\n",
       "      <td>23.81</td>\n",
       "      <td>71.43</td>\n",
       "    </tr>\n",
       "    <tr>\n",
       "      <th>0</th>\n",
       "      <td>6</td>\n",
       "      <td>21</td>\n",
       "      <td>28.57</td>\n",
       "      <td>100.00</td>\n",
       "    </tr>\n",
       "  </tbody>\n",
       "</table>\n",
       "</div>"
      ]
     },
     "execution_count": 478,
     "metadata": {},
     "output_type": "execute_result"
    }
   ],
   "execution_count": 478
  },
  {
   "metadata": {},
   "cell_type": "markdown",
   "source": [
    "Presenta las calificaciones de los alumnos del 5º semestre del CBTIS 12 en una tabla estadística en orden descendente que contenga la fa, fr y fra.\n",
    "\n",
    "5 5 9, 8, 7, 7, 7, 6, 6, 6, 6, 8, 9, 10, 9, 5, 6, 5, 6, 7, 6, 7, 8, 10, 10, 7, 8, 7, 8, 7, 10, 9, 8"
   ],
   "id": "53809e56a63a9e41"
  },
  {
   "metadata": {},
   "cell_type": "markdown",
   "source": "Ajustamos el Dataframe",
   "id": "3bf9d3d4f7edc975"
  },
  {
   "metadata": {
    "ExecuteTime": {
     "end_time": "2025-02-09T21:57:47.493805Z",
     "start_time": "2025-02-09T21:57:47.488736Z"
    }
   },
   "cell_type": "code",
   "source": [
    "lista = [5, 5, 9, 8, 7, 7, 7, 6, 6, 6, 6, 8, 9, 10, 9, 5, 6, 5, 6, 7, 6, 7, 8, 10, 10, 7, 8, 7, 8, 7, 10, 9, 8]\n",
    "\n",
    "calificaciones = pd.DataFrame({\n",
    "    'Calificación': lista,\n",
    "})\n",
    "\n",
    "# Contamos la frecuencia de cada calificación\n",
    "frecuencia = calificaciones['Calificación'].value_counts()\n",
    "\n",
    "# Agregamos la columna 'Frecuencia' al Dataframe\n",
    "calificaciones['Número'] = calificaciones['Calificación'].map(frecuencia)\n",
    "\n",
    "calificaciones.drop_duplicates(inplace=True)\n",
    "\n",
    "calificaciones.sort_values(by=['Calificación'], inplace=True)"
   ],
   "id": "897899e0bba3b6af",
   "outputs": [],
   "execution_count": 479
  },
  {
   "metadata": {},
   "cell_type": "markdown",
   "source": "Ahora le agregamos frecuencia, frecuencia relativa, y frecuencia relativa acumulada",
   "id": "39b6e3917bc10e7"
  },
  {
   "metadata": {
    "ExecuteTime": {
     "end_time": "2025-02-09T21:57:47.544559Z",
     "start_time": "2025-02-09T21:57:47.539242Z"
    }
   },
   "cell_type": "code",
   "source": [
    "# Agregamos frecuencia\n",
    "calificaciones['Fa'] = calificaciones['Número'].cumsum()\n",
    "\n",
    "# Agregamos frecuencia relativa\n",
    "calificaciones['Fr'] = (calificaciones['Número'] / calificaciones['Número'].sum() * 100).round(2)\n",
    "\n",
    "# Agregamos la frecuecia relativa acumulativa\n",
    "calificaciones['Fra'] = calificaciones['Fr'].cumsum().round(2)\n",
    "\n",
    "calificaciones"
   ],
   "id": "aef667b03d687e3",
   "outputs": [
    {
     "data": {
      "text/plain": [
       "    Calificación  Número  Fa     Fr    Fra\n",
       "0              5       4   4  12.12  12.12\n",
       "7              6       7  11  21.21  33.33\n",
       "4              7       8  19  24.24  57.57\n",
       "3              8       6  25  18.18  75.75\n",
       "2              9       4  29  12.12  87.87\n",
       "13            10       4  33  12.12  99.99"
      ],
      "text/html": [
       "<div>\n",
       "<style scoped>\n",
       "    .dataframe tbody tr th:only-of-type {\n",
       "        vertical-align: middle;\n",
       "    }\n",
       "\n",
       "    .dataframe tbody tr th {\n",
       "        vertical-align: top;\n",
       "    }\n",
       "\n",
       "    .dataframe thead th {\n",
       "        text-align: right;\n",
       "    }\n",
       "</style>\n",
       "<table border=\"1\" class=\"dataframe\">\n",
       "  <thead>\n",
       "    <tr style=\"text-align: right;\">\n",
       "      <th></th>\n",
       "      <th>Calificación</th>\n",
       "      <th>Número</th>\n",
       "      <th>Fa</th>\n",
       "      <th>Fr</th>\n",
       "      <th>Fra</th>\n",
       "    </tr>\n",
       "  </thead>\n",
       "  <tbody>\n",
       "    <tr>\n",
       "      <th>0</th>\n",
       "      <td>5</td>\n",
       "      <td>4</td>\n",
       "      <td>4</td>\n",
       "      <td>12.12</td>\n",
       "      <td>12.12</td>\n",
       "    </tr>\n",
       "    <tr>\n",
       "      <th>7</th>\n",
       "      <td>6</td>\n",
       "      <td>7</td>\n",
       "      <td>11</td>\n",
       "      <td>21.21</td>\n",
       "      <td>33.33</td>\n",
       "    </tr>\n",
       "    <tr>\n",
       "      <th>4</th>\n",
       "      <td>7</td>\n",
       "      <td>8</td>\n",
       "      <td>19</td>\n",
       "      <td>24.24</td>\n",
       "      <td>57.57</td>\n",
       "    </tr>\n",
       "    <tr>\n",
       "      <th>3</th>\n",
       "      <td>8</td>\n",
       "      <td>6</td>\n",
       "      <td>25</td>\n",
       "      <td>18.18</td>\n",
       "      <td>75.75</td>\n",
       "    </tr>\n",
       "    <tr>\n",
       "      <th>2</th>\n",
       "      <td>9</td>\n",
       "      <td>4</td>\n",
       "      <td>29</td>\n",
       "      <td>12.12</td>\n",
       "      <td>87.87</td>\n",
       "    </tr>\n",
       "    <tr>\n",
       "      <th>13</th>\n",
       "      <td>10</td>\n",
       "      <td>4</td>\n",
       "      <td>33</td>\n",
       "      <td>12.12</td>\n",
       "      <td>99.99</td>\n",
       "    </tr>\n",
       "  </tbody>\n",
       "</table>\n",
       "</div>"
      ]
     },
     "execution_count": 480,
     "metadata": {},
     "output_type": "execute_result"
    }
   ],
   "execution_count": 480
  },
  {
   "metadata": {},
   "cell_type": "markdown",
   "source": [
    "**Actividad en el aula:**\n",
    "\n",
    "a) La jornada diaria de trabajo en una mesa es como se menciona a continuación, con estos datos preséntalos en una tabla estadística en orden ascendente y que contenga sus frecuencias:\n",
    "\n",
    "4, 3, 4, 4, 5, 6, 7, 7, 6, 5, 4, 4, 3, 3, 4, 5, 6, 8, 8, 6, 5, 4, 4, 3, 8, 8, 8, 8, 8, 6, 5, 4, 4, 3, 3, 3, 3, 4, 4, 5, 6, 8, 6, 5, 4, 4, 4, 4, 5, 6, 8, 5, 7, 4, 4, 3, 3, 4, 4, 5, 7, 7, 5, 4, 3, 4, 5, 5, 3, 7, 5, 4, 3, 8."
   ],
   "id": "d24255d28b5961dd"
  },
  {
   "metadata": {
    "ExecuteTime": {
     "end_time": "2025-02-09T21:57:47.768486Z",
     "start_time": "2025-02-09T21:57:47.759569Z"
    }
   },
   "cell_type": "code",
   "source": [
    "# Primero vamos a limpiar el Dataframe\n",
    "\n",
    "lista = [4, 3, 4, 4, 5, 6, 7, 7, 6, 5, 4, 4, 3, 3, 4, 5, 6, 8, 8, 6, 5, 4, 4, 3, 8, 8, 8, 8, 8, 6, 5, 4, 4, 3, 3, 3, 3, 4, 4, 5, 6, 8, 6, 5, 4, 4, 4, 4, 5, 6, 8, 5, 7, 4, 4, 3, 3, 4, 4, 5, 7, 7, 5, 4, 3, 4, 5, 5, 3, 7, 5, 4, 3, 8]\n",
    "\n",
    "jornada_df = pd.DataFrame({\n",
    "    'Jornada' : lista,\n",
    "})\n",
    "\n",
    "# Contamos la frecuencia\n",
    "frecuencia = jornada_df['Jornada'].value_counts()\n",
    "# Lo agregamos al Dataframe\n",
    "jornada_df['Trabajadores'] = jornada_df['Jornada'].map(frecuencia)\n",
    "# Eliminamos filas duplicadas\n",
    "jornada_df.drop_duplicates(inplace=True)\n",
    "# Ordenamos el Dataframe\n",
    "jornada_df.sort_values(by=['Jornada'], inplace=True)\n",
    "\n",
    "# Ahora se procede a añadir fa, fr y fra\n",
    "jornada_df['Fa'] = jornada_df['Trabajadores'].cumsum()\n",
    "jornada_df['Fr'] = (jornada_df['Trabajadores'] / jornada_df['Trabajadores'].sum() * 100).round(2)\n",
    "jornada_df['Fra'] = jornada_df['Fr'].cumsum().round(2)\n",
    "\n",
    "jornada_df"
   ],
   "id": "75d41be10cf4aef4",
   "outputs": [
    {
     "data": {
      "text/plain": [
       "    Jornada  Trabajadores  Fa     Fr     Fra\n",
       "1         3            13  13  17.57   17.57\n",
       "0         4            23  36  31.08   48.65\n",
       "4         5            14  50  18.92   67.57\n",
       "5         6             8  58  10.81   78.38\n",
       "6         7             6  64   8.11   86.49\n",
       "17        8            10  74  13.51  100.00"
      ],
      "text/html": [
       "<div>\n",
       "<style scoped>\n",
       "    .dataframe tbody tr th:only-of-type {\n",
       "        vertical-align: middle;\n",
       "    }\n",
       "\n",
       "    .dataframe tbody tr th {\n",
       "        vertical-align: top;\n",
       "    }\n",
       "\n",
       "    .dataframe thead th {\n",
       "        text-align: right;\n",
       "    }\n",
       "</style>\n",
       "<table border=\"1\" class=\"dataframe\">\n",
       "  <thead>\n",
       "    <tr style=\"text-align: right;\">\n",
       "      <th></th>\n",
       "      <th>Jornada</th>\n",
       "      <th>Trabajadores</th>\n",
       "      <th>Fa</th>\n",
       "      <th>Fr</th>\n",
       "      <th>Fra</th>\n",
       "    </tr>\n",
       "  </thead>\n",
       "  <tbody>\n",
       "    <tr>\n",
       "      <th>1</th>\n",
       "      <td>3</td>\n",
       "      <td>13</td>\n",
       "      <td>13</td>\n",
       "      <td>17.57</td>\n",
       "      <td>17.57</td>\n",
       "    </tr>\n",
       "    <tr>\n",
       "      <th>0</th>\n",
       "      <td>4</td>\n",
       "      <td>23</td>\n",
       "      <td>36</td>\n",
       "      <td>31.08</td>\n",
       "      <td>48.65</td>\n",
       "    </tr>\n",
       "    <tr>\n",
       "      <th>4</th>\n",
       "      <td>5</td>\n",
       "      <td>14</td>\n",
       "      <td>50</td>\n",
       "      <td>18.92</td>\n",
       "      <td>67.57</td>\n",
       "    </tr>\n",
       "    <tr>\n",
       "      <th>5</th>\n",
       "      <td>6</td>\n",
       "      <td>8</td>\n",
       "      <td>58</td>\n",
       "      <td>10.81</td>\n",
       "      <td>78.38</td>\n",
       "    </tr>\n",
       "    <tr>\n",
       "      <th>6</th>\n",
       "      <td>7</td>\n",
       "      <td>6</td>\n",
       "      <td>64</td>\n",
       "      <td>8.11</td>\n",
       "      <td>86.49</td>\n",
       "    </tr>\n",
       "    <tr>\n",
       "      <th>17</th>\n",
       "      <td>8</td>\n",
       "      <td>10</td>\n",
       "      <td>74</td>\n",
       "      <td>13.51</td>\n",
       "      <td>100.00</td>\n",
       "    </tr>\n",
       "  </tbody>\n",
       "</table>\n",
       "</div>"
      ]
     },
     "execution_count": 481,
     "metadata": {},
     "output_type": "execute_result"
    }
   ],
   "execution_count": 481
  },
  {
   "metadata": {},
   "cell_type": "markdown",
   "source": [
    "## Gráficos Estadísticos\n",
    "\n",
    "Uno de los objetivos de la estadística es comunicar los resultados de una investigación de manera clara y concisa, las representaciones gráficas de esos resultados obedecen a una intención.\n",
    "\n",
    "El gráfico es útil para dar una rápida idea de la situación general que se está analizando, permite determinar con simple vistazo máximos y mínimos, variaciones del fenómeno y determinar soluciones."
   ],
   "id": "85bdf597be1eb7bd"
  },
  {
   "metadata": {
    "ExecuteTime": {
     "end_time": "2025-02-09T21:57:47.827882Z",
     "start_time": "2025-02-09T21:57:47.825548Z"
    }
   },
   "cell_type": "code",
   "source": "import matplotlib.pyplot as plt",
   "id": "9f90df0e59227635",
   "outputs": [],
   "execution_count": 482
  },
  {
   "metadata": {},
   "cell_type": "markdown",
   "source": [
    "### **Gráfico de Barras**\n",
    "\n",
    "La construcción de este gráfico se basas en la representación de un valor númerico por un rectángulo.\n"
   ],
   "id": "98e613e67e1f9ec5"
  },
  {
   "metadata": {
    "ExecuteTime": {
     "end_time": "2025-02-09T21:57:47.956045Z",
     "start_time": "2025-02-09T21:57:47.889697Z"
    }
   },
   "cell_type": "code",
   "source": [
    "grafico = pd.DataFrame({\n",
    "    'Semestre' : ['1°', '2°', '3°', '4°', '5°', '6°'],\n",
    "    'Promedio' : [72, 66, 84, 92, 80, 88]\n",
    "})\n",
    "\n",
    "# Crear gráfico de barras\n",
    "plt.bar(grafico['Semestre'], grafico['Promedio'], edgecolor='black')\n",
    "plt.title('Gráfico de Barras')\n",
    "plt.xlabel('Semestre')\n",
    "plt.ylabel('Promedio')\n",
    "plt.yticks(np.arange(0, 110, 20))\n",
    "plt.grid(True)\n",
    "plt.show()"
   ],
   "id": "775fdd0ddd35b26",
   "outputs": [
    {
     "data": {
      "text/plain": [
       "<Figure size 640x480 with 1 Axes>"
      ],
      "image/png": "[encoded data removed]"
     },
     "metadata": {},
     "output_type": "display_data"
    }
   ],
   "execution_count": 483
  },
  {
   "metadata": {},
   "cell_type": "markdown",
   "source": [
    "### **Gráfico Circular o Pastel**\n",
    "\n",
    "Es una forma alternativa del gráfico de barras, en su construcción se utiliza una circunferencia dividida sectores angulares proporcional al valor de la variable. De la tabla anterior construye un gráfico circular con los promedios.\n",
    "\n",
    "<center> $\\frac{360°}{X} = \\frac{482}{72} \\rightarrow 53.77° \\cong 54°$ </center>"
   ],
   "id": "89b037d48b209de4"
  },
  {
   "metadata": {
    "ExecuteTime": {
     "end_time": "2025-02-09T21:57:48.023702Z",
     "start_time": "2025-02-09T21:57:47.967995Z"
    }
   },
   "cell_type": "code",
   "source": [
    "plt.pie(grafico['Promedio'], labels=grafico['Semestre'], autopct='%1.0f%%', startangle=90)\n",
    "plt.title('Gráfico Circular')\n",
    "plt.legend(title='Semestre')\n",
    "plt.show()"
   ],
   "id": "1bccedef56aad903",
   "outputs": [
    {
     "data": {
      "text/plain": [
       "<Figure size 640x480 with 1 Axes>"
      ],
      "image/png": "[encoded data removed]"
     },
     "metadata": {},
     "output_type": "display_data"
    }
   ],
   "execution_count": 484
  },
  {
   "metadata": {},
   "cell_type": "markdown",
   "source": [
    "### **Pictograma**\n",
    "\n",
    "Es uno de los gráficos que atrae más la atención, consiste en representar por medio de figuras magnitudes determinadas, su desventaja principal es que no permite hacer comparaciones satisfactorias\n",
    "\n",
    "<center> <img src=\"img/maxresdefault.jpg\" width=500> </center>"
   ],
   "id": "34c4bb08d0196ce1"
  },
  {
   "metadata": {},
   "cell_type": "markdown",
   "source": [
    "### **Histograma**\n",
    "\n",
    "Este es muy similar a gráfico de barras nada más que con ciertas características, los centros de las barras sobre el eje 'X' son las marcas de clase, además de prolongar estas marcas a línea inferior y superior. El polígono de frecuencias es la unión por medio de una línea de todas las frecuencias"
   ],
   "id": "ef9a6dda2dac82e4"
  },
  {
   "metadata": {
    "ExecuteTime": {
     "end_time": "2025-02-09T21:57:48.096405Z",
     "start_time": "2025-02-09T21:57:48.040261Z"
    }
   },
   "cell_type": "code",
   "source": [
    "# Datos\n",
    "altura_df = pd.DataFrame({\n",
    "    'Altura (pg)': [61, 64, 67, 70, 73],\n",
    "    'Cantidad': [5, 18, 42, 27, 8]\n",
    "})\n",
    "\n",
    "# Expandir los datos según la cantidad de alumnos\n",
    "alturas = np.repeat(altura_df['Altura (pg)'], altura_df['Cantidad'])\n",
    "\n",
    "# Crear el histograma\n",
    "plt.hist(alturas, bins=5, color='darkgreen', alpha=0.5, edgecolor='black')\n",
    "\n",
    "# Etiquetas y título\n",
    "plt.title('Histograma de Alturas de 100 Estudiantes')\n",
    "plt.xlabel('Altura')\n",
    "plt.ylabel('N° de alumnos')\n",
    "plt.grid(True)\n",
    "\n",
    "# Mostrar\n",
    "plt.show()"
   ],
   "id": "9d4fccb77c1505cf",
   "outputs": [
    {
     "data": {
      "text/plain": [
       "<Figure size 640x480 with 1 Axes>"
      ],
      "image/png": "[encoded data removed]"
     },
     "metadata": {},
     "output_type": "display_data"
    }
   ],
   "execution_count": 485
  },
  {
   "metadata": {},
   "cell_type": "markdown",
   "source": [
    "### **Gráfico de Líneas**\n",
    "\n",
    "Es muy útil para comparar los datos o más distribuciones, esta consiste en unir por medio de segmentos de líneas las puntas que indican la frecuencia. Presenta la siguiente tabla por medio de un gráfico de líneas."
   ],
   "id": "b99478f9401f4d82"
  },
  {
   "metadata": {
    "ExecuteTime": {
     "end_time": "2025-02-09T21:57:48.196874Z",
     "start_time": "2025-02-09T21:57:48.113823Z"
    }
   },
   "cell_type": "code",
   "source": [
    "poblacion = pd.DataFrame({\n",
    "    'Año': [1900, 1910, 1921, 1930, 1940, 1950, 1960, 1970, 1980],\n",
    "    'Urbana': [2.6, 3.7, 4.5, 5.5, 6.9, 11.0, 17.7, 29.8, 44.6],\n",
    "    'Rural': [11.0, 11.5, 9.9, 11.0, 12.8, 14.8, 17.2, 20.9, 23.3]\n",
    "})\n",
    "\n",
    "plt.figure(figsize = (15, 5))\n",
    "plt.plot(poblacion['Año'], poblacion['Rural'], color='b')\n",
    "plt.plot(poblacion['Año'], poblacion['Urbana'], color='r')\n",
    "plt.title('Población rural y urbana en México')\n",
    "plt.xlabel('Año')\n",
    "plt.ylabel('Millones de habitantes')\n",
    "plt.legend(['Rural', 'Urbana'], loc='upper left')\n",
    "plt.yticks(np.arange(0, 60, 10))\n",
    "plt.grid(True)\n",
    "plt.show()"
   ],
   "id": "de0d20fe8d8832b2",
   "outputs": [
    {
     "data": {
      "text/plain": [
       "<Figure size 1500x500 with 1 Axes>"
      ],
      "image/png": "[encoded data removed]"
     },
     "metadata": {},
     "output_type": "display_data"
    }
   ],
   "execution_count": 486
  },
  {
   "metadata": {},
   "cell_type": "markdown",
   "source": [
    "### **Actividad en el aula**\n",
    "\n",
    "a) Con la siguiente información construye una tabla estadística que contenga su fa, fr y fra. Las películas exhibidas en el DF según su nacionalidad en 1988 son mexicanas 705, alemanas 75, estadounidense 2689, francesas 176, inglesas 71, italianas 142, otras 399, fuente Anuario Estadístico 1990"
   ],
   "id": "179476276ff855aa"
  },
  {
   "metadata": {
    "ExecuteTime": {
     "end_time": "2025-02-09T21:57:48.217816Z",
     "start_time": "2025-02-09T21:57:48.212976Z"
    }
   },
   "cell_type": "code",
   "source": [
    "peliculas_DF = pd.DataFrame({\n",
    "    'Origen' : ['Mexicanas', 'Alemanas', 'Estadounidense', 'Francesas', 'Inglesas', 'Italianas', 'Otras'],\n",
    "    'Cantidad' : [705, 75, 2689, 176, 71, 142, 399]\n",
    "})\n",
    "\n",
    "peliculas_DF"
   ],
   "id": "547c3afa94377055",
   "outputs": [
    {
     "data": {
      "text/plain": [
       "           Origen  Cantidad\n",
       "0       Mexicanas       705\n",
       "1        Alemanas        75\n",
       "2  Estadounidense      2689\n",
       "3       Francesas       176\n",
       "4        Inglesas        71\n",
       "5       Italianas       142\n",
       "6           Otras       399"
      ],
      "text/html": [
       "<div>\n",
       "<style scoped>\n",
       "    .dataframe tbody tr th:only-of-type {\n",
       "        vertical-align: middle;\n",
       "    }\n",
       "\n",
       "    .dataframe tbody tr th {\n",
       "        vertical-align: top;\n",
       "    }\n",
       "\n",
       "    .dataframe thead th {\n",
       "        text-align: right;\n",
       "    }\n",
       "</style>\n",
       "<table border=\"1\" class=\"dataframe\">\n",
       "  <thead>\n",
       "    <tr style=\"text-align: right;\">\n",
       "      <th></th>\n",
       "      <th>Origen</th>\n",
       "      <th>Cantidad</th>\n",
       "    </tr>\n",
       "  </thead>\n",
       "  <tbody>\n",
       "    <tr>\n",
       "      <th>0</th>\n",
       "      <td>Mexicanas</td>\n",
       "      <td>705</td>\n",
       "    </tr>\n",
       "    <tr>\n",
       "      <th>1</th>\n",
       "      <td>Alemanas</td>\n",
       "      <td>75</td>\n",
       "    </tr>\n",
       "    <tr>\n",
       "      <th>2</th>\n",
       "      <td>Estadounidense</td>\n",
       "      <td>2689</td>\n",
       "    </tr>\n",
       "    <tr>\n",
       "      <th>3</th>\n",
       "      <td>Francesas</td>\n",
       "      <td>176</td>\n",
       "    </tr>\n",
       "    <tr>\n",
       "      <th>4</th>\n",
       "      <td>Inglesas</td>\n",
       "      <td>71</td>\n",
       "    </tr>\n",
       "    <tr>\n",
       "      <th>5</th>\n",
       "      <td>Italianas</td>\n",
       "      <td>142</td>\n",
       "    </tr>\n",
       "    <tr>\n",
       "      <th>6</th>\n",
       "      <td>Otras</td>\n",
       "      <td>399</td>\n",
       "    </tr>\n",
       "  </tbody>\n",
       "</table>\n",
       "</div>"
      ]
     },
     "execution_count": 487,
     "metadata": {},
     "output_type": "execute_result"
    }
   ],
   "execution_count": 487
  },
  {
   "metadata": {},
   "cell_type": "markdown",
   "source": "Con la tabla anterior construye un gráfico de barras, vamos a eliminar los estadounidenses por que nos queda muy asimétrica el gráfico",
   "id": "2dc030db210e5b47"
  },
  {
   "metadata": {
    "ExecuteTime": {
     "end_time": "2025-02-09T21:57:48.259179Z",
     "start_time": "2025-02-09T21:57:48.255756Z"
    }
   },
   "cell_type": "code",
   "source": [
    "# Eliminamos la fila de los estadounidenses\n",
    "peliculas_DF.drop(index=2, inplace=True)\n",
    "peliculas_DF.reset_index(inplace=True)\n"
   ],
   "id": "5174017acaa46d91",
   "outputs": [],
   "execution_count": 488
  },
  {
   "metadata": {
    "ExecuteTime": {
     "end_time": "2025-02-09T21:57:48.370637Z",
     "start_time": "2025-02-09T21:57:48.292514Z"
    }
   },
   "cell_type": "code",
   "source": [
    "# Vamos a gráficar\n",
    "plt.figure(figsize = (15, 5))\n",
    "plt.bar(peliculas_DF['Origen'], peliculas_DF['Cantidad'], color=['green', 'red', 'blue'], alpha=0.7, edgecolor='black')\n",
    "plt.title('Películas exhibidas en el DF según su nacionalidad en 1988')\n",
    "plt.xlabel('Cantidad')\n",
    "plt.ylabel('Origen')\n",
    "plt.grid(True)\n",
    "plt.show()"
   ],
   "id": "7e808d28f9de2564",
   "outputs": [
    {
     "data": {
      "text/plain": [
       "<Figure size 1500x500 with 1 Axes>"
      ],
      "image/png": "[encoded data removed]"
     },
     "metadata": {},
     "output_type": "display_data"
    }
   ],
   "execution_count": 489
  },
  {
   "metadata": {},
   "cell_type": "markdown",
   "source": "b) Con los datos siguientes construye una tabla estadística que contenga su fa, fr y fra, además elabora su histograma. La antiguedad en años de trabajo de un conjunto de docentes es la siguiente según el departamento de Recursos Humanos del CBTIS 12 en 2006.",
   "id": "96d76f4154e05429"
  },
  {
   "metadata": {},
   "cell_type": "markdown",
   "source": "7, 6, 10, 7, 12, 11, 1, 4, 10, 14, 12, 9, 6, 8, 13, 3, 10, 12, 5, 14, 10, 7, 5, 4",
   "id": "127733671f72c175"
  },
  {
   "metadata": {
    "ExecuteTime": {
     "end_time": "2025-02-09T21:57:48.399291Z",
     "start_time": "2025-02-09T21:57:48.395895Z"
    }
   },
   "cell_type": "code",
   "source": [
    "lista = [7, 6, 10, 7, 12, 11, 14, 10, 14, 12, 9, 6, 8, 13, 3, 10, 3, 10, 12, 5, 14, 10, 7, 5, 4]\n",
    "\n",
    "# Hacer la tabla inicial\n",
    "antiguedad_DF = pd.DataFrame({\n",
    "    'Años' : lista\n",
    "})"
   ],
   "id": "df6b4504fd5364d4",
   "outputs": [],
   "execution_count": 490
  },
  {
   "metadata": {
    "ExecuteTime": {
     "end_time": "2025-02-09T21:57:48.417879Z",
     "start_time": "2025-02-09T21:57:48.413513Z"
    }
   },
   "cell_type": "code",
   "source": [
    "# Mejorar el DataFrame\n",
    "frecuencia = antiguedad_DF['Años'].value_counts()\n",
    "antiguedad_DF['Trabajadores'] = antiguedad_DF['Años'].map(frecuencia)\n",
    "antiguedad_DF.drop_duplicates(inplace=True)\n",
    "antiguedad_DF.sort_values(by=['Años'], inplace=True)"
   ],
   "id": "aa98b3a91eae648e",
   "outputs": [],
   "execution_count": 491
  },
  {
   "metadata": {
    "ExecuteTime": {
     "end_time": "2025-02-09T21:57:48.435082Z",
     "start_time": "2025-02-09T21:57:48.431787Z"
    }
   },
   "cell_type": "code",
   "source": [
    "# Añadimos fa, fr y fra\n",
    "antiguedad_DF['Fa'] = antiguedad_DF['Trabajadores'].cumsum()\n",
    "antiguedad_DF['Fr'] = (antiguedad_DF['Trabajadores'] / antiguedad_DF['Trabajadores'].sum() * 100).round(2)\n",
    "antiguedad_DF['Fra'] = antiguedad_DF['Fr'].cumsum().round(2)"
   ],
   "id": "a1ce41c8090bdd3a",
   "outputs": [],
   "execution_count": 492
  },
  {
   "metadata": {
    "ExecuteTime": {
     "end_time": "2025-02-09T21:57:48.461589Z",
     "start_time": "2025-02-09T21:57:48.452299Z"
    }
   },
   "cell_type": "code",
   "source": "antiguedad_DF",
   "id": "5b097a2113659709",
   "outputs": [
    {
     "data": {
      "text/plain": [
       "    Años  Trabajadores  Fa    Fr    Fra\n",
       "14     3             2   2   8.0    8.0\n",
       "24     4             1   3   4.0   12.0\n",
       "19     5             2   5   8.0   20.0\n",
       "1      6             2   7   8.0   28.0\n",
       "0      7             3  10  12.0   40.0\n",
       "12     8             1  11   4.0   44.0\n",
       "10     9             1  12   4.0   48.0\n",
       "2     10             5  17  20.0   68.0\n",
       "5     11             1  18   4.0   72.0\n",
       "4     12             3  21  12.0   84.0\n",
       "13    13             1  22   4.0   88.0\n",
       "6     14             3  25  12.0  100.0"
      ],
      "text/html": [
       "<div>\n",
       "<style scoped>\n",
       "    .dataframe tbody tr th:only-of-type {\n",
       "        vertical-align: middle;\n",
       "    }\n",
       "\n",
       "    .dataframe tbody tr th {\n",
       "        vertical-align: top;\n",
       "    }\n",
       "\n",
       "    .dataframe thead th {\n",
       "        text-align: right;\n",
       "    }\n",
       "</style>\n",
       "<table border=\"1\" class=\"dataframe\">\n",
       "  <thead>\n",
       "    <tr style=\"text-align: right;\">\n",
       "      <th></th>\n",
       "      <th>Años</th>\n",
       "      <th>Trabajadores</th>\n",
       "      <th>Fa</th>\n",
       "      <th>Fr</th>\n",
       "      <th>Fra</th>\n",
       "    </tr>\n",
       "  </thead>\n",
       "  <tbody>\n",
       "    <tr>\n",
       "      <th>14</th>\n",
       "      <td>3</td>\n",
       "      <td>2</td>\n",
       "      <td>2</td>\n",
       "      <td>8.0</td>\n",
       "      <td>8.0</td>\n",
       "    </tr>\n",
       "    <tr>\n",
       "      <th>24</th>\n",
       "      <td>4</td>\n",
       "      <td>1</td>\n",
       "      <td>3</td>\n",
       "      <td>4.0</td>\n",
       "      <td>12.0</td>\n",
       "    </tr>\n",
       "    <tr>\n",
       "      <th>19</th>\n",
       "      <td>5</td>\n",
       "      <td>2</td>\n",
       "      <td>5</td>\n",
       "      <td>8.0</td>\n",
       "      <td>20.0</td>\n",
       "    </tr>\n",
       "    <tr>\n",
       "      <th>1</th>\n",
       "      <td>6</td>\n",
       "      <td>2</td>\n",
       "      <td>7</td>\n",
       "      <td>8.0</td>\n",
       "      <td>28.0</td>\n",
       "    </tr>\n",
       "    <tr>\n",
       "      <th>0</th>\n",
       "      <td>7</td>\n",
       "      <td>3</td>\n",
       "      <td>10</td>\n",
       "      <td>12.0</td>\n",
       "      <td>40.0</td>\n",
       "    </tr>\n",
       "    <tr>\n",
       "      <th>12</th>\n",
       "      <td>8</td>\n",
       "      <td>1</td>\n",
       "      <td>11</td>\n",
       "      <td>4.0</td>\n",
       "      <td>44.0</td>\n",
       "    </tr>\n",
       "    <tr>\n",
       "      <th>10</th>\n",
       "      <td>9</td>\n",
       "      <td>1</td>\n",
       "      <td>12</td>\n",
       "      <td>4.0</td>\n",
       "      <td>48.0</td>\n",
       "    </tr>\n",
       "    <tr>\n",
       "      <th>2</th>\n",
       "      <td>10</td>\n",
       "      <td>5</td>\n",
       "      <td>17</td>\n",
       "      <td>20.0</td>\n",
       "      <td>68.0</td>\n",
       "    </tr>\n",
       "    <tr>\n",
       "      <th>5</th>\n",
       "      <td>11</td>\n",
       "      <td>1</td>\n",
       "      <td>18</td>\n",
       "      <td>4.0</td>\n",
       "      <td>72.0</td>\n",
       "    </tr>\n",
       "    <tr>\n",
       "      <th>4</th>\n",
       "      <td>12</td>\n",
       "      <td>3</td>\n",
       "      <td>21</td>\n",
       "      <td>12.0</td>\n",
       "      <td>84.0</td>\n",
       "    </tr>\n",
       "    <tr>\n",
       "      <th>13</th>\n",
       "      <td>13</td>\n",
       "      <td>1</td>\n",
       "      <td>22</td>\n",
       "      <td>4.0</td>\n",
       "      <td>88.0</td>\n",
       "    </tr>\n",
       "    <tr>\n",
       "      <th>6</th>\n",
       "      <td>14</td>\n",
       "      <td>3</td>\n",
       "      <td>25</td>\n",
       "      <td>12.0</td>\n",
       "      <td>100.0</td>\n",
       "    </tr>\n",
       "  </tbody>\n",
       "</table>\n",
       "</div>"
      ]
     },
     "execution_count": 493,
     "metadata": {},
     "output_type": "execute_result"
    }
   ],
   "execution_count": 493
  },
  {
   "metadata": {},
   "cell_type": "markdown",
   "source": "Con la tabla anterior gráfica un Histograma",
   "id": "7913dc95ee5a56c0"
  },
  {
   "metadata": {
    "ExecuteTime": {
     "end_time": "2025-02-09T21:57:48.573444Z",
     "start_time": "2025-02-09T21:57:48.495070Z"
    }
   },
   "cell_type": "code",
   "source": [
    "# Gráficar\n",
    "plt.figure(figsize = (15, 5))\n",
    "# Expandir los datos según la cantidad de alumnos\n",
    "years = np.repeat(antiguedad_DF['Años'], antiguedad_DF['Trabajadores'])\n",
    "plt.hist(years, bins=12)\n",
    "plt.title('Cantidad de años que han trabajado los trabajadores')\n",
    "plt.xlabel('Años')\n",
    "plt.ylabel('N° de trabajadores')\n",
    "plt.xticks(np.arange(2, 15, 1))\n",
    "plt.grid(True)\n",
    "plt.show()"
   ],
   "id": "d3ea968910386abe",
   "outputs": [
    {
     "data": {
      "text/plain": [
       "<Figure size 1500x500 with 1 Axes>"
      ],
      "image/png": "[encoded data removed]"
     },
     "metadata": {},
     "output_type": "display_data"
    }
   ],
   "execution_count": 494
  },
  {
   "metadata": {},
   "cell_type": "markdown",
   "source": "Con la misma tabla gráfica la frecuencia acumulada (ojiva)",
   "id": "6b3e78204bbdb7fb"
  },
  {
   "metadata": {
    "ExecuteTime": {
     "end_time": "2025-02-09T21:57:48.668527Z",
     "start_time": "2025-02-09T21:57:48.591687Z"
    }
   },
   "cell_type": "code",
   "source": [
    "# Gráficar\n",
    "plt.figure(figsize = (15, 5))\n",
    "plt.plot(antiguedad_DF['Fa'], antiguedad_DF['Trabajadores'], color='green', alpha=0.7, linestyle='--')\n",
    "plt.title('Frecuencia acumulada de la cantidad de años que han trabajado los trabajadores')\n",
    "plt.xlabel('Años')\n",
    "plt.ylabel('Cantidad de trabajadores')\n",
    "plt.grid(True)\n",
    "plt.show()"
   ],
   "id": "5b68a50f6f1c19d7",
   "outputs": [
    {
     "data": {
      "text/plain": [
       "<Figure size 1500x500 with 1 Axes>"
      ],
      "image/png": "[encoded data removed]"
     },
     "metadata": {},
     "output_type": "display_data"
    }
   ],
   "execution_count": 495
  },
  {
   "metadata": {},
   "cell_type": "markdown",
   "source": "# **MEDIDAS DE TENDENCIA CENTRAL Y DE DISPERSIÓN**",
   "id": "c81bc980def0d9fb"
  },
  {
   "metadata": {},
   "cell_type": "markdown",
   "source": [
    "## **Medidas de tendencia central**\n",
    "\n",
    "Al describir grupos de diferentes observaciones, con frecuencia es conveniente resumir la información con un solo número. Este número que, para tal fin, suele situarse hacia el centro de la distribución de datos se denomina medida o parámetro de tendencia central o de centralización.\n",
    "\n",
    "Dicho de otra manera, estas son categorías o puntos dentro del recorrido de una variable y se les llama de tendencia central porque en torno a ellas parecen agruparse los datos. Sirven para resumir todo un conjunto de valores que se les consideran como sintetizadores, cualquier medida de tendencia central es un valor medio y tiene cada una su utilidad, las más comunes son la Media, Mediana y Moda."
   ],
   "id": "ff0e1142e26ab46b"
  },
  {
   "metadata": {},
   "cell_type": "markdown",
   "source": [
    "## **Media aritmética, geométrica y armónica**\n",
    "\n",
    "La **Media aritmética** es la más conocida de todas las medidas y se define como la suma de un conjunto de cantidades dividida entre el número de ellas, en otras palabras, es un promedio y se define con la siguiente fórmula:\n",
    "\n",
    "<center> $\\overline{X} = \\frac{\\sum X}{n}$ </center>"
   ],
   "id": "33bdead905da829a"
  },
  {
   "metadata": {},
   "cell_type": "markdown",
   "source": [
    "$\\overline{X}$ = Media aritmética (equis testada)\n",
    "\n",
    "$\\sum X$ = Sumatoria de valores\n",
    "\n",
    "n = N° de valores\n",
    "\n",
    "Felipe durante la 1° unidad de probabilidad y estadística obtuvo las siguientes calificaciones en las evaluaciones continuas 6, 5, 8, 8, 7. Determina su promedio (media aritmética).\n",
    "\n",
    "<center> $\\overline{X} = \\frac{6 + 5 + 8 + 9 + 7}{5} = \\frac{35}{5} = 7$</center>"
   ],
   "id": "bf74542eac20e143"
  },
  {
   "metadata": {},
   "cell_type": "markdown",
   "source": [
    "**Actividad en el aula:**\n",
    "\n",
    "a) Telcel ha obtenido un incremento durante la última semana del mes de marzo de 2017 en las ventas del celular iPhone 7 plus, como se registra a continuación: 7, 15, 4, 9, 10, 11, 7. Determina su promedio (media aritmética)."
   ],
   "id": "9e62eb2a8f2c4254"
  },
  {
   "metadata": {
    "ExecuteTime": {
     "end_time": "2025-02-09T21:57:48.677626Z",
     "start_time": "2025-02-09T21:57:48.675084Z"
    }
   },
   "cell_type": "code",
   "source": "print(f'Su media es: {np.array([7, 15, 4, 9, 10, 11, 7]).mean()}')",
   "id": "ebd711f0558665af",
   "outputs": [
    {
     "name": "stdout",
     "output_type": "stream",
     "text": [
      "Su media es: 9.0\n"
     ]
    }
   ],
   "execution_count": 496
  },
  {
   "metadata": {},
   "cell_type": "markdown",
   "source": "b) Los alumnos de 6° semestre grupo \"M\" de laboratorio clínico, realizaron durante 10 días tomas de muestra sanguínea, el registro se realizó se como se muestra a continuación: 32, 41, 28, 36, 40, 23, 44, 38, 37, 27. Determina el promedio (media aritmética).",
   "id": "80d8d4d621e39086"
  },
  {
   "metadata": {
    "ExecuteTime": {
     "end_time": "2025-02-09T21:57:48.703035Z",
     "start_time": "2025-02-09T21:57:48.700075Z"
    }
   },
   "cell_type": "code",
   "source": "print(f'La media es de: {np.array([32, 41, 28, 36, 40, 23, 44, 38, 37, 27]).mean()}')",
   "id": "68a6b28e33da6c62",
   "outputs": [
    {
     "name": "stdout",
     "output_type": "stream",
     "text": [
      "La media es de: 34.6\n"
     ]
    }
   ],
   "execution_count": 497
  },
  {
   "metadata": {},
   "cell_type": "markdown",
   "source": [
    "La **Media Geométrica** se define como la raíz n del producto de n términos, su uso permite el cálculo de tasas de crecimiento y se determina con la siguiente fórmula:\n",
    "\n",
    "<center> $mg = \\sqrt[n]{X_1 X_2  ...  X_n} = \\sqrt[5]{700 * 900 * 690 * 750 * 819} = 767.90$ </center>"
   ],
   "id": "f3be22a8b70de85b"
  },
  {
   "metadata": {},
   "cell_type": "markdown",
   "source": [
    "El crecimiento de las ventas del petróleo fue en los últimos 4 años de 8, 16, 17 y 19%.\n",
    "\n",
    "**Nota:** Como este problema contiene datos porcentuales, se utiliza una fórmula para calcular el factor de crecimiento de la variable, la cual se describe a continuación:\n",
    "\n",
    "<center> ${X_n} = 1 + \\frac{Porcentaje de incremento}{100}$ </center>\n",
    "\n",
    "Ejemplo:\n",
    "\n",
    "${X_1} = 1 + \\frac{8}{100} = 1 + 0.8 = 1.8$\n",
    "\n",
    "$mg = \\sqrt[n]{X_1 X_2 ... X_N}$\n",
    "\n",
    "$mg = \\sqrt[4]{(1.08)(1.16)(1.17)(1.19)}$\n",
    "\n",
    "$mg = \\sqrt[4]{1.7442} = 1.15$ entonces 15%"
   ],
   "id": "fc04a3061af1260a"
  },
  {
   "metadata": {
    "ExecuteTime": {
     "end_time": "2025-02-09T21:57:48.725529Z",
     "start_time": "2025-02-09T21:57:48.723463Z"
    }
   },
   "cell_type": "code",
   "source": [
    "# Ejemplo en codigo\n",
    "from scipy.stats import gmean"
   ],
   "id": "29233d58306c96e5",
   "outputs": [],
   "execution_count": 498
  },
  {
   "metadata": {
    "ExecuteTime": {
     "end_time": "2025-02-09T21:57:48.759769Z",
     "start_time": "2025-02-09T21:57:48.756798Z"
    }
   },
   "cell_type": "code",
   "source": [
    "# Factores de crecimiento\n",
    "growth_factors = [1.08, 1.16, 1.17, 1.19]\n",
    "\n",
    "# Media geométrica\n",
    "geometric_mean = gmean(growth_factors)\n",
    "\n",
    "# Convertir a porcentaje\n",
    "geometric_mean_percentage = (geometric_mean - 1) * 100\n",
    "\n",
    "print(f\"Media geométrica anual: {geometric_mean_percentage:.2f}%\")"
   ],
   "id": "f0df09f4f5634b95",
   "outputs": [
    {
     "name": "stdout",
     "output_type": "stream",
     "text": [
      "Media geométrica anual: 14.92%\n"
     ]
    }
   ],
   "execution_count": 499
  },
  {
   "metadata": {},
   "cell_type": "markdown",
   "source": [
    "**Actividad en el aula**\n",
    "\n",
    "a) La tasa de interés de la caja popular Benito Juárez ha incrementado en los últimos 5 años 7%, 7.2%, 7.6%, 7.8% y 8.1%, calcula la media geométrica anual de crecimiento."
   ],
   "id": "b0d8ab0021bfe55b"
  },
  {
   "metadata": {
    "ExecuteTime": {
     "end_time": "2025-02-09T21:57:48.780006Z",
     "start_time": "2025-02-09T21:57:48.774205Z"
    }
   },
   "cell_type": "code",
   "source": [
    "# Factores de crecimiento\n",
    "incrementos = [1.07, 1.072, 1.076, 1.078, 1.081]\n",
    "\n",
    "# Media geometrica\n",
    "media_geometrica = gmean(incrementos)\n",
    "\n",
    "# Convertir a porcentaje\n",
    "porcentaje_media_geometrica = (media_geometrica - 1) * 100\n",
    "\n",
    "print(f\"Media geométrica anual: {porcentaje_media_geometrica:.2f}%\")"
   ],
   "id": "cdc2529dff40fedc",
   "outputs": [
    {
     "name": "stdout",
     "output_type": "stream",
     "text": [
      "Media geométrica anual: 7.54%\n"
     ]
    }
   ],
   "execution_count": 500
  },
  {
   "metadata": {},
   "cell_type": "markdown",
   "source": "b) El incremento anual de la gasolina magna en los últimos 10 años son los siguientes: 9.1%, 9.3%, 9.8%, 10.13%, 10.47%, 10.9%, 11.4%, 12.21%, 12.83%, 13%, calcula la media geométrica anual de crecimiento.",
   "id": "de9497de945ed331"
  },
  {
   "metadata": {
    "ExecuteTime": {
     "end_time": "2025-02-09T21:57:48.805400Z",
     "start_time": "2025-02-09T21:57:48.802126Z"
    }
   },
   "cell_type": "code",
   "source": [
    "# Factores de crecimientos\n",
    "growth_factors = [9.1, 9.3, 9.8, 10.13, 10.47, 10.9, 11.4, 12.21, 12.83, 13]\n",
    "\n",
    "for i in growth_factors:\n",
    "    growth_factors = [(i / 100 + 1)]\n",
    "\n",
    "# Media geométrica\n",
    "geometric_mean = gmean(lista)\n",
    "\n",
    "# Porcentaje de la media geométrica\n",
    "geometric_mean_percentage = (geometric_mean - 1) * 100\n",
    "\n",
    "print(f\"Media geometrica anual: {geometric_mean_percentage:.2f}%\")"
   ],
   "id": "2d829a5c405dd285",
   "outputs": [
    {
     "name": "stdout",
     "output_type": "stream",
     "text": [
      "Media geometrica anual: 711.67%\n"
     ]
    }
   ],
   "execution_count": 501
  },
  {
   "metadata": {},
   "cell_type": "markdown",
   "source": "La **Media Armónica (H)** es un promedio que resulta poco influido por la existencia de datos muy grandes, pero en cambio es más sensible a valores pequeños. De una serie de números, es el recíproco de la media aritmética de los recíprocos de los números de la serie.",
   "id": "e4afd2f97a91556d"
  },
  {
   "metadata": {},
   "cell_type": "markdown",
   "source": "<center> $H = \\frac{n}{\\frac{1}{X_1} + \\frac{1}{X_2} + ... + \\frac{1}{X_n}}$ </center>",
   "id": "303130471f85643d"
  },
  {
   "metadata": {},
   "cell_type": "markdown",
   "source": [
    "La compañia de transportes El sur de Jalisco tiene 3 autobuses que utiliza en el recorrido de Guadalajara a Jiquilpan, duran, 4, 3 y 7 horas respectivamente, calcula el tiempo que empleara un autobús para hacer el recorrido por media armónica y que sirva de base para un estudio de costos.\n",
    "\n",
    "<center> $ H = \\frac{3}{\\frac{1}{4} + \\frac{1}{3} + \\frac{1}{7}} = \\frac{3}{\\frac{21 + 28 + 12}{84}} = \\frac{3}{\\frac{61}{84}} = \\frac{252}{61} = 4.13$ horas </center>"
   ],
   "id": "c7d6b3a2f34e9ad7"
  },
  {
   "metadata": {
    "ExecuteTime": {
     "end_time": "2025-02-09T21:57:48.843567Z",
     "start_time": "2025-02-09T21:57:48.841217Z"
    }
   },
   "cell_type": "code",
   "source": [
    "# Media armómica en código\n",
    "from scipy.stats import hmean"
   ],
   "id": "659041fa92debb3",
   "outputs": [],
   "execution_count": 502
  },
  {
   "metadata": {},
   "cell_type": "markdown",
   "source": [
    "**Actividad en el aula:**\n",
    "\n",
    "a) La constructora Vaconsa solicita al CBTis No. 12, 6 alumnos de electricidad para que realicen la instalación eléctrica de 6 casas habitación, para ello tardan 5, 8, 7, 12, 6 y 10 horas respectivamente, calcula el tiempo que emplearan los alumnos para hacer la instalación por media armónica y que sirva de base para un estudio de costos."
   ],
   "id": "fa30facbd68e8e49"
  },
  {
   "metadata": {
    "ExecuteTime": {
     "end_time": "2025-02-09T21:57:48.874609Z",
     "start_time": "2025-02-09T21:57:48.872353Z"
    }
   },
   "cell_type": "code",
   "source": [
    "datos = [5, 8, 7, 12, 6, 10]\n",
    "print(f\"La media armónica (H) es de {hmean(datos):.2f}.\")"
   ],
   "id": "1d24e426a00cfce6",
   "outputs": [
    {
     "name": "stdout",
     "output_type": "stream",
     "text": [
      "La media armónica (H) es de 7.34.\n"
     ]
    }
   ],
   "execution_count": 503
  },
  {
   "metadata": {},
   "cell_type": "markdown",
   "source": "b) Los empleados de Systecom realizan programas de cómputo, para ello emplean 9, 4, 3 y 8 horas respectivamente, calcula el tiempo que emplean para desarrollar los softwares por media armónica y que sirvan de base para un estudio de costos.",
   "id": "c3b0e3b2d64beb12"
  },
  {
   "metadata": {
    "ExecuteTime": {
     "end_time": "2025-02-09T21:57:48.908508Z",
     "start_time": "2025-02-09T21:57:48.905808Z"
    }
   },
   "cell_type": "code",
   "source": "print(f\"La media armónica (H) es de {hmean([9, 4, 3, 8]):.2f}\")",
   "id": "10538d65128126d9",
   "outputs": [
    {
     "name": "stdout",
     "output_type": "stream",
     "text": [
      "La media armónica (H) es de 4.88\n"
     ]
    }
   ],
   "execution_count": 504
  },
  {
   "metadata": {},
   "cell_type": "markdown",
   "source": [
    "## **Mediana**\n",
    "\n",
    "La mediana **(Me o $\\widetilde{X}$)** tanto en la muestra como en la población, se define como el punto o dato que está en el 50% de los datos ordenados en forma ascendente o descendente, es decir, es el punto que divide a los datos de la población en la mitad superior e inferior o, dicho de otra manera, los divide en dos partes iguales. Se determina el número de datos con la fórmula siguiente:\n",
    "\n",
    "<center> $Me = \\frac{n + 1}{2}$ </center>\n",
    "\n",
    "**Me** = mediana (dato que está en la posición).\n",
    "\n",
    "**n** = Número de datos (esta fórmula aplica cuando el N° de datos es **inpar**)\n",
    "\n",
    "<center> $Me = \\frac{n}{2} y \\frac{n + 2}{2}$ </center>\n",
    "\n",
    "**N°** = Número de orden (en el caso de datos **pares** la mediana se encuentra entre este valor y el inmediato calculando su promedio)\n",
    "\n",
    "**n** = Número de datos"
   ],
   "id": "7f0431772cda0935"
  },
  {
   "metadata": {},
   "cell_type": "markdown",
   "source": [
    "Determina la mediana de las distribuciones siguientes:\n",
    "\n",
    "a) 21, 13, 17, 30, 25, 23, 13\n",
    "\n",
    "b) 20, 35, 50, 45, 40, 10, 55, 15, 30, 25"
   ],
   "id": "4f164881314eebaa"
  },
  {
   "metadata": {
    "ExecuteTime": {
     "end_time": "2025-02-09T21:57:48.942008Z",
     "start_time": "2025-02-09T21:57:48.939499Z"
    }
   },
   "cell_type": "code",
   "source": "print(f'La mediana del a es: {np.median([21, 13, 17, 30, 25, 23, 13])}')",
   "id": "ccdf4fcb56c501b4",
   "outputs": [
    {
     "name": "stdout",
     "output_type": "stream",
     "text": [
      "La mediana del a es: 21.0\n"
     ]
    }
   ],
   "execution_count": 505
  },
  {
   "metadata": {
    "ExecuteTime": {
     "end_time": "2025-02-09T21:57:48.977177Z",
     "start_time": "2025-02-09T21:57:48.974700Z"
    }
   },
   "cell_type": "code",
   "source": "print(f'La mediana del b es: {np.median([20, 35, 50, 45, 40, 10, 55, 15, 30, 25])}')",
   "id": "bced1b7c9a1665b0",
   "outputs": [
    {
     "name": "stdout",
     "output_type": "stream",
     "text": [
      "La mediana del b es: 32.5\n"
     ]
    }
   ],
   "execution_count": 506
  },
  {
   "metadata": {},
   "cell_type": "markdown",
   "source": [
    "## **Moda**\n",
    "\n",
    "La moda o valor modal, es el dato de la variable que aparece con mayor frecuencia en un conjunto de datos ya sea para observaciones cuantitativas o cualitativas, la moda no puede existir y también puede no ser única sino repetirse. Se simboliza por $\\mu$ o moda"
   ],
   "id": "1843fdd4881e232c"
  },
  {
   "metadata": {},
   "cell_type": "markdown",
   "source": [
    "Determina la moda de las siguientes distribuciones o series:\n",
    "\n",
    "a) 2, 3, 2, 4, 4, 2, 5\n",
    "\n",
    "b) 2, 4, 3, 6, 8, 1\n",
    "\n",
    "c) 5, 3, 3, 2, 4, 5"
   ],
   "id": "e8497acd253139ca"
  },
  {
   "metadata": {
    "ExecuteTime": {
     "end_time": "2025-02-09T21:57:49.002200Z",
     "start_time": "2025-02-09T21:57:49.000361Z"
    }
   },
   "cell_type": "code",
   "source": "from scipy.stats import mode",
   "id": "e80ba435cfe294b2",
   "outputs": [],
   "execution_count": 507
  },
  {
   "metadata": {
    "ExecuteTime": {
     "end_time": "2025-02-09T21:57:49.027544Z",
     "start_time": "2025-02-09T21:57:49.024742Z"
    }
   },
   "cell_type": "code",
   "source": "print(f'La moda es {mode(np.array([2, 3, 2, 4, 4, 2, 5]))[0]} y aparece {mode(np.array([2, 3, 2, 4, 4, 2, 5]))[1]} veces')",
   "id": "a85df13f5ac8d20b",
   "outputs": [
    {
     "name": "stdout",
     "output_type": "stream",
     "text": [
      "La moda es 2 y aparece 3 veces\n"
     ]
    }
   ],
   "execution_count": 508
  },
  {
   "metadata": {
    "ExecuteTime": {
     "end_time": "2025-02-09T21:57:49.069784Z",
     "start_time": "2025-02-09T21:57:49.065952Z"
    }
   },
   "cell_type": "code",
   "source": [
    "datos = [2, 4, 3, 6, 8, 1]\n",
    "print(f'La moda es {mode(datos)[0]} y aparece {mode(datos)[1]} veces')\n",
    "'En este caso no hay moda'"
   ],
   "id": "7c159712edeabbe8",
   "outputs": [
    {
     "name": "stdout",
     "output_type": "stream",
     "text": [
      "La moda es 1 y aparece 1 veces\n"
     ]
    },
    {
     "data": {
      "text/plain": [
       "'En este caso no hay moda'"
      ]
     },
     "execution_count": 509,
     "metadata": {},
     "output_type": "execute_result"
    }
   ],
   "execution_count": 509
  },
  {
   "metadata": {
    "ExecuteTime": {
     "end_time": "2025-02-09T21:57:49.086598Z",
     "start_time": "2025-02-09T21:57:49.083904Z"
    }
   },
   "cell_type": "code",
   "source": [
    "datos = [5, 3, 3, 2, 4, 5]\n",
    "print(f'La moda es {mode(datos)[0]} y aparece {mode(datos)[1]} veces')\n",
    "'Hay que tener cuidado con este método ya que solo da una moda, por ejemplo aquí hay 2 modas, 3 y 5'"
   ],
   "id": "134621b7ccbae0ad",
   "outputs": [
    {
     "name": "stdout",
     "output_type": "stream",
     "text": [
      "La moda es 3 y aparece 2 veces\n"
     ]
    },
    {
     "data": {
      "text/plain": [
       "'Hay que tener cuidado con este método ya que solo da una moda, por ejemplo aquí hay 2 modas, 3 y 5'"
      ]
     },
     "execution_count": 510,
     "metadata": {},
     "output_type": "execute_result"
    }
   ],
   "execution_count": 510
  },
  {
   "metadata": {},
   "cell_type": "markdown",
   "source": [
    "**Ejemplo**\n",
    "\n",
    "De la siguiente serie de calificaciones determina su media aritmética, mediana, moda y elabora un gráfico de barras\n",
    "\n",
    "68 75 84 61 75 65 82 75 68 87 90 74 62 88 62 95 76 78 93 63 73 72 79 66 88 78 73 82 60 75 93 94 71 59 85 77 69 74 68 60"
   ],
   "id": "51ecffe6db59dc4"
  },
  {
   "metadata": {},
   "cell_type": "markdown",
   "source": "**1° Ordenar los datos**",
   "id": "2f0c593ca609ac8a"
  },
  {
   "metadata": {
    "ExecuteTime": {
     "end_time": "2025-02-09T21:57:49.114850Z",
     "start_time": "2025-02-09T21:57:49.112741Z"
    }
   },
   "cell_type": "code",
   "source": "lista_ordenada = sorted([68, 75, 84, 61, 75, 65, 82, 75, 68, 87, 90, 74, 62, 88, 62, 95, 76, 78, 93, 63, 73, 72, 79, 66, 88, 78, 73, 82, 60, 75, 93, 94, 71, 59, 85, 77, 69, 74, 68, 60])",
   "id": "322cc1d5950f9c03",
   "outputs": [],
   "execution_count": 511
  },
  {
   "metadata": {},
   "cell_type": "markdown",
   "source": "**Media o Promedio**",
   "id": "7ada4990a3f8dbee"
  },
  {
   "metadata": {
    "ExecuteTime": {
     "end_time": "2025-02-09T21:57:49.145641Z",
     "start_time": "2025-02-09T21:57:49.143361Z"
    }
   },
   "cell_type": "code",
   "source": "print(f'La media es de {np.mean(lista_ordenada):.2f}')",
   "id": "bfabd1f1a25ea731",
   "outputs": [
    {
     "name": "stdout",
     "output_type": "stream",
     "text": [
      "La media es de 75.42\n"
     ]
    }
   ],
   "execution_count": 512
  },
  {
   "metadata": {},
   "cell_type": "markdown",
   "source": "**Mediana**",
   "id": "bb1cb23865141821"
  },
  {
   "metadata": {
    "ExecuteTime": {
     "end_time": "2025-02-09T21:57:49.174468Z",
     "start_time": "2025-02-09T21:57:49.172602Z"
    }
   },
   "cell_type": "code",
   "source": "print(f'La mediana es de {np.median(lista_ordenada):.2f}')",
   "id": "d247a89634942632",
   "outputs": [
    {
     "name": "stdout",
     "output_type": "stream",
     "text": [
      "La mediana es de 75.00\n"
     ]
    }
   ],
   "execution_count": 513
  },
  {
   "metadata": {},
   "cell_type": "markdown",
   "source": "**Moda**",
   "id": "1a76cf2d3e1f0484"
  },
  {
   "metadata": {
    "ExecuteTime": {
     "end_time": "2025-02-09T21:57:49.202932Z",
     "start_time": "2025-02-09T21:57:49.199364Z"
    }
   },
   "cell_type": "code",
   "source": "print(f'La moda es {mode(lista_ordenada)[0]} y aparece {mode(lista_ordenada)[1]} veces')",
   "id": "654a591a4befe9bc",
   "outputs": [
    {
     "name": "stdout",
     "output_type": "stream",
     "text": [
      "La moda es 75 y aparece 4 veces\n"
     ]
    }
   ],
   "execution_count": 514
  },
  {
   "metadata": {},
   "cell_type": "markdown",
   "source": "**Gráfica**",
   "id": "2ef88d7db77182f6"
  },
  {
   "metadata": {
    "ExecuteTime": {
     "end_time": "2025-02-09T21:57:49.219260Z",
     "start_time": "2025-02-09T21:57:49.217114Z"
    }
   },
   "cell_type": "code",
   "source": "calificaciones = pd.DataFrame({'Calificaciones' : lista_ordenada})",
   "id": "326c74a65f8911ed",
   "outputs": [],
   "execution_count": 515
  },
  {
   "metadata": {
    "ExecuteTime": {
     "end_time": "2025-02-09T21:57:49.241132Z",
     "start_time": "2025-02-09T21:57:49.238427Z"
    }
   },
   "cell_type": "code",
   "source": [
    "# Configurar el DataFrame\n",
    "frecuencia = calificaciones['Calificaciones'].value_counts()\n",
    "calificaciones['Alumnos'] = calificaciones['Calificaciones'].map(frecuencia)\n",
    "calificaciones.drop_duplicates(inplace=True)\n",
    "calificaciones.sort_values(by=['Calificaciones'], inplace=True)"
   ],
   "id": "a061f8c10b6ea4cb",
   "outputs": [],
   "execution_count": 516
  },
  {
   "metadata": {
    "ExecuteTime": {
     "end_time": "2025-02-09T21:57:49.365810Z",
     "start_time": "2025-02-09T21:57:49.266329Z"
    }
   },
   "cell_type": "code",
   "source": [
    "# Gráficar\n",
    "plt.figure(figsize = (15, 5))\n",
    "plt.bar(calificaciones['Calificaciones'], calificaciones['Alumnos'], color='green', alpha=0.7, linestyle='dashed')\n",
    "plt.title('Promedio de calificaciones')\n",
    "plt.xlabel('Calificaciones')\n",
    "plt.ylabel('Alumnos')\n",
    "plt.xticks(np.arange(59, 96))\n",
    "plt.grid(axis='y')\n",
    "plt.show()"
   ],
   "id": "4bb754a8d06e78c7",
   "outputs": [
    {
     "data": {
      "text/plain": [
       "<Figure size 1500x500 with 1 Axes>"
      ],
      "image/png": "[encoded data removed]"
     },
     "metadata": {},
     "output_type": "display_data"
    }
   ],
   "execution_count": 517
  },
  {
   "metadata": {},
   "cell_type": "markdown",
   "source": "Del problema anterior construye una tabla estadística cuya amplitud de intervalo sae de 4 y contenga sus frecuencias",
   "id": "da7ebae1dc260364"
  },
  {
   "metadata": {
    "ExecuteTime": {
     "end_time": "2025-02-09T21:57:49.380035Z",
     "start_time": "2025-02-09T21:57:49.372403Z"
    }
   },
   "cell_type": "code",
   "source": [
    "# Agregar fa, fr, y fra\n",
    "calificaciones['Fa'] = calificaciones['Alumnos'].cumsum()\n",
    "calificaciones['Fr'] = (calificaciones['Alumnos'] / calificaciones['Alumnos'].sum() * 100).round(2)\n",
    "calificaciones['Fra'] = calificaciones['Fr'].cumsum().round(2)\n",
    "calificaciones"
   ],
   "id": "c5ddec8a062e72ec",
   "outputs": [
    {
     "data": {
      "text/plain": [
       "    Calificaciones  Alumnos  Fa    Fr    Fra\n",
       "0               59        1   1   2.5    2.5\n",
       "1               60        2   3   5.0    7.5\n",
       "3               61        1   4   2.5   10.0\n",
       "4               62        2   6   5.0   15.0\n",
       "6               63        1   7   2.5   17.5\n",
       "7               65        1   8   2.5   20.0\n",
       "8               66        1   9   2.5   22.5\n",
       "9               68        3  12   7.5   30.0\n",
       "12              69        1  13   2.5   32.5\n",
       "13              71        1  14   2.5   35.0\n",
       "14              72        1  15   2.5   37.5\n",
       "15              73        2  17   5.0   42.5\n",
       "17              74        2  19   5.0   47.5\n",
       "19              75        4  23  10.0   57.5\n",
       "23              76        1  24   2.5   60.0\n",
       "24              77        1  25   2.5   62.5\n",
       "25              78        2  27   5.0   67.5\n",
       "27              79        1  28   2.5   70.0\n",
       "28              82        2  30   5.0   75.0\n",
       "30              84        1  31   2.5   77.5\n",
       "31              85        1  32   2.5   80.0\n",
       "32              87        1  33   2.5   82.5\n",
       "33              88        2  35   5.0   87.5\n",
       "35              90        1  36   2.5   90.0\n",
       "36              93        2  38   5.0   95.0\n",
       "38              94        1  39   2.5   97.5\n",
       "39              95        1  40   2.5  100.0"
      ],
      "text/html": [
       "<div>\n",
       "<style scoped>\n",
       "    .dataframe tbody tr th:only-of-type {\n",
       "        vertical-align: middle;\n",
       "    }\n",
       "\n",
       "    .dataframe tbody tr th {\n",
       "        vertical-align: top;\n",
       "    }\n",
       "\n",
       "    .dataframe thead th {\n",
       "        text-align: right;\n",
       "    }\n",
       "</style>\n",
       "<table border=\"1\" class=\"dataframe\">\n",
       "  <thead>\n",
       "    <tr style=\"text-align: right;\">\n",
       "      <th></th>\n",
       "      <th>Calificaciones</th>\n",
       "      <th>Alumnos</th>\n",
       "      <th>Fa</th>\n",
       "      <th>Fr</th>\n",
       "      <th>Fra</th>\n",
       "    </tr>\n",
       "  </thead>\n",
       "  <tbody>\n",
       "    <tr>\n",
       "      <th>0</th>\n",
       "      <td>59</td>\n",
       "      <td>1</td>\n",
       "      <td>1</td>\n",
       "      <td>2.5</td>\n",
       "      <td>2.5</td>\n",
       "    </tr>\n",
       "    <tr>\n",
       "      <th>1</th>\n",
       "      <td>60</td>\n",
       "      <td>2</td>\n",
       "      <td>3</td>\n",
       "      <td>5.0</td>\n",
       "      <td>7.5</td>\n",
       "    </tr>\n",
       "    <tr>\n",
       "      <th>3</th>\n",
       "      <td>61</td>\n",
       "      <td>1</td>\n",
       "      <td>4</td>\n",
       "      <td>2.5</td>\n",
       "      <td>10.0</td>\n",
       "    </tr>\n",
       "    <tr>\n",
       "      <th>4</th>\n",
       "      <td>62</td>\n",
       "      <td>2</td>\n",
       "      <td>6</td>\n",
       "      <td>5.0</td>\n",
       "      <td>15.0</td>\n",
       "    </tr>\n",
       "    <tr>\n",
       "      <th>6</th>\n",
       "      <td>63</td>\n",
       "      <td>1</td>\n",
       "      <td>7</td>\n",
       "      <td>2.5</td>\n",
       "      <td>17.5</td>\n",
       "    </tr>\n",
       "    <tr>\n",
       "      <th>7</th>\n",
       "      <td>65</td>\n",
       "      <td>1</td>\n",
       "      <td>8</td>\n",
       "      <td>2.5</td>\n",
       "      <td>20.0</td>\n",
       "    </tr>\n",
       "    <tr>\n",
       "      <th>8</th>\n",
       "      <td>66</td>\n",
       "      <td>1</td>\n",
       "      <td>9</td>\n",
       "      <td>2.5</td>\n",
       "      <td>22.5</td>\n",
       "    </tr>\n",
       "    <tr>\n",
       "      <th>9</th>\n",
       "      <td>68</td>\n",
       "      <td>3</td>\n",
       "      <td>12</td>\n",
       "      <td>7.5</td>\n",
       "      <td>30.0</td>\n",
       "    </tr>\n",
       "    <tr>\n",
       "      <th>12</th>\n",
       "      <td>69</td>\n",
       "      <td>1</td>\n",
       "      <td>13</td>\n",
       "      <td>2.5</td>\n",
       "      <td>32.5</td>\n",
       "    </tr>\n",
       "    <tr>\n",
       "      <th>13</th>\n",
       "      <td>71</td>\n",
       "      <td>1</td>\n",
       "      <td>14</td>\n",
       "      <td>2.5</td>\n",
       "      <td>35.0</td>\n",
       "    </tr>\n",
       "    <tr>\n",
       "      <th>14</th>\n",
       "      <td>72</td>\n",
       "      <td>1</td>\n",
       "      <td>15</td>\n",
       "      <td>2.5</td>\n",
       "      <td>37.5</td>\n",
       "    </tr>\n",
       "    <tr>\n",
       "      <th>15</th>\n",
       "      <td>73</td>\n",
       "      <td>2</td>\n",
       "      <td>17</td>\n",
       "      <td>5.0</td>\n",
       "      <td>42.5</td>\n",
       "    </tr>\n",
       "    <tr>\n",
       "      <th>17</th>\n",
       "      <td>74</td>\n",
       "      <td>2</td>\n",
       "      <td>19</td>\n",
       "      <td>5.0</td>\n",
       "      <td>47.5</td>\n",
       "    </tr>\n",
       "    <tr>\n",
       "      <th>19</th>\n",
       "      <td>75</td>\n",
       "      <td>4</td>\n",
       "      <td>23</td>\n",
       "      <td>10.0</td>\n",
       "      <td>57.5</td>\n",
       "    </tr>\n",
       "    <tr>\n",
       "      <th>23</th>\n",
       "      <td>76</td>\n",
       "      <td>1</td>\n",
       "      <td>24</td>\n",
       "      <td>2.5</td>\n",
       "      <td>60.0</td>\n",
       "    </tr>\n",
       "    <tr>\n",
       "      <th>24</th>\n",
       "      <td>77</td>\n",
       "      <td>1</td>\n",
       "      <td>25</td>\n",
       "      <td>2.5</td>\n",
       "      <td>62.5</td>\n",
       "    </tr>\n",
       "    <tr>\n",
       "      <th>25</th>\n",
       "      <td>78</td>\n",
       "      <td>2</td>\n",
       "      <td>27</td>\n",
       "      <td>5.0</td>\n",
       "      <td>67.5</td>\n",
       "    </tr>\n",
       "    <tr>\n",
       "      <th>27</th>\n",
       "      <td>79</td>\n",
       "      <td>1</td>\n",
       "      <td>28</td>\n",
       "      <td>2.5</td>\n",
       "      <td>70.0</td>\n",
       "    </tr>\n",
       "    <tr>\n",
       "      <th>28</th>\n",
       "      <td>82</td>\n",
       "      <td>2</td>\n",
       "      <td>30</td>\n",
       "      <td>5.0</td>\n",
       "      <td>75.0</td>\n",
       "    </tr>\n",
       "    <tr>\n",
       "      <th>30</th>\n",
       "      <td>84</td>\n",
       "      <td>1</td>\n",
       "      <td>31</td>\n",
       "      <td>2.5</td>\n",
       "      <td>77.5</td>\n",
       "    </tr>\n",
       "    <tr>\n",
       "      <th>31</th>\n",
       "      <td>85</td>\n",
       "      <td>1</td>\n",
       "      <td>32</td>\n",
       "      <td>2.5</td>\n",
       "      <td>80.0</td>\n",
       "    </tr>\n",
       "    <tr>\n",
       "      <th>32</th>\n",
       "      <td>87</td>\n",
       "      <td>1</td>\n",
       "      <td>33</td>\n",
       "      <td>2.5</td>\n",
       "      <td>82.5</td>\n",
       "    </tr>\n",
       "    <tr>\n",
       "      <th>33</th>\n",
       "      <td>88</td>\n",
       "      <td>2</td>\n",
       "      <td>35</td>\n",
       "      <td>5.0</td>\n",
       "      <td>87.5</td>\n",
       "    </tr>\n",
       "    <tr>\n",
       "      <th>35</th>\n",
       "      <td>90</td>\n",
       "      <td>1</td>\n",
       "      <td>36</td>\n",
       "      <td>2.5</td>\n",
       "      <td>90.0</td>\n",
       "    </tr>\n",
       "    <tr>\n",
       "      <th>36</th>\n",
       "      <td>93</td>\n",
       "      <td>2</td>\n",
       "      <td>38</td>\n",
       "      <td>5.0</td>\n",
       "      <td>95.0</td>\n",
       "    </tr>\n",
       "    <tr>\n",
       "      <th>38</th>\n",
       "      <td>94</td>\n",
       "      <td>1</td>\n",
       "      <td>39</td>\n",
       "      <td>2.5</td>\n",
       "      <td>97.5</td>\n",
       "    </tr>\n",
       "    <tr>\n",
       "      <th>39</th>\n",
       "      <td>95</td>\n",
       "      <td>1</td>\n",
       "      <td>40</td>\n",
       "      <td>2.5</td>\n",
       "      <td>100.0</td>\n",
       "    </tr>\n",
       "  </tbody>\n",
       "</table>\n",
       "</div>"
      ]
     },
     "execution_count": 518,
     "metadata": {},
     "output_type": "execute_result"
    }
   ],
   "execution_count": 518
  },
  {
   "metadata": {},
   "cell_type": "markdown",
   "source": [
    "**Actividad en el aula:**\n",
    "\n",
    "a) Se visitaron 40 familias de la comunidad de Francisco Sarabia, Michoacán, con la finalidad de conocer la cantidad de hijos que tienen. Con los siguientes datos recabados determina la media aritmética, mediana y moda, además, elabora un gráfico, así como su tabla estadística con sus frecuencias.\n",
    "\n",
    "5, 4, 3, 4, 4, 5, 6, 7, 7, 6, 5, 4, 4, 3, 3, 4, 5, 6, 7, 8, 6, 8, 5, 4, 8, 6, 4, 3, 5, 6, 7, 8, 4, 5, 5, 3, 4, 3, 7, 3, 5, 6, 5, 8, 5, 4, 3, 5, 4, 3."
   ],
   "id": "7ae5137dc102106a"
  },
  {
   "metadata": {
    "ExecuteTime": {
     "end_time": "2025-02-09T21:57:49.416587Z",
     "start_time": "2025-02-09T21:57:49.413896Z"
    }
   },
   "cell_type": "code",
   "source": [
    "# Primero ordenamos los datos\n",
    "datos = sorted([5, 4, 3, 4, 4, 5, 6, 7, 7, 6, 5, 4, 4, 3, 3, 4, 5, 6, 7, 8, 6, 8, 5, 4, 8, 6, 4, 3, 5, 6, 7, 8, 4, 5, 5, 3, 4, 3, 7, 3, 5, 6, 5, 8, 5, 4, 3, 5, 4, 3])"
   ],
   "id": "a7a778cdca53edbc",
   "outputs": [],
   "execution_count": 519
  },
  {
   "metadata": {},
   "cell_type": "markdown",
   "source": "**Media**",
   "id": "b9719b3206f4f5ad"
  },
  {
   "metadata": {
    "ExecuteTime": {
     "end_time": "2025-02-09T21:57:49.444180Z",
     "start_time": "2025-02-09T21:57:49.441532Z"
    }
   },
   "cell_type": "code",
   "source": "print(f'La media es {np.mean(datos):.2f}')",
   "id": "3d8e32fcc57b13ee",
   "outputs": [
    {
     "name": "stdout",
     "output_type": "stream",
     "text": [
      "La media es 5.04\n"
     ]
    }
   ],
   "execution_count": 520
  },
  {
   "metadata": {},
   "cell_type": "markdown",
   "source": "**Mediana**",
   "id": "bba3880e498a1c2d"
  },
  {
   "metadata": {
    "ExecuteTime": {
     "end_time": "2025-02-09T21:57:49.524653Z",
     "start_time": "2025-02-09T21:57:49.520725Z"
    }
   },
   "cell_type": "code",
   "source": "print(f'La mediana es {np.median(datos):.2f}')",
   "id": "b884d0256407dc93",
   "outputs": [
    {
     "name": "stdout",
     "output_type": "stream",
     "text": [
      "La mediana es 5.00\n"
     ]
    }
   ],
   "execution_count": 521
  },
  {
   "metadata": {},
   "cell_type": "markdown",
   "source": "**Moda**",
   "id": "e863bc230e5093f8"
  },
  {
   "metadata": {
    "ExecuteTime": {
     "end_time": "2025-02-09T21:57:49.558272Z",
     "start_time": "2025-02-09T21:57:49.555435Z"
    }
   },
   "cell_type": "code",
   "source": "print(f'La moda es {mode(datos)[0]} y aparece {mode(datos)[1]} veces')",
   "id": "8585959154c83183",
   "outputs": [
    {
     "name": "stdout",
     "output_type": "stream",
     "text": [
      "La moda es 4 y aparece 12 veces\n"
     ]
    }
   ],
   "execution_count": 522
  },
  {
   "metadata": {},
   "cell_type": "markdown",
   "source": "**Gráfica**",
   "id": "56800cce4b17ed22"
  },
  {
   "metadata": {
    "ExecuteTime": {
     "end_time": "2025-02-09T21:57:49.586015Z",
     "start_time": "2025-02-09T21:57:49.583003Z"
    }
   },
   "cell_type": "code",
   "source": [
    "# Ordenamos el dataset\n",
    "familias_DF = pd.DataFrame({'Hijos' : datos})\n",
    "familias_DF.sort_values(by=['Hijos'], inplace=True)\n",
    "frecuencia = familias_DF['Hijos'].value_counts()\n",
    "familias_DF['Familias'] = familias_DF['Hijos'].map(frecuencia)\n",
    "familias_DF.drop_duplicates(inplace=True)"
   ],
   "id": "401a85cef2bd7767",
   "outputs": [],
   "execution_count": 523
  },
  {
   "metadata": {
    "ExecuteTime": {
     "end_time": "2025-02-09T21:57:49.668212Z",
     "start_time": "2025-02-09T21:57:49.611392Z"
    }
   },
   "cell_type": "code",
   "source": [
    "# Gráficar\n",
    "plt.bar(familias_DF['Hijos'], familias_DF['Familias'], color='green', alpha=0.7, linestyle='dashed')\n",
    "plt.title('Número de hijos por familias')\n",
    "plt.xlabel('Hijos')\n",
    "plt.ylabel('Familias')\n",
    "plt.yticks(np.arange(0, 13))\n",
    "plt.grid(axis='y')\n",
    "plt.show()"
   ],
   "id": "66540771faca41e3",
   "outputs": [
    {
     "data": {
      "text/plain": [
       "<Figure size 640x480 with 1 Axes>"
      ],
      "image/png": "[encoded data removed]"
     },
     "metadata": {},
     "output_type": "display_data"
    }
   ],
   "execution_count": 524
  },
  {
   "metadata": {},
   "cell_type": "markdown",
   "source": "**Añadir frecuencias**",
   "id": "19730e867d166a87"
  },
  {
   "metadata": {
    "ExecuteTime": {
     "end_time": "2025-02-09T21:57:49.675812Z",
     "start_time": "2025-02-09T21:57:49.672345Z"
    }
   },
   "cell_type": "code",
   "source": [
    "familias_DF['Fa'] = familias_DF['Familias'].cumsum()\n",
    "familias_DF['Fr'] = (familias_DF['Familias'] / familias_DF['Familias'].sum() * 100).round(2)\n",
    "familias_DF['Fra'] = familias_DF['Fr'].cumsum().round(2)"
   ],
   "id": "c94d9f6ca647b7be",
   "outputs": [],
   "execution_count": 525
  },
  {
   "metadata": {},
   "cell_type": "markdown",
   "source": "**Tabla**",
   "id": "fe777b3250657ce"
  },
  {
   "metadata": {
    "ExecuteTime": {
     "end_time": "2025-02-09T21:57:49.712702Z",
     "start_time": "2025-02-09T21:57:49.707639Z"
    }
   },
   "cell_type": "code",
   "source": "familias_DF",
   "id": "fdbf84708e6ec2a1",
   "outputs": [
    {
     "data": {
      "text/plain": [
       "    Hijos  Familias  Fa    Fr    Fra\n",
       "0       3         9   9  18.0   18.0\n",
       "20      4        12  21  24.0   42.0\n",
       "28      5        12  33  24.0   66.0\n",
       "39      6         7  40  14.0   80.0\n",
       "40      7         5  45  10.0   90.0\n",
       "48      8         5  50  10.0  100.0"
      ],
      "text/html": [
       "<div>\n",
       "<style scoped>\n",
       "    .dataframe tbody tr th:only-of-type {\n",
       "        vertical-align: middle;\n",
       "    }\n",
       "\n",
       "    .dataframe tbody tr th {\n",
       "        vertical-align: top;\n",
       "    }\n",
       "\n",
       "    .dataframe thead th {\n",
       "        text-align: right;\n",
       "    }\n",
       "</style>\n",
       "<table border=\"1\" class=\"dataframe\">\n",
       "  <thead>\n",
       "    <tr style=\"text-align: right;\">\n",
       "      <th></th>\n",
       "      <th>Hijos</th>\n",
       "      <th>Familias</th>\n",
       "      <th>Fa</th>\n",
       "      <th>Fr</th>\n",
       "      <th>Fra</th>\n",
       "    </tr>\n",
       "  </thead>\n",
       "  <tbody>\n",
       "    <tr>\n",
       "      <th>0</th>\n",
       "      <td>3</td>\n",
       "      <td>9</td>\n",
       "      <td>9</td>\n",
       "      <td>18.0</td>\n",
       "      <td>18.0</td>\n",
       "    </tr>\n",
       "    <tr>\n",
       "      <th>20</th>\n",
       "      <td>4</td>\n",
       "      <td>12</td>\n",
       "      <td>21</td>\n",
       "      <td>24.0</td>\n",
       "      <td>42.0</td>\n",
       "    </tr>\n",
       "    <tr>\n",
       "      <th>28</th>\n",
       "      <td>5</td>\n",
       "      <td>12</td>\n",
       "      <td>33</td>\n",
       "      <td>24.0</td>\n",
       "      <td>66.0</td>\n",
       "    </tr>\n",
       "    <tr>\n",
       "      <th>39</th>\n",
       "      <td>6</td>\n",
       "      <td>7</td>\n",
       "      <td>40</td>\n",
       "      <td>14.0</td>\n",
       "      <td>80.0</td>\n",
       "    </tr>\n",
       "    <tr>\n",
       "      <th>40</th>\n",
       "      <td>7</td>\n",
       "      <td>5</td>\n",
       "      <td>45</td>\n",
       "      <td>10.0</td>\n",
       "      <td>90.0</td>\n",
       "    </tr>\n",
       "    <tr>\n",
       "      <th>48</th>\n",
       "      <td>8</td>\n",
       "      <td>5</td>\n",
       "      <td>50</td>\n",
       "      <td>10.0</td>\n",
       "      <td>100.0</td>\n",
       "    </tr>\n",
       "  </tbody>\n",
       "</table>\n",
       "</div>"
      ]
     },
     "execution_count": 526,
     "metadata": {},
     "output_type": "execute_result"
    }
   ],
   "execution_count": 526
  },
  {
   "metadata": {},
   "cell_type": "markdown",
   "source": [
    "## **Medidas de Dispersión**\n",
    "\n",
    "Una medida de tendencia central por sí sola no describe ni resume adecuadamente una distribución de datos, es necesario acompañarla de un indicador que dé cuenta del grado de heterogeneidad o dispersión con que se distribuyen los datos de la variable. Una medida de dispersión dice cuanto se desvían los datos respecto a las tendencias centrales"
   ],
   "id": "8aa772a3412f24de"
  },
  {
   "metadata": {},
   "cell_type": "markdown",
   "source": [
    "## **Rango**\n",
    "\n",
    "Se trata de las más simples de las medidas de dispersión y representa la distancia entre el valor máximo ($D_M$) y el valor mínimo ($d_m$) de los datos. Si bien da una primera idea acerca de la heterogeneidad, tiene el inconveniente de que sólo toma los dos valores extremos, son considerar los valores internos. Así tenemos que se determina:\n",
    "\n",
    "<center> $R = {D_M} - {d_m}$ </center>"
   ],
   "id": "2180d2c715e09060"
  },
  {
   "metadata": {},
   "cell_type": "markdown",
   "source": [
    "a) El profesor de matemáticas desea saber el número de días que los alumnos utilizan el Geogebra como apoyo para realizar sus tareas, obteniendo los siguientes datos con los cuales debes determinar la media aritmética, mediana, moda y rango.\n",
    "\n",
    "4, 7, 1, 4, 5, 3, 2, 4, 6, 4, 1, 1, 2, 6, 7, 4, 3, 1, 4, 2, 4\n",
    "\n",
    "Ordenamos los datos: 1, 1, 1, 1, 2, 2, 2, 3, 3, 4, 4, 4, 4, 4, 4, 4, 5, 6, 6, 7, 7\n",
    "\n",
    "Media = $\\frac{75}{21} = 3.57$\n",
    "\n",
    "Mediana = $\\frac{21 + 1}{2} = 11°$ valor = 4\n",
    "\n",
    "Moda = 4\n",
    "\n",
    "Rango = 7 - 1 = 6"
   ],
   "id": "c21062e32bb96664"
  },
  {
   "metadata": {},
   "cell_type": "markdown",
   "source": [
    "**Actividad en el aula:**\n",
    "\n",
    "a) La escuela desea comprar unas impresoras para los centros de cómputo. Así que el encargado de las compras se dio a la tarea de buscar los precios de los modelos disponibles en Office Depot obteniendo así la siguiente lista de precios.\n",
    "\n",
    "4083, 1042, 9245, 1482, 3256, 5172, 2167, 2647, 3800, 2994, 3484, 3811, 2156, 3920.\n",
    "\n",
    "Con la información anterior, determina su media aritmética, mediana, moda y rango."
   ],
   "id": "75b2f9902727da6"
  },
  {
   "metadata": {},
   "cell_type": "markdown",
   "source": "**Media**",
   "id": "1fcd20fc9a900785"
  },
  {
   "metadata": {
    "ExecuteTime": {
     "end_time": "2025-02-09T21:57:49.743630Z",
     "start_time": "2025-02-09T21:57:49.739732Z"
    }
   },
   "cell_type": "code",
   "source": "print(f'La media es {np.mean([4083, 1042, 9245, 1482, 3256, 5172, 2167, 2647, 3800, 2994, 3484, 3811, 2156, 3920])}')\n",
   "id": "80be1d15625e9c50",
   "outputs": [
    {
     "name": "stdout",
     "output_type": "stream",
     "text": [
      "La media es 3518.5\n"
     ]
    }
   ],
   "execution_count": 527
  },
  {
   "metadata": {},
   "cell_type": "markdown",
   "source": "**Mediana**",
   "id": "ee0d381ea4f82891"
  },
  {
   "metadata": {
    "ExecuteTime": {
     "end_time": "2025-02-09T21:57:49.804630Z",
     "start_time": "2025-02-09T21:57:49.798999Z"
    }
   },
   "cell_type": "code",
   "source": "print(f'La mediana es {np.median([4083, 1042, 9245, 1482, 3256, 5172, 2167, 2647, 3800, 2994, 3484, 3811, 2156, 3920])}')",
   "id": "86080729ff1e9d9c",
   "outputs": [
    {
     "name": "stdout",
     "output_type": "stream",
     "text": [
      "La mediana es 3370.0\n"
     ]
    }
   ],
   "execution_count": 528
  },
  {
   "metadata": {},
   "cell_type": "markdown",
   "source": "**Moda**",
   "id": "47e962cf97f6d162"
  },
  {
   "metadata": {
    "ExecuteTime": {
     "end_time": "2025-02-09T21:57:49.873136Z",
     "start_time": "2025-02-09T21:57:49.869184Z"
    }
   },
   "cell_type": "code",
   "source": [
    "print(f'La moda es {mode([4083, 1042, 9245, 1482, 3256, 5172, 2167, 2647, 3800, 2994, 3484, 3811, 2156, 3920])[0]} y se repite {mode([4083, 1042, 9245, 1482, 3256, 5172, 2167, 2647, 3800, 2994, 3484, 3811, 2156, 3920])[1]} veces')\n",
    "'En este caso no hay moda'"
   ],
   "id": "c3b80ad320692048",
   "outputs": [
    {
     "name": "stdout",
     "output_type": "stream",
     "text": [
      "La moda es 1042 y se repite 1 veces\n"
     ]
    },
    {
     "data": {
      "text/plain": [
       "'En este caso no hay moda'"
      ]
     },
     "execution_count": 529,
     "metadata": {},
     "output_type": "execute_result"
    }
   ],
   "execution_count": 529
  },
  {
   "metadata": {},
   "cell_type": "markdown",
   "source": "**Rango**",
   "id": "39a92e7d8db5172f"
  },
  {
   "metadata": {
    "ExecuteTime": {
     "end_time": "2025-02-09T21:57:49.904797Z",
     "start_time": "2025-02-09T21:57:49.902651Z"
    }
   },
   "cell_type": "code",
   "source": "print(f'El rango es de {np.ptp([4083, 1042, 9245, 1482, 3256, 5172, 2167, 2647, 3800, 2994, 3484, 3811, 2156, 3920])}')",
   "id": "d4d424f83d79ed5d",
   "outputs": [
    {
     "name": "stdout",
     "output_type": "stream",
     "text": [
      "El rango es de 8203\n"
     ]
    }
   ],
   "execution_count": 530
  },
  {
   "metadata": {},
   "cell_type": "markdown",
   "source": [
    "## **Cuartiles y deciles**\n",
    "\n",
    "A fin de conocer los intervalos dentro de los cuales quedan representados proporcionalmente los términos de una distribución, se divide la distribución de frecuencias en partes iguales para que cada una contenga igual número de observaciones.\n",
    "\n",
    "Para los **cuartiles** el número de datos totales \"n\" se divide en 4 partes iguales, estos son similares a porcentajes, ya que el primer cuartil ($Q_1$) se separa 25%, el segundo ($Q_2$) 50%, el tercer ($Q_3$) 75% y el último ($Q_4$) el 100% de la distribución de los datos, estos se calculan con las fórmulas siguientes:\n",
    "\n",
    "<center> $Q_1 = \\frac{n}{4}$ , $Q_3 = \\frac{3n}{4}$ </center>\n",
    "\n",
    "En el caso del segundo cuartil no es necesario, es el mismo que la mediana"
   ],
   "id": "beaca931c39cd991"
  },
  {
   "metadata": {
    "ExecuteTime": {
     "end_time": "2025-02-09T21:57:49.954442Z",
     "start_time": "2025-02-09T21:57:49.950955Z"
    }
   },
   "cell_type": "code",
   "source": [
    "datos = [3.9, 4.6, 4.8, 5.2, 5.5, 5.8, 5.9, 6.1, 6.3, 6.6, 6.7, 6.9, 7.4, 7.4, 7.5, 7.5, 7.5, 7.8, 7.9, 8.0, 8.1, 8.3, 8.5, 8.8, 8.9, 8.9, 9.2, 9.6, 10]\n",
    "\n",
    "q1 = np.percentile(datos, 25)  # Primer cuartil (Q1)\n",
    "q2 = np.percentile(datos, 50)  # Mediana (Q2)\n",
    "q3 = np.percentile(datos, 75)  # Tercer cuartil (Q3)\n",
    "\n",
    "print(f\"Q1: {q1}\\nQ2 (Mediana): {q2}\\nQ3: {q3}\")"
   ],
   "id": "360097a00b4b19be",
   "outputs": [
    {
     "name": "stdout",
     "output_type": "stream",
     "text": [
      "Q1: 6.1\n",
      "Q2 (Mediana): 7.5\n",
      "Q3: 8.3\n"
     ]
    }
   ],
   "execution_count": 531
  },
  {
   "metadata": {},
   "cell_type": "markdown",
   "source": [
    "Para los **deciles** se divide en 10 partes y cada uno contendrá el 10% designándose con la letra \"D\" con el número de decil y se calcula con las siguientes formulas:\n",
    "\n",
    "$D1 = \\frac{n}{10} , D2 = \\frac{2n}{10} , D3 = \\frac{3n}{10} ... ..., D9 = \\frac{9n}{10}$"
   ],
   "id": "322935b883bc8e64"
  },
  {
   "metadata": {
    "ExecuteTime": {
     "end_time": "2025-02-09T21:57:49.985419Z",
     "start_time": "2025-02-09T21:57:49.982757Z"
    }
   },
   "cell_type": "code",
   "source": [
    "for i in range(1, 10):\n",
    "    print(f'Decil {i}: {np.percentile(datos, i * 10):.2f}')"
   ],
   "id": "17299197edba0d65",
   "outputs": [
    {
     "name": "stdout",
     "output_type": "stream",
     "text": [
      "Decil 1: 5.12\n",
      "Decil 2: 5.86\n",
      "Decil 3: 6.42\n",
      "Decil 4: 7.00\n",
      "Decil 5: 7.50\n",
      "Decil 6: 7.74\n",
      "Decil 7: 8.06\n",
      "Decil 8: 8.62\n",
      "Decil 9: 8.96\n"
     ]
    }
   ],
   "execution_count": 532
  },
  {
   "metadata": {},
   "cell_type": "markdown",
   "source": [
    "**Actividad en el aula:**\n",
    "\n",
    "a) En el mes de enero el centro de salud tomo medidas de cintura a un grupo de mujeres al azar, mismas que se tomaron como base para la campaña contra la obesidad, los datos arrojados encuentra el primer y tercer cuartil, así como el segundo, cuarto séptimo y noveno decil.\n",
    "\n",
    "68, 75, 84, 61, 75, 65, 82, 75, 68, 87, 90, 74, 62, 88, 62, 95, 76, 78, 93, 63, 73, 72, 79, 66, 88, 78, 73, 82, 60, 75, 93, 94, 71, 59, 85, 77, 69, 74, 68, 60"
   ],
   "id": "113ff4c7a4e5012f"
  },
  {
   "metadata": {
    "ExecuteTime": {
     "end_time": "2025-02-09T21:57:50.015686Z",
     "start_time": "2025-02-09T21:57:50.012791Z"
    }
   },
   "cell_type": "code",
   "source": [
    "datos = [68, 75, 84, 61, 75, 65, 82, 75, 68, 87, 90, 74, 62, 88, 62, 95, 76, 78, 93, 63, 73, 72, 79, 66, 88, 78, 73, 82, 60, 75, 93, 94, 71, 59, 85, 77, 69, 74, 68, 60]\n",
    "\n",
    "print(f'Q1: {np.percentile(datos, 25):.2f}')\n",
    "print(f'Q3: {np.percentile(datos, 75):.2f}')\n",
    "print(f'D2: {np.percentile(datos, 20):.2f}')\n",
    "print(f'D4: {np.percentile(datos, 40):.2f}')\n",
    "print(f'D7: {np.percentile(datos, 70):.2f}')\n",
    "print(f'D9: {np.percentile(datos, 90):.2f}')"
   ],
   "id": "be8eb2d613905047",
   "outputs": [
    {
     "name": "stdout",
     "output_type": "stream",
     "text": [
      "Q1: 68.00\n",
      "Q3: 82.50\n",
      "D2: 65.80\n",
      "D4: 73.00\n",
      "D7: 79.90\n",
      "D9: 90.30\n"
     ]
    }
   ],
   "execution_count": 533
  },
  {
   "metadata": {},
   "cell_type": "markdown",
   "source": [
    "b) La empresa contable Luna y asociados proporciono el sueldo diario de los trabajadores de Merza, con la finalidad de calcular el cuartil uno y tres, así como los deciles uno, tres, seis y ocho.\n",
    "\n",
    "210, 190, 160, 168, 275, 175, 189, 193, 249, 238, 217, 300, 250, 215, 157, 150, 200, 224, 245, 179, 157, 190, 180, 177, 201"
   ],
   "id": "c9fa647154a080e4"
  },
  {
   "metadata": {
    "ExecuteTime": {
     "end_time": "2025-02-09T21:57:50.045604Z",
     "start_time": "2025-02-09T21:57:50.042373Z"
    }
   },
   "cell_type": "code",
   "source": [
    "datos = [210, 190, 160, 168, 275, 175, 189, 193, 249, 238, 217, 300, 250, 215, 157, 150, 200, 224, 245, 179, 157, 190, 180, 177, 201]\n",
    "\n",
    "print(f'Q1: {np.percentile(datos, 25):.2f}')\n",
    "print(f'Q3: {np.percentile(datos, 75):.2f}')\n",
    "print(f'D1: {np.percentile(datos, 10):.2f}')\n",
    "print(f'D3: {np.percentile(datos, 30):.2f}')\n",
    "print(f'D6: {np.percentile(datos, 60):.2f}')\n",
    "print(f'D8: {np.percentile(datos, 80):.2f}')"
   ],
   "id": "c718f548c0841511",
   "outputs": [
    {
     "name": "stdout",
     "output_type": "stream",
     "text": [
      "Q1: 177.00\n",
      "Q3: 224.00\n",
      "D1: 158.20\n",
      "D3: 179.20\n",
      "D6: 204.60\n",
      "D8: 239.40\n"
     ]
    }
   ],
   "execution_count": 534
  },
  {
   "metadata": {},
   "cell_type": "markdown",
   "source": [
    "## **Desviación Media**\n",
    "\n",
    "Se define como la desviación promedio de los valores absolutos de las desviaciones de los datos de una variable con respecto a su media. En otras palabras, se resta el valor de cada dato con respecto a su media y se ignoran los signos negativos. Todo esto con el fin de observar y analizar la distancia que existe entre cada dato de estudio y su media. Finalmente se suman estas desviaciones y se dividen entre el total de elementos de la muestra y se calcula con la siguiente fórmula:\n",
    "\n",
    "<center> $DM = \\frac{\\sum\\vert X - \\overline{X}\\vert}{n}$ </center>\n",
    "\n",
    "**DM** = Desviación media\n",
    "\n",
    "**X** = Datos o variables\n",
    "\n",
    "**$\\overline{X}$** = Media aritmética\n",
    "\n",
    "**n** = Número de datos"
   ],
   "id": "3cfecf17acf58111"
  },
  {
   "metadata": {},
   "cell_type": "markdown",
   "source": [
    "**Ejemplo**\n",
    "\n",
    "A continuación, se presentan las faltas que tuvo Hugo de enero a septiembre en su trabajo con estos datos, encuentra la desviación media de los siguientes valores:\n",
    "\n",
    "7, 4, 3, 4, 5, 1, 4, 6, 2  ordena los datos  1, 2, 3, 4, 4, 4, 5, 6, 7\n",
    "\n",
    "Media = $\\frac{36}{9} = 4$\n",
    "\n",
    "DM = $\\frac{(1-4)+(2-4)+(3-4)+(4-4)+(5-4)+(6-4)+(7-4)+(8-4)+(9-4)}{9}$\n",
    "\n",
    "DM = $\\frac{3 + 2 + 1 + 0 + 0 + 1 + 2 + 3}{9} = \\frac{12}{9} = 1.33$"
   ],
   "id": "5ed3af59496f80ce"
  },
  {
   "metadata": {},
   "cell_type": "markdown",
   "source": [
    "**Actividad en el aula:**\n",
    "\n",
    "a) Calcula la desviación media de los ingresos del gerente de la empresa \"la única\" durante un año, 54, 56, 57, 59, 60, 61, 62, 63, 66, 67, 69, 78 (registrado en miles de pesos)"
   ],
   "id": "c6f262a32456f5a4"
  },
  {
   "metadata": {
    "ExecuteTime": {
     "end_time": "2025-02-09T21:57:50.074289Z",
     "start_time": "2025-02-09T21:57:50.071468Z"
    }
   },
   "cell_type": "code",
   "source": [
    "datos = [54, 56, 57, 59, 60, 61, 62, 63, 66, 67, 69, 78]\n",
    "\n",
    "ingresos_la_unica_DF = pd.DataFrame({'Dato (X)' : datos})\n",
    "ingresos_la_unica_DF['Media'] = (ingresos_la_unica_DF['Dato (X)'].mean()).round(2)\n",
    "ingresos_la_unica_DF['DM'] = (ingresos_la_unica_DF['Dato (X)'] - ingresos_la_unica_DF['Media']).round(2)"
   ],
   "id": "86508f39ba3d327a",
   "outputs": [],
   "execution_count": 535
  },
  {
   "metadata": {
    "ExecuteTime": {
     "end_time": "2025-02-09T21:57:50.111207Z",
     "start_time": "2025-02-09T21:57:50.106011Z"
    }
   },
   "cell_type": "code",
   "source": [
    "ingresos_la_unica_DF['DM'] = ingresos_la_unica_DF['DM'].abs()\n",
    "ingresos_la_unica_DF"
   ],
   "id": "d4b92ea6eb73cae1",
   "outputs": [
    {
     "data": {
      "text/plain": [
       "    Dato (X)  Media     DM\n",
       "0         54  62.67   8.67\n",
       "1         56  62.67   6.67\n",
       "2         57  62.67   5.67\n",
       "3         59  62.67   3.67\n",
       "4         60  62.67   2.67\n",
       "5         61  62.67   1.67\n",
       "6         62  62.67   0.67\n",
       "7         63  62.67   0.33\n",
       "8         66  62.67   3.33\n",
       "9         67  62.67   4.33\n",
       "10        69  62.67   6.33\n",
       "11        78  62.67  15.33"
      ],
      "text/html": [
       "<div>\n",
       "<style scoped>\n",
       "    .dataframe tbody tr th:only-of-type {\n",
       "        vertical-align: middle;\n",
       "    }\n",
       "\n",
       "    .dataframe tbody tr th {\n",
       "        vertical-align: top;\n",
       "    }\n",
       "\n",
       "    .dataframe thead th {\n",
       "        text-align: right;\n",
       "    }\n",
       "</style>\n",
       "<table border=\"1\" class=\"dataframe\">\n",
       "  <thead>\n",
       "    <tr style=\"text-align: right;\">\n",
       "      <th></th>\n",
       "      <th>Dato (X)</th>\n",
       "      <th>Media</th>\n",
       "      <th>DM</th>\n",
       "    </tr>\n",
       "  </thead>\n",
       "  <tbody>\n",
       "    <tr>\n",
       "      <th>0</th>\n",
       "      <td>54</td>\n",
       "      <td>62.67</td>\n",
       "      <td>8.67</td>\n",
       "    </tr>\n",
       "    <tr>\n",
       "      <th>1</th>\n",
       "      <td>56</td>\n",
       "      <td>62.67</td>\n",
       "      <td>6.67</td>\n",
       "    </tr>\n",
       "    <tr>\n",
       "      <th>2</th>\n",
       "      <td>57</td>\n",
       "      <td>62.67</td>\n",
       "      <td>5.67</td>\n",
       "    </tr>\n",
       "    <tr>\n",
       "      <th>3</th>\n",
       "      <td>59</td>\n",
       "      <td>62.67</td>\n",
       "      <td>3.67</td>\n",
       "    </tr>\n",
       "    <tr>\n",
       "      <th>4</th>\n",
       "      <td>60</td>\n",
       "      <td>62.67</td>\n",
       "      <td>2.67</td>\n",
       "    </tr>\n",
       "    <tr>\n",
       "      <th>5</th>\n",
       "      <td>61</td>\n",
       "      <td>62.67</td>\n",
       "      <td>1.67</td>\n",
       "    </tr>\n",
       "    <tr>\n",
       "      <th>6</th>\n",
       "      <td>62</td>\n",
       "      <td>62.67</td>\n",
       "      <td>0.67</td>\n",
       "    </tr>\n",
       "    <tr>\n",
       "      <th>7</th>\n",
       "      <td>63</td>\n",
       "      <td>62.67</td>\n",
       "      <td>0.33</td>\n",
       "    </tr>\n",
       "    <tr>\n",
       "      <th>8</th>\n",
       "      <td>66</td>\n",
       "      <td>62.67</td>\n",
       "      <td>3.33</td>\n",
       "    </tr>\n",
       "    <tr>\n",
       "      <th>9</th>\n",
       "      <td>67</td>\n",
       "      <td>62.67</td>\n",
       "      <td>4.33</td>\n",
       "    </tr>\n",
       "    <tr>\n",
       "      <th>10</th>\n",
       "      <td>69</td>\n",
       "      <td>62.67</td>\n",
       "      <td>6.33</td>\n",
       "    </tr>\n",
       "    <tr>\n",
       "      <th>11</th>\n",
       "      <td>78</td>\n",
       "      <td>62.67</td>\n",
       "      <td>15.33</td>\n",
       "    </tr>\n",
       "  </tbody>\n",
       "</table>\n",
       "</div>"
      ]
     },
     "execution_count": 536,
     "metadata": {},
     "output_type": "execute_result"
    }
   ],
   "execution_count": 536
  },
  {
   "metadata": {
    "ExecuteTime": {
     "end_time": "2025-02-09T21:57:50.143958Z",
     "start_time": "2025-02-09T21:57:50.141470Z"
    }
   },
   "cell_type": "code",
   "source": "print(f\"La desviación media es: {(ingresos_la_unica_DF['DM'].sum() / len(ingresos_la_unica_DF)).round(2)}\")",
   "id": "ba8b7a87f937c7c",
   "outputs": [
    {
     "name": "stdout",
     "output_type": "stream",
     "text": [
      "La desviación media es: 4.94\n"
     ]
    }
   ],
   "execution_count": 537
  },
  {
   "metadata": {},
   "cell_type": "markdown",
   "source": [
    "b) El hospital civil nos proporcionó la estadística de personas con presión sistólica que acudieron a tomarse la muestra durante el día, con estos datos calcula la desviación media:\n",
    "\n",
    "152, 128, 132, 124, 116, 126, 134, 136, 142, 114, 110, 124, 118, 134, 138, 112, 140, 128, 134, 128"
   ],
   "id": "bdd3e593d88348d1"
  },
  {
   "metadata": {
    "ExecuteTime": {
     "end_time": "2025-02-09T21:57:50.173279Z",
     "start_time": "2025-02-09T21:57:50.167629Z"
    }
   },
   "cell_type": "code",
   "source": [
    "datos = [152, 128, 132, 124, 116, 126, 134, 136, 142, 114, 110, 124, 118, 134, 138, 112, 140, 128, 134, 128]\n",
    "\n",
    "# Preparar DataFrame\n",
    "presion_sistolica = pd.DataFrame({'Dato (X)' : datos})\n",
    "presion_sistolica['Media'] = (presion_sistolica['Dato (X)'].mean()).round(2)\n",
    "presion_sistolica['MD'] = (presion_sistolica['Dato (X)'] - presion_sistolica['Media']).round(2)\n",
    "presion_sistolica['MD'] = presion_sistolica['MD'].abs()\n",
    "presion_sistolica"
   ],
   "id": "8fa7399fa3fa266c",
   "outputs": [
    {
     "data": {
      "text/plain": [
       "    Dato (X)  Media    MD\n",
       "0        152  128.5  23.5\n",
       "1        128  128.5   0.5\n",
       "2        132  128.5   3.5\n",
       "3        124  128.5   4.5\n",
       "4        116  128.5  12.5\n",
       "5        126  128.5   2.5\n",
       "6        134  128.5   5.5\n",
       "7        136  128.5   7.5\n",
       "8        142  128.5  13.5\n",
       "9        114  128.5  14.5\n",
       "10       110  128.5  18.5\n",
       "11       124  128.5   4.5\n",
       "12       118  128.5  10.5\n",
       "13       134  128.5   5.5\n",
       "14       138  128.5   9.5\n",
       "15       112  128.5  16.5\n",
       "16       140  128.5  11.5\n",
       "17       128  128.5   0.5\n",
       "18       134  128.5   5.5\n",
       "19       128  128.5   0.5"
      ],
      "text/html": [
       "<div>\n",
       "<style scoped>\n",
       "    .dataframe tbody tr th:only-of-type {\n",
       "        vertical-align: middle;\n",
       "    }\n",
       "\n",
       "    .dataframe tbody tr th {\n",
       "        vertical-align: top;\n",
       "    }\n",
       "\n",
       "    .dataframe thead th {\n",
       "        text-align: right;\n",
       "    }\n",
       "</style>\n",
       "<table border=\"1\" class=\"dataframe\">\n",
       "  <thead>\n",
       "    <tr style=\"text-align: right;\">\n",
       "      <th></th>\n",
       "      <th>Dato (X)</th>\n",
       "      <th>Media</th>\n",
       "      <th>MD</th>\n",
       "    </tr>\n",
       "  </thead>\n",
       "  <tbody>\n",
       "    <tr>\n",
       "      <th>0</th>\n",
       "      <td>152</td>\n",
       "      <td>128.5</td>\n",
       "      <td>23.5</td>\n",
       "    </tr>\n",
       "    <tr>\n",
       "      <th>1</th>\n",
       "      <td>128</td>\n",
       "      <td>128.5</td>\n",
       "      <td>0.5</td>\n",
       "    </tr>\n",
       "    <tr>\n",
       "      <th>2</th>\n",
       "      <td>132</td>\n",
       "      <td>128.5</td>\n",
       "      <td>3.5</td>\n",
       "    </tr>\n",
       "    <tr>\n",
       "      <th>3</th>\n",
       "      <td>124</td>\n",
       "      <td>128.5</td>\n",
       "      <td>4.5</td>\n",
       "    </tr>\n",
       "    <tr>\n",
       "      <th>4</th>\n",
       "      <td>116</td>\n",
       "      <td>128.5</td>\n",
       "      <td>12.5</td>\n",
       "    </tr>\n",
       "    <tr>\n",
       "      <th>5</th>\n",
       "      <td>126</td>\n",
       "      <td>128.5</td>\n",
       "      <td>2.5</td>\n",
       "    </tr>\n",
       "    <tr>\n",
       "      <th>6</th>\n",
       "      <td>134</td>\n",
       "      <td>128.5</td>\n",
       "      <td>5.5</td>\n",
       "    </tr>\n",
       "    <tr>\n",
       "      <th>7</th>\n",
       "      <td>136</td>\n",
       "      <td>128.5</td>\n",
       "      <td>7.5</td>\n",
       "    </tr>\n",
       "    <tr>\n",
       "      <th>8</th>\n",
       "      <td>142</td>\n",
       "      <td>128.5</td>\n",
       "      <td>13.5</td>\n",
       "    </tr>\n",
       "    <tr>\n",
       "      <th>9</th>\n",
       "      <td>114</td>\n",
       "      <td>128.5</td>\n",
       "      <td>14.5</td>\n",
       "    </tr>\n",
       "    <tr>\n",
       "      <th>10</th>\n",
       "      <td>110</td>\n",
       "      <td>128.5</td>\n",
       "      <td>18.5</td>\n",
       "    </tr>\n",
       "    <tr>\n",
       "      <th>11</th>\n",
       "      <td>124</td>\n",
       "      <td>128.5</td>\n",
       "      <td>4.5</td>\n",
       "    </tr>\n",
       "    <tr>\n",
       "      <th>12</th>\n",
       "      <td>118</td>\n",
       "      <td>128.5</td>\n",
       "      <td>10.5</td>\n",
       "    </tr>\n",
       "    <tr>\n",
       "      <th>13</th>\n",
       "      <td>134</td>\n",
       "      <td>128.5</td>\n",
       "      <td>5.5</td>\n",
       "    </tr>\n",
       "    <tr>\n",
       "      <th>14</th>\n",
       "      <td>138</td>\n",
       "      <td>128.5</td>\n",
       "      <td>9.5</td>\n",
       "    </tr>\n",
       "    <tr>\n",
       "      <th>15</th>\n",
       "      <td>112</td>\n",
       "      <td>128.5</td>\n",
       "      <td>16.5</td>\n",
       "    </tr>\n",
       "    <tr>\n",
       "      <th>16</th>\n",
       "      <td>140</td>\n",
       "      <td>128.5</td>\n",
       "      <td>11.5</td>\n",
       "    </tr>\n",
       "    <tr>\n",
       "      <th>17</th>\n",
       "      <td>128</td>\n",
       "      <td>128.5</td>\n",
       "      <td>0.5</td>\n",
       "    </tr>\n",
       "    <tr>\n",
       "      <th>18</th>\n",
       "      <td>134</td>\n",
       "      <td>128.5</td>\n",
       "      <td>5.5</td>\n",
       "    </tr>\n",
       "    <tr>\n",
       "      <th>19</th>\n",
       "      <td>128</td>\n",
       "      <td>128.5</td>\n",
       "      <td>0.5</td>\n",
       "    </tr>\n",
       "  </tbody>\n",
       "</table>\n",
       "</div>"
      ]
     },
     "execution_count": 538,
     "metadata": {},
     "output_type": "execute_result"
    }
   ],
   "execution_count": 538
  },
  {
   "metadata": {
    "ExecuteTime": {
     "end_time": "2025-02-09T21:57:50.220520Z",
     "start_time": "2025-02-09T21:57:50.218429Z"
    }
   },
   "cell_type": "code",
   "source": "print(f\"Su desviación media es: {presion_sistolica['MD'].mean()}\")",
   "id": "76ef6f7be86a87b6",
   "outputs": [
    {
     "name": "stdout",
     "output_type": "stream",
     "text": [
      "Su desviación media es: 8.55\n"
     ]
    }
   ],
   "execution_count": 539
  },
  {
   "metadata": {},
   "cell_type": "markdown",
   "source": [
    "## **Varianza**\n",
    "\n",
    "La varianza es la media aritmética de los cuadrados de las desviaciones respecto a la media aritmética. Sí elevamos al cuadrado las desviaciones, logramos que todas las desviaciones den resultado positivo, sumando los cuadrados de las desviaciones y diviendidolas entre \"n\" tenemos la varianza:\n",
    "\n",
    "<center> $S^2 = \\frac{\\sum (X - \\overline{X})^2}{n}$ </center>\n",
    "\n",
    "**S** = Varianza\n",
    "\n",
    "**X** = Datos o variables\n",
    "\n",
    "**$\\overline{X}$** = Media aritmética\n",
    "\n",
    "**n** = Número de datos"
   ],
   "id": "d21402e1fdaad83d"
  },
  {
   "metadata": {},
   "cell_type": "markdown",
   "source": [
    "**Ejemplo**\n",
    "\n",
    "Martín Guerra durante los meses de enero a septiembre se le contabilizaron en su trabajo las siguientes asistencias, con estos datos, encuentra la desviación media de los valores presentados. Encuentra la varianza de los siguientes valores.\n",
    "\n",
    "15, 21, 22, 14, 15, 22, 18, 16, 17"
   ],
   "id": "c372cf2751a1ed08"
  },
  {
   "metadata": {
    "ExecuteTime": {
     "end_time": "2025-02-09T21:57:50.265060Z",
     "start_time": "2025-02-09T21:57:50.259127Z"
    }
   },
   "cell_type": "code",
   "source": [
    "datos = [15, 21, 22, 14, 15, 22, 18, 16, 17]\n",
    "\n",
    "# Preparar DataFrame\n",
    "asistencias_DF = pd.DataFrame({'Dato (X)' : datos})\n",
    "asistencias_DF['Media'] = (asistencias_DF['Dato (X)'].mean()).round(2)\n",
    "asistencias_DF['DM'] = (asistencias_DF['Dato (X)'] - asistencias_DF['Media']).round(2)\n",
    "asistencias_DF['DM'] = asistencias_DF['DM'].abs()\n",
    "\n",
    "# Calcular la varianza\n",
    "asistencias_DF['S^2'] = (asistencias_DF['DM'] ** 2).round(2)\n",
    "\n",
    "# Total de la varianza\n",
    "print(f'La varianza es de {asistencias_DF[\"S^2\"].mean().round(2)}')\n",
    "print(f'La varianza con numpy es: {np.var(datos).round(2)}')\n",
    "asistencias_DF"
   ],
   "id": "446c932c51716b79",
   "outputs": [
    {
     "name": "stdout",
     "output_type": "stream",
     "text": [
      "La varianza es de 8.84\n",
      "La varianza con numpy es: 8.84\n"
     ]
    },
    {
     "data": {
      "text/plain": [
       "   Dato (X)  Media    DM    S^2\n",
       "0        15  17.78  2.78   7.73\n",
       "1        21  17.78  3.22  10.37\n",
       "2        22  17.78  4.22  17.81\n",
       "3        14  17.78  3.78  14.29\n",
       "4        15  17.78  2.78   7.73\n",
       "5        22  17.78  4.22  17.81\n",
       "6        18  17.78  0.22   0.05\n",
       "7        16  17.78  1.78   3.17\n",
       "8        17  17.78  0.78   0.61"
      ],
      "text/html": [
       "<div>\n",
       "<style scoped>\n",
       "    .dataframe tbody tr th:only-of-type {\n",
       "        vertical-align: middle;\n",
       "    }\n",
       "\n",
       "    .dataframe tbody tr th {\n",
       "        vertical-align: top;\n",
       "    }\n",
       "\n",
       "    .dataframe thead th {\n",
       "        text-align: right;\n",
       "    }\n",
       "</style>\n",
       "<table border=\"1\" class=\"dataframe\">\n",
       "  <thead>\n",
       "    <tr style=\"text-align: right;\">\n",
       "      <th></th>\n",
       "      <th>Dato (X)</th>\n",
       "      <th>Media</th>\n",
       "      <th>DM</th>\n",
       "      <th>S^2</th>\n",
       "    </tr>\n",
       "  </thead>\n",
       "  <tbody>\n",
       "    <tr>\n",
       "      <th>0</th>\n",
       "      <td>15</td>\n",
       "      <td>17.78</td>\n",
       "      <td>2.78</td>\n",
       "      <td>7.73</td>\n",
       "    </tr>\n",
       "    <tr>\n",
       "      <th>1</th>\n",
       "      <td>21</td>\n",
       "      <td>17.78</td>\n",
       "      <td>3.22</td>\n",
       "      <td>10.37</td>\n",
       "    </tr>\n",
       "    <tr>\n",
       "      <th>2</th>\n",
       "      <td>22</td>\n",
       "      <td>17.78</td>\n",
       "      <td>4.22</td>\n",
       "      <td>17.81</td>\n",
       "    </tr>\n",
       "    <tr>\n",
       "      <th>3</th>\n",
       "      <td>14</td>\n",
       "      <td>17.78</td>\n",
       "      <td>3.78</td>\n",
       "      <td>14.29</td>\n",
       "    </tr>\n",
       "    <tr>\n",
       "      <th>4</th>\n",
       "      <td>15</td>\n",
       "      <td>17.78</td>\n",
       "      <td>2.78</td>\n",
       "      <td>7.73</td>\n",
       "    </tr>\n",
       "    <tr>\n",
       "      <th>5</th>\n",
       "      <td>22</td>\n",
       "      <td>17.78</td>\n",
       "      <td>4.22</td>\n",
       "      <td>17.81</td>\n",
       "    </tr>\n",
       "    <tr>\n",
       "      <th>6</th>\n",
       "      <td>18</td>\n",
       "      <td>17.78</td>\n",
       "      <td>0.22</td>\n",
       "      <td>0.05</td>\n",
       "    </tr>\n",
       "    <tr>\n",
       "      <th>7</th>\n",
       "      <td>16</td>\n",
       "      <td>17.78</td>\n",
       "      <td>1.78</td>\n",
       "      <td>3.17</td>\n",
       "    </tr>\n",
       "    <tr>\n",
       "      <th>8</th>\n",
       "      <td>17</td>\n",
       "      <td>17.78</td>\n",
       "      <td>0.78</td>\n",
       "      <td>0.61</td>\n",
       "    </tr>\n",
       "  </tbody>\n",
       "</table>\n",
       "</div>"
      ]
     },
     "execution_count": 540,
     "metadata": {},
     "output_type": "execute_result"
    }
   ],
   "execution_count": 540
  },
  {
   "metadata": {},
   "cell_type": "markdown",
   "source": [
    "**Actividad en el aula**\n",
    "\n",
    "a) La constructora RAGOCE proporcionó los tiempos (en minutos) que tardaron 15 electricistas en instalar las lámparas fluorescentes de la escuela primaria \"Benito Juárez\", estos fueron seleccionados al azar. El director desea conocer la varianza de los resultados obtenidos.\n",
    "\n",
    "31, 72, 29, 40, 26, 47, 39, 28, 44, 68, 29, 36, 70, 49, 37"
   ],
   "id": "4daf9384b8c1e33b"
  },
  {
   "metadata": {
    "ExecuteTime": {
     "end_time": "2025-02-09T21:57:50.333197Z",
     "start_time": "2025-02-09T21:57:50.324179Z"
    }
   },
   "cell_type": "code",
   "source": [
    "datos = [31, 72, 29, 40, 26, 47, 39, 28, 44, 68, 29, 36, 70, 49, 37]\n",
    "\n",
    "tiempos_DF = pd.DataFrame({'Dato (X)' : datos})\n",
    "tiempos_DF['Media'] = (tiempos_DF['Dato (X)'].mean()).round(2)\n",
    "tiempos_DF['DM'] = (tiempos_DF['Dato (X)'] - tiempos_DF['Media']).round(2)\n",
    "tiempos_DF['DM'] = tiempos_DF['DM'].abs()\n",
    "tiempos_DF['S^2'] = (tiempos_DF['DM'] ** 2).round(2)\n",
    "\n",
    "print(f'La varianza es {tiempos_DF[\"S^2\"].mean().round(2)}')\n",
    "print(f'La varianza es {np.var(datos).round(2)}')\n",
    "tiempos_DF"
   ],
   "id": "1071247908cc8eb5",
   "outputs": [
    {
     "name": "stdout",
     "output_type": "stream",
     "text": [
      "La varianza es 227.2\n",
      "La varianza es 227.2\n"
     ]
    },
    {
     "data": {
      "text/plain": [
       "    Dato (X)  Media    DM    S^2\n",
       "0         31   43.0  12.0  144.0\n",
       "1         72   43.0  29.0  841.0\n",
       "2         29   43.0  14.0  196.0\n",
       "3         40   43.0   3.0    9.0\n",
       "4         26   43.0  17.0  289.0\n",
       "5         47   43.0   4.0   16.0\n",
       "6         39   43.0   4.0   16.0\n",
       "7         28   43.0  15.0  225.0\n",
       "8         44   43.0   1.0    1.0\n",
       "9         68   43.0  25.0  625.0\n",
       "10        29   43.0  14.0  196.0\n",
       "11        36   43.0   7.0   49.0\n",
       "12        70   43.0  27.0  729.0\n",
       "13        49   43.0   6.0   36.0\n",
       "14        37   43.0   6.0   36.0"
      ],
      "text/html": [
       "<div>\n",
       "<style scoped>\n",
       "    .dataframe tbody tr th:only-of-type {\n",
       "        vertical-align: middle;\n",
       "    }\n",
       "\n",
       "    .dataframe tbody tr th {\n",
       "        vertical-align: top;\n",
       "    }\n",
       "\n",
       "    .dataframe thead th {\n",
       "        text-align: right;\n",
       "    }\n",
       "</style>\n",
       "<table border=\"1\" class=\"dataframe\">\n",
       "  <thead>\n",
       "    <tr style=\"text-align: right;\">\n",
       "      <th></th>\n",
       "      <th>Dato (X)</th>\n",
       "      <th>Media</th>\n",
       "      <th>DM</th>\n",
       "      <th>S^2</th>\n",
       "    </tr>\n",
       "  </thead>\n",
       "  <tbody>\n",
       "    <tr>\n",
       "      <th>0</th>\n",
       "      <td>31</td>\n",
       "      <td>43.0</td>\n",
       "      <td>12.0</td>\n",
       "      <td>144.0</td>\n",
       "    </tr>\n",
       "    <tr>\n",
       "      <th>1</th>\n",
       "      <td>72</td>\n",
       "      <td>43.0</td>\n",
       "      <td>29.0</td>\n",
       "      <td>841.0</td>\n",
       "    </tr>\n",
       "    <tr>\n",
       "      <th>2</th>\n",
       "      <td>29</td>\n",
       "      <td>43.0</td>\n",
       "      <td>14.0</td>\n",
       "      <td>196.0</td>\n",
       "    </tr>\n",
       "    <tr>\n",
       "      <th>3</th>\n",
       "      <td>40</td>\n",
       "      <td>43.0</td>\n",
       "      <td>3.0</td>\n",
       "      <td>9.0</td>\n",
       "    </tr>\n",
       "    <tr>\n",
       "      <th>4</th>\n",
       "      <td>26</td>\n",
       "      <td>43.0</td>\n",
       "      <td>17.0</td>\n",
       "      <td>289.0</td>\n",
       "    </tr>\n",
       "    <tr>\n",
       "      <th>5</th>\n",
       "      <td>47</td>\n",
       "      <td>43.0</td>\n",
       "      <td>4.0</td>\n",
       "      <td>16.0</td>\n",
       "    </tr>\n",
       "    <tr>\n",
       "      <th>6</th>\n",
       "      <td>39</td>\n",
       "      <td>43.0</td>\n",
       "      <td>4.0</td>\n",
       "      <td>16.0</td>\n",
       "    </tr>\n",
       "    <tr>\n",
       "      <th>7</th>\n",
       "      <td>28</td>\n",
       "      <td>43.0</td>\n",
       "      <td>15.0</td>\n",
       "      <td>225.0</td>\n",
       "    </tr>\n",
       "    <tr>\n",
       "      <th>8</th>\n",
       "      <td>44</td>\n",
       "      <td>43.0</td>\n",
       "      <td>1.0</td>\n",
       "      <td>1.0</td>\n",
       "    </tr>\n",
       "    <tr>\n",
       "      <th>9</th>\n",
       "      <td>68</td>\n",
       "      <td>43.0</td>\n",
       "      <td>25.0</td>\n",
       "      <td>625.0</td>\n",
       "    </tr>\n",
       "    <tr>\n",
       "      <th>10</th>\n",
       "      <td>29</td>\n",
       "      <td>43.0</td>\n",
       "      <td>14.0</td>\n",
       "      <td>196.0</td>\n",
       "    </tr>\n",
       "    <tr>\n",
       "      <th>11</th>\n",
       "      <td>36</td>\n",
       "      <td>43.0</td>\n",
       "      <td>7.0</td>\n",
       "      <td>49.0</td>\n",
       "    </tr>\n",
       "    <tr>\n",
       "      <th>12</th>\n",
       "      <td>70</td>\n",
       "      <td>43.0</td>\n",
       "      <td>27.0</td>\n",
       "      <td>729.0</td>\n",
       "    </tr>\n",
       "    <tr>\n",
       "      <th>13</th>\n",
       "      <td>49</td>\n",
       "      <td>43.0</td>\n",
       "      <td>6.0</td>\n",
       "      <td>36.0</td>\n",
       "    </tr>\n",
       "    <tr>\n",
       "      <th>14</th>\n",
       "      <td>37</td>\n",
       "      <td>43.0</td>\n",
       "      <td>6.0</td>\n",
       "      <td>36.0</td>\n",
       "    </tr>\n",
       "  </tbody>\n",
       "</table>\n",
       "</div>"
      ]
     },
     "execution_count": 541,
     "metadata": {},
     "output_type": "execute_result"
    }
   ],
   "execution_count": 541
  },
  {
   "metadata": {
    "ExecuteTime": {
     "end_time": "2025-02-09T21:57:50.398064Z",
     "start_time": "2025-02-09T21:57:50.395238Z"
    }
   },
   "cell_type": "code",
   "source": "tiempos_DF['S^2'].mean()",
   "id": "488624252cd2f2f7",
   "outputs": [
    {
     "data": {
      "text/plain": [
       "np.float64(227.2)"
      ]
     },
     "execution_count": 542,
     "metadata": {},
     "output_type": "execute_result"
    }
   ],
   "execution_count": 542
  },
  {
   "metadata": {},
   "cell_type": "markdown",
   "source": [
    "b) El Hospital Regional de Villamar solicito al director del CBTIS No.12 registrará durante 22 días la cantidad de refresco que consume en familia diariamente en litros, a partir de los resultados arrojados calcula la varianza\n",
    "\n",
    "0.5, 2, 1.5, 1, 0.25, 1.5, 1.25, 1.75, 1.25, 0.75, 1.5, 1.25, 0.25, 1.5, 1, 1.25, 2, 0.5, 0.75, 1.5, 1.25, 0.75"
   ],
   "id": "ca5e896144bb5781"
  },
  {
   "metadata": {
    "ExecuteTime": {
     "end_time": "2025-02-09T21:57:50.468735Z",
     "start_time": "2025-02-09T21:57:50.461376Z"
    }
   },
   "cell_type": "code",
   "source": [
    "datos = [0.5, 2, 1.5, 1, 0.25, 1.5, 1.25, 1.75, 1.25, 0.75, 1.5, 1.25, 0.25, 1.5, 1, 1.25, 2, 0.5, 0.75, 1.5, 1.25, 0.75]\n",
    "\n",
    "litros_DF = pd.DataFrame({'Dato (X)' : datos})\n",
    "litros_DF['Media'] = (litros_DF['Dato (X)'].mean()).round(2)\n",
    "litros_DF['DM'] = (litros_DF['Dato (X)'] - litros_DF['Media']).round(2)\n",
    "litros_DF['DM'] = litros_DF['DM'].abs()\n",
    "litros_DF['S^2'] = (litros_DF['DM'] ** 2).round(2)\n",
    "\n",
    "print(f\"La varianza es: {litros_DF['S^2'].mean().round(2)}\")\n",
    "print(f\"La varianza es: {np.var(datos).round(2)}\")\n",
    "litros_DF"
   ],
   "id": "69da7616ee92ee1a",
   "outputs": [
    {
     "name": "stdout",
     "output_type": "stream",
     "text": [
      "La varianza es: 0.25\n",
      "La varianza es: 0.25\n"
     ]
    },
    {
     "data": {
      "text/plain": [
       "    Dato (X)  Media    DM   S^2\n",
       "0       0.50   1.15  0.65  0.42\n",
       "1       2.00   1.15  0.85  0.72\n",
       "2       1.50   1.15  0.35  0.12\n",
       "3       1.00   1.15  0.15  0.02\n",
       "4       0.25   1.15  0.90  0.81\n",
       "5       1.50   1.15  0.35  0.12\n",
       "6       1.25   1.15  0.10  0.01\n",
       "7       1.75   1.15  0.60  0.36\n",
       "8       1.25   1.15  0.10  0.01\n",
       "9       0.75   1.15  0.40  0.16\n",
       "10      1.50   1.15  0.35  0.12\n",
       "11      1.25   1.15  0.10  0.01\n",
       "12      0.25   1.15  0.90  0.81\n",
       "13      1.50   1.15  0.35  0.12\n",
       "14      1.00   1.15  0.15  0.02\n",
       "15      1.25   1.15  0.10  0.01\n",
       "16      2.00   1.15  0.85  0.72\n",
       "17      0.50   1.15  0.65  0.42\n",
       "18      0.75   1.15  0.40  0.16\n",
       "19      1.50   1.15  0.35  0.12\n",
       "20      1.25   1.15  0.10  0.01\n",
       "21      0.75   1.15  0.40  0.16"
      ],
      "text/html": [
       "<div>\n",
       "<style scoped>\n",
       "    .dataframe tbody tr th:only-of-type {\n",
       "        vertical-align: middle;\n",
       "    }\n",
       "\n",
       "    .dataframe tbody tr th {\n",
       "        vertical-align: top;\n",
       "    }\n",
       "\n",
       "    .dataframe thead th {\n",
       "        text-align: right;\n",
       "    }\n",
       "</style>\n",
       "<table border=\"1\" class=\"dataframe\">\n",
       "  <thead>\n",
       "    <tr style=\"text-align: right;\">\n",
       "      <th></th>\n",
       "      <th>Dato (X)</th>\n",
       "      <th>Media</th>\n",
       "      <th>DM</th>\n",
       "      <th>S^2</th>\n",
       "    </tr>\n",
       "  </thead>\n",
       "  <tbody>\n",
       "    <tr>\n",
       "      <th>0</th>\n",
       "      <td>0.50</td>\n",
       "      <td>1.15</td>\n",
       "      <td>0.65</td>\n",
       "      <td>0.42</td>\n",
       "    </tr>\n",
       "    <tr>\n",
       "      <th>1</th>\n",
       "      <td>2.00</td>\n",
       "      <td>1.15</td>\n",
       "      <td>0.85</td>\n",
       "      <td>0.72</td>\n",
       "    </tr>\n",
       "    <tr>\n",
       "      <th>2</th>\n",
       "      <td>1.50</td>\n",
       "      <td>1.15</td>\n",
       "      <td>0.35</td>\n",
       "      <td>0.12</td>\n",
       "    </tr>\n",
       "    <tr>\n",
       "      <th>3</th>\n",
       "      <td>1.00</td>\n",
       "      <td>1.15</td>\n",
       "      <td>0.15</td>\n",
       "      <td>0.02</td>\n",
       "    </tr>\n",
       "    <tr>\n",
       "      <th>4</th>\n",
       "      <td>0.25</td>\n",
       "      <td>1.15</td>\n",
       "      <td>0.90</td>\n",
       "      <td>0.81</td>\n",
       "    </tr>\n",
       "    <tr>\n",
       "      <th>5</th>\n",
       "      <td>1.50</td>\n",
       "      <td>1.15</td>\n",
       "      <td>0.35</td>\n",
       "      <td>0.12</td>\n",
       "    </tr>\n",
       "    <tr>\n",
       "      <th>6</th>\n",
       "      <td>1.25</td>\n",
       "      <td>1.15</td>\n",
       "      <td>0.10</td>\n",
       "      <td>0.01</td>\n",
       "    </tr>\n",
       "    <tr>\n",
       "      <th>7</th>\n",
       "      <td>1.75</td>\n",
       "      <td>1.15</td>\n",
       "      <td>0.60</td>\n",
       "      <td>0.36</td>\n",
       "    </tr>\n",
       "    <tr>\n",
       "      <th>8</th>\n",
       "      <td>1.25</td>\n",
       "      <td>1.15</td>\n",
       "      <td>0.10</td>\n",
       "      <td>0.01</td>\n",
       "    </tr>\n",
       "    <tr>\n",
       "      <th>9</th>\n",
       "      <td>0.75</td>\n",
       "      <td>1.15</td>\n",
       "      <td>0.40</td>\n",
       "      <td>0.16</td>\n",
       "    </tr>\n",
       "    <tr>\n",
       "      <th>10</th>\n",
       "      <td>1.50</td>\n",
       "      <td>1.15</td>\n",
       "      <td>0.35</td>\n",
       "      <td>0.12</td>\n",
       "    </tr>\n",
       "    <tr>\n",
       "      <th>11</th>\n",
       "      <td>1.25</td>\n",
       "      <td>1.15</td>\n",
       "      <td>0.10</td>\n",
       "      <td>0.01</td>\n",
       "    </tr>\n",
       "    <tr>\n",
       "      <th>12</th>\n",
       "      <td>0.25</td>\n",
       "      <td>1.15</td>\n",
       "      <td>0.90</td>\n",
       "      <td>0.81</td>\n",
       "    </tr>\n",
       "    <tr>\n",
       "      <th>13</th>\n",
       "      <td>1.50</td>\n",
       "      <td>1.15</td>\n",
       "      <td>0.35</td>\n",
       "      <td>0.12</td>\n",
       "    </tr>\n",
       "    <tr>\n",
       "      <th>14</th>\n",
       "      <td>1.00</td>\n",
       "      <td>1.15</td>\n",
       "      <td>0.15</td>\n",
       "      <td>0.02</td>\n",
       "    </tr>\n",
       "    <tr>\n",
       "      <th>15</th>\n",
       "      <td>1.25</td>\n",
       "      <td>1.15</td>\n",
       "      <td>0.10</td>\n",
       "      <td>0.01</td>\n",
       "    </tr>\n",
       "    <tr>\n",
       "      <th>16</th>\n",
       "      <td>2.00</td>\n",
       "      <td>1.15</td>\n",
       "      <td>0.85</td>\n",
       "      <td>0.72</td>\n",
       "    </tr>\n",
       "    <tr>\n",
       "      <th>17</th>\n",
       "      <td>0.50</td>\n",
       "      <td>1.15</td>\n",
       "      <td>0.65</td>\n",
       "      <td>0.42</td>\n",
       "    </tr>\n",
       "    <tr>\n",
       "      <th>18</th>\n",
       "      <td>0.75</td>\n",
       "      <td>1.15</td>\n",
       "      <td>0.40</td>\n",
       "      <td>0.16</td>\n",
       "    </tr>\n",
       "    <tr>\n",
       "      <th>19</th>\n",
       "      <td>1.50</td>\n",
       "      <td>1.15</td>\n",
       "      <td>0.35</td>\n",
       "      <td>0.12</td>\n",
       "    </tr>\n",
       "    <tr>\n",
       "      <th>20</th>\n",
       "      <td>1.25</td>\n",
       "      <td>1.15</td>\n",
       "      <td>0.10</td>\n",
       "      <td>0.01</td>\n",
       "    </tr>\n",
       "    <tr>\n",
       "      <th>21</th>\n",
       "      <td>0.75</td>\n",
       "      <td>1.15</td>\n",
       "      <td>0.40</td>\n",
       "      <td>0.16</td>\n",
       "    </tr>\n",
       "  </tbody>\n",
       "</table>\n",
       "</div>"
      ]
     },
     "execution_count": 543,
     "metadata": {},
     "output_type": "execute_result"
    }
   ],
   "execution_count": 543
  },
  {
   "metadata": {},
   "cell_type": "markdown",
   "source": [
    "c) De la siguiente relación de calificaciones ordenadas del primer parcial del grupo 1° \"A\" de la especialidad de Laboratorio Clínico, determina la varianza\n",
    "\n",
    "3.9, 4.6, 4.8, 5.2, 5.5, 5.8, 5.9, 6.1, 6.3, 6.6, 6.7, 6.9, 7.4, 7.4, 7.5, 7.5, 7.5, 7.8, 7.9, 8.0, 8.1, 8.3, 8.5, 8.8, 8.9, 8.9, 9.2, 9.6, 10"
   ],
   "id": "777501eb866d3abf"
  },
  {
   "metadata": {
    "ExecuteTime": {
     "end_time": "2025-02-09T21:57:50.535496Z",
     "start_time": "2025-02-09T21:57:50.527400Z"
    }
   },
   "cell_type": "code",
   "source": [
    "datos = [3.9, 4.6, 4.8, 5.2, 5.5, 5.8, 5.9, 6.1, 6.3, 6.6, 6.7, 6.9, 7.4, 7.4, 7.5, 7.5, 7.5, 7.8, 7.9, 8.0, 8.1, 8.3, 8.5, 8.8, 8.9, 8.9, 9.2, 9.6, 10]\n",
    "\n",
    "calificaciones_DF = pd.DataFrame({'Dato (X)' : datos})\n",
    "calificaciones_DF['Media'] = (calificaciones_DF['Dato (X)'].mean()).round(2)\n",
    "calificaciones_DF['DM'] = (calificaciones_DF['Dato (X)'] - calificaciones_DF['Media']).round(2)\n",
    "calificaciones_DF['DM'] = calificaciones_DF['DM'].abs()\n",
    "calificaciones_DF['S^2'] = (calificaciones_DF['DM'] ** 2).round(2)\n",
    "\n",
    "print(f\"La varianza es: {calificaciones_DF['S^2'].mean().round(2)}\")\n",
    "print(f\"La varianza es: {np.var(datos).round(2)}\")\n",
    "litros_DF"
   ],
   "id": "aade75be151f5e33",
   "outputs": [
    {
     "name": "stdout",
     "output_type": "stream",
     "text": [
      "La varianza es: 2.35\n",
      "La varianza es: 2.35\n"
     ]
    },
    {
     "data": {
      "text/plain": [
       "    Dato (X)  Media    DM   S^2\n",
       "0       0.50   1.15  0.65  0.42\n",
       "1       2.00   1.15  0.85  0.72\n",
       "2       1.50   1.15  0.35  0.12\n",
       "3       1.00   1.15  0.15  0.02\n",
       "4       0.25   1.15  0.90  0.81\n",
       "5       1.50   1.15  0.35  0.12\n",
       "6       1.25   1.15  0.10  0.01\n",
       "7       1.75   1.15  0.60  0.36\n",
       "8       1.25   1.15  0.10  0.01\n",
       "9       0.75   1.15  0.40  0.16\n",
       "10      1.50   1.15  0.35  0.12\n",
       "11      1.25   1.15  0.10  0.01\n",
       "12      0.25   1.15  0.90  0.81\n",
       "13      1.50   1.15  0.35  0.12\n",
       "14      1.00   1.15  0.15  0.02\n",
       "15      1.25   1.15  0.10  0.01\n",
       "16      2.00   1.15  0.85  0.72\n",
       "17      0.50   1.15  0.65  0.42\n",
       "18      0.75   1.15  0.40  0.16\n",
       "19      1.50   1.15  0.35  0.12\n",
       "20      1.25   1.15  0.10  0.01\n",
       "21      0.75   1.15  0.40  0.16"
      ],
      "text/html": [
       "<div>\n",
       "<style scoped>\n",
       "    .dataframe tbody tr th:only-of-type {\n",
       "        vertical-align: middle;\n",
       "    }\n",
       "\n",
       "    .dataframe tbody tr th {\n",
       "        vertical-align: top;\n",
       "    }\n",
       "\n",
       "    .dataframe thead th {\n",
       "        text-align: right;\n",
       "    }\n",
       "</style>\n",
       "<table border=\"1\" class=\"dataframe\">\n",
       "  <thead>\n",
       "    <tr style=\"text-align: right;\">\n",
       "      <th></th>\n",
       "      <th>Dato (X)</th>\n",
       "      <th>Media</th>\n",
       "      <th>DM</th>\n",
       "      <th>S^2</th>\n",
       "    </tr>\n",
       "  </thead>\n",
       "  <tbody>\n",
       "    <tr>\n",
       "      <th>0</th>\n",
       "      <td>0.50</td>\n",
       "      <td>1.15</td>\n",
       "      <td>0.65</td>\n",
       "      <td>0.42</td>\n",
       "    </tr>\n",
       "    <tr>\n",
       "      <th>1</th>\n",
       "      <td>2.00</td>\n",
       "      <td>1.15</td>\n",
       "      <td>0.85</td>\n",
       "      <td>0.72</td>\n",
       "    </tr>\n",
       "    <tr>\n",
       "      <th>2</th>\n",
       "      <td>1.50</td>\n",
       "      <td>1.15</td>\n",
       "      <td>0.35</td>\n",
       "      <td>0.12</td>\n",
       "    </tr>\n",
       "    <tr>\n",
       "      <th>3</th>\n",
       "      <td>1.00</td>\n",
       "      <td>1.15</td>\n",
       "      <td>0.15</td>\n",
       "      <td>0.02</td>\n",
       "    </tr>\n",
       "    <tr>\n",
       "      <th>4</th>\n",
       "      <td>0.25</td>\n",
       "      <td>1.15</td>\n",
       "      <td>0.90</td>\n",
       "      <td>0.81</td>\n",
       "    </tr>\n",
       "    <tr>\n",
       "      <th>5</th>\n",
       "      <td>1.50</td>\n",
       "      <td>1.15</td>\n",
       "      <td>0.35</td>\n",
       "      <td>0.12</td>\n",
       "    </tr>\n",
       "    <tr>\n",
       "      <th>6</th>\n",
       "      <td>1.25</td>\n",
       "      <td>1.15</td>\n",
       "      <td>0.10</td>\n",
       "      <td>0.01</td>\n",
       "    </tr>\n",
       "    <tr>\n",
       "      <th>7</th>\n",
       "      <td>1.75</td>\n",
       "      <td>1.15</td>\n",
       "      <td>0.60</td>\n",
       "      <td>0.36</td>\n",
       "    </tr>\n",
       "    <tr>\n",
       "      <th>8</th>\n",
       "      <td>1.25</td>\n",
       "      <td>1.15</td>\n",
       "      <td>0.10</td>\n",
       "      <td>0.01</td>\n",
       "    </tr>\n",
       "    <tr>\n",
       "      <th>9</th>\n",
       "      <td>0.75</td>\n",
       "      <td>1.15</td>\n",
       "      <td>0.40</td>\n",
       "      <td>0.16</td>\n",
       "    </tr>\n",
       "    <tr>\n",
       "      <th>10</th>\n",
       "      <td>1.50</td>\n",
       "      <td>1.15</td>\n",
       "      <td>0.35</td>\n",
       "      <td>0.12</td>\n",
       "    </tr>\n",
       "    <tr>\n",
       "      <th>11</th>\n",
       "      <td>1.25</td>\n",
       "      <td>1.15</td>\n",
       "      <td>0.10</td>\n",
       "      <td>0.01</td>\n",
       "    </tr>\n",
       "    <tr>\n",
       "      <th>12</th>\n",
       "      <td>0.25</td>\n",
       "      <td>1.15</td>\n",
       "      <td>0.90</td>\n",
       "      <td>0.81</td>\n",
       "    </tr>\n",
       "    <tr>\n",
       "      <th>13</th>\n",
       "      <td>1.50</td>\n",
       "      <td>1.15</td>\n",
       "      <td>0.35</td>\n",
       "      <td>0.12</td>\n",
       "    </tr>\n",
       "    <tr>\n",
       "      <th>14</th>\n",
       "      <td>1.00</td>\n",
       "      <td>1.15</td>\n",
       "      <td>0.15</td>\n",
       "      <td>0.02</td>\n",
       "    </tr>\n",
       "    <tr>\n",
       "      <th>15</th>\n",
       "      <td>1.25</td>\n",
       "      <td>1.15</td>\n",
       "      <td>0.10</td>\n",
       "      <td>0.01</td>\n",
       "    </tr>\n",
       "    <tr>\n",
       "      <th>16</th>\n",
       "      <td>2.00</td>\n",
       "      <td>1.15</td>\n",
       "      <td>0.85</td>\n",
       "      <td>0.72</td>\n",
       "    </tr>\n",
       "    <tr>\n",
       "      <th>17</th>\n",
       "      <td>0.50</td>\n",
       "      <td>1.15</td>\n",
       "      <td>0.65</td>\n",
       "      <td>0.42</td>\n",
       "    </tr>\n",
       "    <tr>\n",
       "      <th>18</th>\n",
       "      <td>0.75</td>\n",
       "      <td>1.15</td>\n",
       "      <td>0.40</td>\n",
       "      <td>0.16</td>\n",
       "    </tr>\n",
       "    <tr>\n",
       "      <th>19</th>\n",
       "      <td>1.50</td>\n",
       "      <td>1.15</td>\n",
       "      <td>0.35</td>\n",
       "      <td>0.12</td>\n",
       "    </tr>\n",
       "    <tr>\n",
       "      <th>20</th>\n",
       "      <td>1.25</td>\n",
       "      <td>1.15</td>\n",
       "      <td>0.10</td>\n",
       "      <td>0.01</td>\n",
       "    </tr>\n",
       "    <tr>\n",
       "      <th>21</th>\n",
       "      <td>0.75</td>\n",
       "      <td>1.15</td>\n",
       "      <td>0.40</td>\n",
       "      <td>0.16</td>\n",
       "    </tr>\n",
       "  </tbody>\n",
       "</table>\n",
       "</div>"
      ]
     },
     "execution_count": 544,
     "metadata": {},
     "output_type": "execute_result"
    }
   ],
   "execution_count": 544
  },
  {
   "metadata": {},
   "cell_type": "markdown",
   "source": [
    "## **Desviación típica o estándar**\n",
    "\n",
    "La desviación típica o desviación estándar (denotada con el símbolo $\\sigma$ o s, dependiendo de la procedencia del conjunto de datos) es una medida de dispersión para variables de razón (variables cuantitativas o cantidades racionales) y de intervalo. Para conocer con detalle un conjunto de datos, no basta con conocer las medidas de tendencia central, sino que necesitamos conocer también la desviación que presentan los datos en su distribución respecto de la medida aritmética de dicha distribución, con objeto de tener una visión de los mismos más acorde con la realidad al momento de describirlos e interpretarlos para la toma de decisiones.\n",
    "\n",
    "La desviación típica es una medida del grado de dispersión de los datos con respecto al valor promedio. Dicho de otra manera, la desviación estándar es simplemente el \"promedio\" o variación esperada con respecto a la medida aritmética. Se define como la raíz cuadrada de la varianza de la variable\n",
    "\n",
    "<center> $S = \\sqrt{\\frac{\\sum (X - \\overline{X})^2}{n}}$ </center>"
   ],
   "id": "24b82e713fc525f8"
  }
 ],
 "metadata": {
  "kernelspec": {
   "display_name": "Python 3",
   "language": "python",
   "name": "python3"
  },
  "language_info": {
   "codemirror_mode": {
    "name": "ipython",
    "version": 2
   },
   "file_extension": ".py",
   "mimetype": "text/x-python",
   "name": "python",
   "nbconvert_exporter": "python",
   "pygments_lexer": "ipython2",
   "version": "2.7.6"
  }
 },
 "nbformat": 4,
 "nbformat_minor": 5
}
